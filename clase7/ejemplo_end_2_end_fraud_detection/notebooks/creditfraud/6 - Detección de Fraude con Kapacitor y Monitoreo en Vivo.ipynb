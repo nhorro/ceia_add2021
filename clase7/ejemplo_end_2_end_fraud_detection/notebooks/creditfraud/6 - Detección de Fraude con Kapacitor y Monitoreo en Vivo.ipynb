{
 "cells": [
  {
   "cell_type": "markdown",
   "metadata": {},
   "source": [
    "# 6 - Detección de Fraude con Kapacitor y Monitoreo en Vivo\n",
    "\n",
    "Este cuaderno se utiliza para simular datos de entrada utilizando el dataset de test. \n",
    "Se generan datos de nuevas operaciones periodicamente que se cargan en InfluxDB y pueden ser visualizadas en Grafana.\n",
    "\n",
    "Además, se utiliza el servicio Kapacitor (y Cronograph como administrador de sus reglas y alertas activas) para ejecutar un servicio de procesamiento básico que por cada nuevo dato recibido *TMV_CREDIT_OPERATION* lo clasifica utilizando el servicio REST presentado anteriormente y genera una nueva variable llamada *TMV_CREDIT_OPERATION_RESULT* en la base de datos con el resultado del análisis."
   ]
  },
  {
   "cell_type": "markdown",
   "metadata": {},
   "source": [
    "El script de Kapacitor 'FraudDetection.tick' en este caso es sencillo:\n",
    "\n",
    "~~~tick\n",
    "dbrp \"my_application\".\"autogen\"\n",
    "\n",
    "stream\n",
    "    |from()\n",
    "        .measurement('TMV_CREDIT_OPERATION')\n",
    "    @udf_ml_model()\n",
    "    |influxDBOut()\n",
    "        .database('my_application')\n",
    "        .measurement('TMV_CREDIT_OPERATION_RESULT')\n",
    "~~~\n",
    "\n",
    "Kapacitor opera de dos maneras. Por lote (batch) o por flujo (stream). En el primer caso se ejecuta una regla para un grupo de muestras ocurridas en un intervalo de tiempo. En el segundo caso se activa una regla ante la llegada de una nueva muestra. Aquí se utiliza el modo flujo porque interesa reaccionar ante cada nueva operación para determinar si debe activarse la alarma de fraude.\n",
    "El código anterior se suscribe a las variables llamadas TMV_CREDIT_OPERATION y ante cada nueva muestra le aplicará la función *udf_ml_model* (esta función se comunica por medio de un socket con un agente de Kapacitor que permite ejecutar funciones externas escritas en otros lenguajes, como por ejemplo Python o Go).\n",
    "\n",
    "La función *udf_ml_model()* está implementada en un container llamado kapacitor_udf siguiendo los instructivos y tutoriales del sitio oficial: [Kapacitor - Kapacitor is a real-time streaming data processing engine.](https://www.influxdata.com/time-series-platform/kapacitor/)"
   ]
  },
  {
   "cell_type": "markdown",
   "metadata": {},
   "source": [
    "## 6.1 Configuración de InfluxDB, Kapacitor, UDF y Grafana\n",
    "\n",
    "A continuación se indica como configurar los servicios y monitorear operaciones simuladas."
   ]
  },
  {
   "cell_type": "markdown",
   "metadata": {},
   "source": [
    "1. Abrir dashboard [Grafana - analisis-de-fraude-en-operaciones-con-tarjetas-de-credito](http://localhost:3000/d/OSt1HwhMz3/analisis-de-fraude-en-operaciones-con-tarjetas-de-credito?orgId=1&refresh=1s). (En caso de que no esté importarlo del directorio 'dashboards' adentro de compose/grafana/dashboards).\n",
    "\n",
    "Cuando no se están recibiendo datos se debería observar algo así:\n",
    "\n",
    "![grafana_no_data](creditfraud_grafana_no_data.png)"
   ]
  },
  {
   "cell_type": "markdown",
   "metadata": {},
   "source": [
    "Por problemas en la secuencia de inicio de servicios, a veces Kapacitor y el agente de Kapacitor para las User Defined Functions (UDF)  pueden no haberse iniciado por errores de conexión o de acceso a recursos. Para solucionarlo, basta con reiniciarlos en este orden:\n",
    "\n",
    "2. Reiniciar UDF de kapacitor\n",
    "\n",
    "~~~bash\n",
    "cd compose\n",
    "./restart-kapacitor-udf.sh\n",
    "~~~\n",
    "\n",
    "Debe verse: \n",
    "\n",
    "~~~bash\n",
    "2020-12-29 02:02:12,257 INFO:root: Started server. Listening at: /tmp/comm/udf_ml_model.sock\n",
    "~~~\n",
    "\n",
    "3. Reiniciar kapacitor.\n",
    "\n",
    "~~~bash\n",
    "cd compose\n",
    "./restart-kapacitor.sh\n",
    "~~~\n",
    "\n",
    "4. Conectarse a Cronograph y verificar que la conexión con InfluxDB y Kapacitor está establecida.\n",
    "5. Verificar que el TICKScript FraudDetection está habilitado."
   ]
  },
  {
   "cell_type": "markdown",
   "metadata": {},
   "source": [
    "## 6.2 Inyección de datos (mock)\n",
    "\n",
    "El código que sigue es para generar datos periódicamente obtenidos del dataset de test (se utiliza muestreo aleatorio con reemplazo)."
   ]
  },
  {
   "cell_type": "code",
   "execution_count": 1,
   "metadata": {},
   "outputs": [],
   "source": [
    "DATASET_PATH = '/data/credit_fraud/'"
   ]
  },
  {
   "cell_type": "code",
   "execution_count": 2,
   "metadata": {},
   "outputs": [],
   "source": [
    "import pandas as pd\n",
    "import numpy as np"
   ]
  },
  {
   "cell_type": "code",
   "execution_count": 3,
   "metadata": {},
   "outputs": [],
   "source": [
    "test_df = pd.read_csv(DATASET_PATH+\"creditcard_test.csv\")"
   ]
  },
  {
   "cell_type": "code",
   "execution_count": 4,
   "metadata": {},
   "outputs": [
    {
     "data": {
      "text/plain": [
       "['v1',\n",
       " 'v2',\n",
       " 'v3',\n",
       " 'v4',\n",
       " 'v5',\n",
       " 'v6',\n",
       " 'v7',\n",
       " 'v8',\n",
       " 'v9',\n",
       " 'v10',\n",
       " 'v11',\n",
       " 'v12',\n",
       " 'v13',\n",
       " 'v14',\n",
       " 'v15',\n",
       " 'v16',\n",
       " 'v17',\n",
       " 'v18',\n",
       " 'v19',\n",
       " 'v20',\n",
       " 'v21',\n",
       " 'v22',\n",
       " 'v23',\n",
       " 'v24',\n",
       " 'v25',\n",
       " 'v26',\n",
       " 'v27',\n",
       " 'v28',\n",
       " 'amount']"
      ]
     },
     "execution_count": 4,
     "metadata": {},
     "output_type": "execute_result"
    }
   ],
   "source": [
    "non_feature_cols = ['Unnamed: 0','time','row_id','class']\n",
    "feature_cols = [x for x in test_df.columns if x not in non_feature_cols]\n",
    "feature_cols"
   ]
  },
  {
   "cell_type": "markdown",
   "metadata": {},
   "source": [
    "Mock para inyectar valores de prueba en InfluxDB"
   ]
  },
  {
   "cell_type": "code",
   "execution_count": null,
   "metadata": {},
   "outputs": [],
   "source": [
    "import threading\n",
    "import time\n",
    "import math\n",
    "import datetime\n",
    "from influxdb import InfluxDBClient\n",
    "\n",
    "class InfluxDBPublisher(threading.Thread):\n",
    "    def __init__(self):\n",
    "        threading.Thread.__init__(self)\n",
    "        self.keep_running = True\n",
    "        self.client = InfluxDBClient(host='influxdb', port=8086, username='root', password='root',\n",
    "                                     database=\"my_application\")\n",
    "    def run(self):\n",
    "        while self.keep_running:\n",
    "            time.sleep(0.5)\n",
    "            json_body = []\n",
    "            ts = datetime.datetime.utcnow()\n",
    "            row = test_df.sample(1)\n",
    "            fields = {}\n",
    "            for f in feature_cols:\n",
    "                fields[f] = row[f].values[0]             \n",
    "            json_body.append(\n",
    "                {\n",
    "                    \"measurement\": f\"TMV_CREDIT_OPERATION\",\n",
    "                    \"time\": ts,\n",
    "                    \"fields\": fields\n",
    "                }\n",
    "            )\n",
    "            self.client.write_points(json_body)\n",
    "\n",
    "    def stop(self):\n",
    "        self.keep_running = False\n",
    "        self.join()\n",
    "\n",
    "\n",
    "pub = InfluxDBPublisher()\n",
    "pub.start()\n",
    "input(\"Press any key to stop\")\n",
    "pub.stop()"
   ]
  },
  {
   "cell_type": "markdown",
   "metadata": {},
   "source": [
    "Cuando están funcionando correctamente todos los servicios deberán verse tanto las operaciones publicadas como los resultados de análisis."
   ]
  },
  {
   "cell_type": "markdown",
   "metadata": {},
   "source": [
    "![grafana_data](creditfraud_grafana_data.png)"
   ]
  }
 ],
 "metadata": {
  "kernelspec": {
   "display_name": "Python 3",
   "language": "python",
   "name": "python3"
  },
  "language_info": {
   "codemirror_mode": {
    "name": "ipython",
    "version": 3
   },
   "file_extension": ".py",
   "mimetype": "text/x-python",
   "name": "python",
   "nbconvert_exporter": "python",
   "pygments_lexer": "ipython3",
   "version": "3.7.10"
  }
 },
 "nbformat": 4,
 "nbformat_minor": 4
}
