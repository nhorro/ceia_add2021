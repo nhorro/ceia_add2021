{
 "cells": [
  {
   "cell_type": "markdown",
   "id": "1f587f58",
   "metadata": {
    "id": "81jJguvc5xxh",
    "slideshow": {
     "slide_type": "slide"
    }
   },
   "source": [
    "## Proyección de variables\n",
    "### Análisis de Componentes Principales (PCA)"
   ]
  },
  {
   "cell_type": "markdown",
   "id": "f5bf2bf1",
   "metadata": {
    "slideshow": {
     "slide_type": "fragment"
    }
   },
   "source": [
    "#### Idea detrás de PCA\n",
    "PCA busca proyectar los datos en un espacio lineal (de menor dimensión), llamado *subespacio principal*, tal que la varianza en los datos proyectados sea máxima. \n",
    "\n",
    "En otras palabras, busco las direcciones donde los datos presentan mayor variabilidad, y proyecto los datos sobre esas direcciones."
   ]
  },
  {
   "cell_type": "code",
   "execution_count": 1,
   "id": "d2bf48f3",
   "metadata": {
    "cell_style": "split",
    "hide_input": true,
    "scrolled": true,
    "slideshow": {
     "slide_type": "subslide"
    },
    "tags": []
   },
   "outputs": [
    {
     "data": {
      "image/png": "[encoded data removed]",
      "text/plain": [
       "<Figure size 432x288 with 1 Axes>"
      ]
     },
     "metadata": {
      "needs_background": "light"
     },
     "output_type": "display_data"
    }
   ],
   "source": [
    "import numpy as np\n",
    "import matplotlib.pyplot as plt\n",
    "z = np.random.multivariate_normal(mean = np.array([-1,2]), cov=np.array([[2,.7*2],[0.7*2,2]]),size=300)\n",
    "plt.scatter(z[:,0],z[:,1])\n",
    "plt.axhline(color='xkcd:slate grey')\n",
    "plt.axvline(color='xkcd:slate grey')\n",
    "plt.xlim(-7,5)\n",
    "plt.ylim(-5,8)\n",
    "\n",
    "plt.axis('equal');"
   ]
  },
  {
   "cell_type": "code",
   "execution_count": 2,
   "id": "ffd5560b",
   "metadata": {
    "cell_style": "split",
    "hide_input": true,
    "slideshow": {
     "slide_type": "notes"
    },
    "tags": []
   },
   "outputs": [
    {
     "data": {
      "image/png": "[encoded data removed]",
      "text/plain": [
       "<Figure size 432x288 with 1 Axes>"
      ]
     },
     "metadata": {
      "needs_background": "light"
     },
     "output_type": "display_data"
    }
   ],
   "source": [
    "plt.scatter(z[:,0],z[:,1])\n",
    "plt.xlim(-7,5)\n",
    "plt.ylim(-5,8)\n",
    "plt.axhline(color='xkcd:slate grey')\n",
    "plt.axvline(color='xkcd:slate grey')\n",
    "\n",
    "from sklearn.decomposition import PCA\n",
    "\n",
    "def draw_vector(v0, v1, ax=None):\n",
    "    ax = ax or plt.gca()\n",
    "    arrowprops=dict(arrowstyle='->',\n",
    "                    linewidth=2,\n",
    "                    shrinkA=0, shrinkB=0)\n",
    "    ax.annotate('', v1, v0, arrowprops=arrowprops)\n",
    "\n",
    "pca = PCA(n_components = 2).fit(z)\n",
    "\n",
    "for length, vector in zip(pca.explained_variance_, pca.components_):\n",
    "    v = vector * 3 * np.sqrt(length)\n",
    "    draw_vector(pca.mean_, pca.mean_ + v)\n",
    "#plt.xlim(-7,5)  \n",
    "\n",
    "#plt.ylim(-5,8);\n",
    "plt.axis('equal');"
   ]
  },
  {
   "cell_type": "markdown",
   "id": "29f7c715",
   "metadata": {
    "slideshow": {
     "slide_type": "slide"
    }
   },
   "source": [
    "#### ¿Cómo encontramos las direcciones de máxima varianza?\n",
    "\n",
    "##### Idea de demostración:\n",
    "Supongamos que tenemos una matriz $\\mathbf{X} \\in \\mathbb{R}^{n\\times p}$ una matriz de $n$ observaciones de $p$ variables (i.e. cada columna es un feature y cada fila una muestra). Buscamos hallar las $m\\leq p$ direcciones que maximicen la varianza de las muestras. \n",
    "\n",
    "Primero hallamos $\\boldsymbol{\\alpha_1} \\in \\mathbb{R}^n$ tq. $\\boldsymbol{\\alpha_1}^T \\mathbf{X}$ sea máximo sujeto a $\\boldsymbol{\\alpha_1}^T \\boldsymbol{\\alpha_1}=1$\n",
    "\n",
    "Luego buscamos $\\boldsymbol{\\alpha_2}\\in \\mathbb{R}^n$ tq. $\\boldsymbol{\\alpha_2}^T \\mathbf{X}$ sea máximo sujeto a $\\boldsymbol{\\alpha_2}^T \\boldsymbol{\\alpha_2}=1$ y además $\\boldsymbol{\\alpha_2}^T \\mathbf{X}$ esté descorrelacionado con $\\boldsymbol{\\alpha_1}^T \\mathbf{X}$, i.e. $\\boldsymbol{\\alpha_2} \\perp \\boldsymbol{\\alpha_1}$.\n",
    "\n",
    "Se prosigue de la misma forma hasta hallar los $m$ vectores $\\boldsymbol{\\alpha_1},\\ldots,\\boldsymbol{\\alpha_m}$.\n",
    "\n",
    "Notar que por definición la matriz $\\boldsymbol{\\alpha}_m = \\left[ \\boldsymbol{\\alpha_1}\\ \\ldots\\ \\boldsymbol{\\alpha_m}\\right]$ es ortonormal, y por lo tanto define una matriz de proyección. "
   ]
  },
  {
   "cell_type": "markdown",
   "id": "ccc9135f",
   "metadata": {
    "slideshow": {
     "slide_type": "slide"
    }
   },
   "source": [
    "Definiendo $\\tilde{\\Sigma} = (\\mathbf{X}-\\bar{\\mathbf{X}})^T(\\mathbf{X}-\\bar{\\mathbf{X}})$ la matriz de covarianza muestral, los $\\boldsymbol{\\alpha_i}$ están asociados a los $m$ primeros autovectores de $\\tilde{\\Sigma}$.\n",
    "\n",
    "Al ser $\\tilde{\\Sigma}$ simétrica,\n",
    "$$\\tilde{\\Sigma} = \\mathbf{V} \\mathbf{S} \\mathbf{V}^T,$$\n",
    "donde $\\mathbf{S} = diag(\\lambda_1,\\ldots,\\lambda_p)$ con $\\lambda_1\\geq\\ldots\\geq\\lambda_p$ los autovalores de $\\tilde{\\Sigma}$, y $\\mathbf{V} = [\\mathbf{v}_1, \\ldots, \\mathbf{v}_p]$ con $\\mathbf{v}_i$ el autovector asociado a $\\lambda_i$. \n",
    "\n",
    "\n",
    "Se concluye que $\\boldsymbol{\\alpha}_m = \\mathbf{V}_m$, donde $\\mathbf{V}_m =[ \\mathbf{v}_1,\\ldots,\\mathbf{v}_m]$ \n",
    "\n",
    "Los datos transformados resultan $\\mathbf{\\hat{X}} = \\mathbf{X} \\mathbf{V}_m$"
   ]
  },
  {
   "cell_type": "markdown",
   "id": "57f5e0dd",
   "metadata": {
    "id": "S8TOyk_bE4cg",
    "slideshow": {
     "slide_type": "slide"
    }
   },
   "source": [
    "#### Implementación Paso a paso con un ejemplo sencillo"
   ]
  },
  {
   "cell_type": "code",
   "execution_count": 3,
   "id": "5fecbba8",
   "metadata": {
    "id": "MZ1s5RoR5_Zy",
    "slideshow": {
     "slide_type": "skip"
    }
   },
   "outputs": [],
   "source": [
    "import numpy as np"
   ]
  },
  {
   "cell_type": "markdown",
   "id": "397e800a",
   "metadata": {
    "id": "ItPAS0kS6Tsc",
    "slideshow": {
     "slide_type": "fragment"
    }
   },
   "source": [
    "$X$ es una matriz de $n$ filas por $p$ columnas donde cada columna representa una feature o característica y cada fila una muestra.\n",
    "\n",
    "$$\n",
    "X =\n",
    "\\begin{bmatrix}\n",
    "x_{11} & x_{12} &  ... & x_{1p} \\\\\n",
    "x_{21} & x_{22} &  ... & x_{2p} \\\\\n",
    "... & ... &  ... & ... \\\\\n",
    "x_{n1} & x_{n2} &  ... & x_{np} \\\\\n",
    "\\end{bmatrix}\n",
    "$$"
   ]
  },
  {
   "cell_type": "code",
   "execution_count": 4,
   "id": "de42800f",
   "metadata": {
    "colab": {
     "base_uri": "https://localhost:8080/"
    },
    "executionInfo": {
     "elapsed": 749,
     "status": "ok",
     "timestamp": 1613400845456,
     "user": {
      "displayName": "Nicolas Horro",
      "photoUrl": "https://lh4.googleusercontent.com/--3DXBeoKCHg/AAAAAAAAAAI/AAAAAAAAAY0/pAcXsaDcvLQ/s64/photo.jpg",
      "userId": "02428399203512836803"
     },
     "user_tz": 180
    },
    "id": "POG_2xRe6D4x",
    "outputId": "88aefb8e-b6f5-42d1-bddb-6708c8e9c3c2",
    "slideshow": {
     "slide_type": "fragment"
    }
   },
   "outputs": [
    {
     "data": {
      "text/plain": [
       "array([[1, 2],\n",
       "       [3, 4],\n",
       "       [5, 6]])"
      ]
     },
     "execution_count": 4,
     "metadata": {},
     "output_type": "execute_result"
    }
   ],
   "source": [
    "X = np.array([\n",
    "  [1,2],\n",
    "  [3,4],\n",
    "  [5,6]\n",
    "])\n",
    "X"
   ]
  },
  {
   "cell_type": "markdown",
   "id": "8bb7e32b",
   "metadata": {
    "id": "H5K6TOwJLckZ",
    "slideshow": {
     "slide_type": "subslide"
    }
   },
   "source": [
    "1) Calcular el promedio de cada columna."
   ]
  },
  {
   "cell_type": "code",
   "execution_count": 5,
   "id": "7920ce9e",
   "metadata": {
    "colab": {
     "base_uri": "https://localhost:8080/"
    },
    "executionInfo": {
     "elapsed": 810,
     "status": "ok",
     "timestamp": 1613400908320,
     "user": {
      "displayName": "Nicolas Horro",
      "photoUrl": "https://lh4.googleusercontent.com/--3DXBeoKCHg/AAAAAAAAAAI/AAAAAAAAAY0/pAcXsaDcvLQ/s64/photo.jpg",
      "userId": "02428399203512836803"
     },
     "user_tz": 180
    },
    "id": "HLU3lSmp6KR5",
    "outputId": "37ec8296-c8d2-4765-a4c9-75212b4d92d5",
    "slideshow": {
     "slide_type": "fragment"
    }
   },
   "outputs": [
    {
     "data": {
      "text/plain": [
       "array([3., 4.])"
      ]
     },
     "execution_count": 5,
     "metadata": {},
     "output_type": "execute_result"
    }
   ],
   "source": [
    "X_mean = np.mean(X,axis=0)\n",
    "X_mean"
   ]
  },
  {
   "cell_type": "markdown",
   "id": "24a1caeb",
   "metadata": {
    "id": "dAyDnW8_ME89",
    "slideshow": {
     "slide_type": "subslide"
    }
   },
   "source": [
    "2) Centrar cada columna substrayendo su media calculada en el paso anterior."
   ]
  },
  {
   "cell_type": "code",
   "execution_count": 6,
   "id": "07ed55c0",
   "metadata": {
    "colab": {
     "base_uri": "https://localhost:8080/"
    },
    "executionInfo": {
     "elapsed": 798,
     "status": "ok",
     "timestamp": 1613400850211,
     "user": {
      "displayName": "Nicolas Horro",
      "photoUrl": "https://lh4.googleusercontent.com/--3DXBeoKCHg/AAAAAAAAAAI/AAAAAAAAAY0/pAcXsaDcvLQ/s64/photo.jpg",
      "userId": "02428399203512836803"
     },
     "user_tz": 180
    },
    "id": "f2NR9slS9-LN",
    "outputId": "94eb9082-69a4-45ea-f11f-26932bc2c803",
    "slideshow": {
     "slide_type": "fragment"
    }
   },
   "outputs": [
    {
     "data": {
      "text/plain": [
       "array([[-2., -2.],\n",
       "       [ 0.,  0.],\n",
       "       [ 2.,  2.]])"
      ]
     },
     "execution_count": 6,
     "metadata": {},
     "output_type": "execute_result"
    }
   ],
   "source": [
    "X_std = X - X_mean\n",
    "X_std"
   ]
  },
  {
   "cell_type": "markdown",
   "id": "35cb723d",
   "metadata": {
    "id": "Ld5kd9UfMRD2",
    "slideshow": {
     "slide_type": "subslide"
    }
   },
   "source": [
    "3) Calcular la matriz de covarianza. \n",
    "Explicar: ¿porqué se calcula el transpuesto?"
   ]
  },
  {
   "cell_type": "code",
   "execution_count": 7,
   "id": "95f1afd1",
   "metadata": {
    "colab": {
     "base_uri": "https://localhost:8080/"
    },
    "executionInfo": {
     "elapsed": 764,
     "status": "ok",
     "timestamp": 1613400860376,
     "user": {
      "displayName": "Nicolas Horro",
      "photoUrl": "https://lh4.googleusercontent.com/--3DXBeoKCHg/AAAAAAAAAAI/AAAAAAAAAY0/pAcXsaDcvLQ/s64/photo.jpg",
      "userId": "02428399203512836803"
     },
     "user_tz": 180
    },
    "id": "zY5f2Msm-L3J",
    "outputId": "05f1715c-a841-4378-ebc6-374ad5932a77",
    "slideshow": {
     "slide_type": "fragment"
    }
   },
   "outputs": [
    {
     "data": {
      "text/plain": [
       "array([[4., 4.],\n",
       "       [4., 4.]])"
      ]
     },
     "execution_count": 7,
     "metadata": {},
     "output_type": "execute_result"
    }
   ],
   "source": [
    "X_cov = np.cov(X_std.T)\n",
    "X_cov"
   ]
  },
  {
   "cell_type": "markdown",
   "id": "78deffa6",
   "metadata": {
    "id": "JPG34l2BMdKr",
    "slideshow": {
     "slide_type": "subslide"
    }
   },
   "source": [
    "4) Obtener los autovalores y autovectores de la matriz de covarianza."
   ]
  },
  {
   "cell_type": "code",
   "execution_count": 8,
   "id": "b4326380",
   "metadata": {
    "colab": {
     "base_uri": "https://localhost:8080/"
    },
    "executionInfo": {
     "elapsed": 713,
     "status": "ok",
     "timestamp": 1613400867070,
     "user": {
      "displayName": "Nicolas Horro",
      "photoUrl": "https://lh4.googleusercontent.com/--3DXBeoKCHg/AAAAAAAAAAI/AAAAAAAAAY0/pAcXsaDcvLQ/s64/photo.jpg",
      "userId": "02428399203512836803"
     },
     "user_tz": 180
    },
    "id": "a12HZijC-Y7I",
    "outputId": "af95214e-3b6c-4632-b59c-5e9d41042d51",
    "slideshow": {
     "slide_type": "fragment"
    }
   },
   "outputs": [
    {
     "data": {
      "text/plain": [
       "array([8., 0.])"
      ]
     },
     "execution_count": 8,
     "metadata": {},
     "output_type": "execute_result"
    }
   ],
   "source": [
    "values, vectors = np.linalg.eig(X_cov)\n",
    "values"
   ]
  },
  {
   "cell_type": "code",
   "execution_count": 9,
   "id": "4eb48429",
   "metadata": {
    "colab": {
     "base_uri": "https://localhost:8080/"
    },
    "executionInfo": {
     "elapsed": 940,
     "status": "ok",
     "timestamp": 1613400870163,
     "user": {
      "displayName": "Nicolas Horro",
      "photoUrl": "https://lh4.googleusercontent.com/--3DXBeoKCHg/AAAAAAAAAAI/AAAAAAAAAY0/pAcXsaDcvLQ/s64/photo.jpg",
      "userId": "02428399203512836803"
     },
     "user_tz": 180
    },
    "id": "4LPl8JE7EpA1",
    "outputId": "83f68d37-ae43-4340-b9d9-0aad2d47ba9f",
    "slideshow": {
     "slide_type": "fragment"
    }
   },
   "outputs": [
    {
     "data": {
      "text/plain": [
       "array([[ 0.70710678, -0.70710678],\n",
       "       [ 0.70710678,  0.70710678]])"
      ]
     },
     "execution_count": 9,
     "metadata": {},
     "output_type": "execute_result"
    }
   ],
   "source": [
    "vectors"
   ]
  },
  {
   "cell_type": "markdown",
   "id": "fb2ae174",
   "metadata": {
    "id": "3FSNyOEjMmME",
    "slideshow": {
     "slide_type": "subslide"
    }
   },
   "source": [
    "5) Finalmente, calcular el espacio reducido proyectando sobre los autovectores."
   ]
  },
  {
   "cell_type": "code",
   "execution_count": 10,
   "id": "0cdf9de7",
   "metadata": {
    "colab": {
     "base_uri": "https://localhost:8080/"
    },
    "executionInfo": {
     "elapsed": 964,
     "status": "ok",
     "timestamp": 1613400879384,
     "user": {
      "displayName": "Nicolas Horro",
      "photoUrl": "https://lh4.googleusercontent.com/--3DXBeoKCHg/AAAAAAAAAAI/AAAAAAAAAY0/pAcXsaDcvLQ/s64/photo.jpg",
      "userId": "02428399203512836803"
     },
     "user_tz": 180
    },
    "id": "SXNwshiP-mwL",
    "outputId": "e6f781e4-a522-4e3f-bc33-745d27f2004e",
    "slideshow": {
     "slide_type": "fragment"
    }
   },
   "outputs": [
    {
     "data": {
      "text/plain": [
       "array([[-2.82842712,  0.        ],\n",
       "       [ 0.        ,  0.        ],\n",
       "       [ 2.82842712,  0.        ]])"
      ]
     },
     "execution_count": 10,
     "metadata": {},
     "output_type": "execute_result"
    }
   ],
   "source": [
    "X_red = vectors.T.dot(X_std.T)\n",
    "X_red.T"
   ]
  },
  {
   "cell_type": "markdown",
   "id": "ea257b00",
   "metadata": {
    "id": "3C5HnzIOMzya",
    "slideshow": {
     "slide_type": "subslide"
    }
   },
   "source": [
    "Finalmente, se puede implementar lo anterior en una clase similar a las que presenta Scikit Learn.\n"
   ]
  },
  {
   "cell_type": "code",
   "execution_count": 11,
   "id": "8c3b8b9b",
   "metadata": {
    "id": "zqnYY-SjFH75",
    "slideshow": {
     "slide_type": "fragment"
    }
   },
   "outputs": [],
   "source": [
    "class MyPCA:\n",
    "  def __init__(self, n_components = None):\n",
    "    self.components_ = None\n",
    "    self.X_mean = None\n",
    "    self.n_components_ = n_components\n",
    "    pass\n",
    "\n",
    "  def fit(self,X):\n",
    "    self.X_mean = X.mean(axis=0)\n",
    "    X_std = X - self.X_mean\n",
    "    X_cov = np.cov(X_std.T) # X^T X\n",
    "    _, self.components_ = np.linalg.eig(X_cov)\n",
    "\n",
    "    if self.n_components_:\n",
    "        self.components_ = self.components_[:,:self.n_components_]\n",
    "  def transform(self,X):    \n",
    "    return (X-self.X_mean).dot(self.components_)"
   ]
  },
  {
   "cell_type": "markdown",
   "id": "8b7cc2ef",
   "metadata": {
    "id": "xoweRsqjE7hv",
    "slideshow": {
     "slide_type": "slide"
    }
   },
   "source": [
    "#### Comparación de resultado con scikit-learn"
   ]
  },
  {
   "cell_type": "code",
   "execution_count": 12,
   "id": "e1402f73",
   "metadata": {
    "id": "HJ9n4CrRGH3b",
    "slideshow": {
     "slide_type": "fragment"
    }
   },
   "outputs": [],
   "source": [
    "from sklearn.decomposition import PCA\n",
    "\n",
    "sk_pca = PCA()\n",
    "my_pca = MyPCA()"
   ]
  },
  {
   "cell_type": "code",
   "execution_count": 13,
   "id": "20968859",
   "metadata": {
    "id": "Tqb70pIZGYRg",
    "slideshow": {
     "slide_type": "fragment"
    }
   },
   "outputs": [],
   "source": [
    "sk_pca.fit(X)\n",
    "my_pca.fit(X)"
   ]
  },
  {
   "cell_type": "code",
   "execution_count": 14,
   "id": "3cb6f827",
   "metadata": {
    "colab": {
     "base_uri": "https://localhost:8080/"
    },
    "executionInfo": {
     "elapsed": 729,
     "status": "ok",
     "timestamp": 1613401466736,
     "user": {
      "displayName": "Nicolas Horro",
      "photoUrl": "https://lh4.googleusercontent.com/--3DXBeoKCHg/AAAAAAAAAAI/AAAAAAAAAY0/pAcXsaDcvLQ/s64/photo.jpg",
      "userId": "02428399203512836803"
     },
     "user_tz": 180
    },
    "id": "WOxd3G3LNy1e",
    "outputId": "fb2f2a8b-2c29-4c31-8e6a-b18a791fd559",
    "slideshow": {
     "slide_type": "subslide"
    }
   },
   "outputs": [
    {
     "data": {
      "text/plain": [
       "array([[ 0.70710678,  0.70710678],\n",
       "       [ 0.70710678, -0.70710678]])"
      ]
     },
     "execution_count": 14,
     "metadata": {},
     "output_type": "execute_result"
    }
   ],
   "source": [
    "sk_pca.components_"
   ]
  },
  {
   "cell_type": "code",
   "execution_count": 15,
   "id": "1191b329",
   "metadata": {
    "colab": {
     "base_uri": "https://localhost:8080/"
    },
    "executionInfo": {
     "elapsed": 772,
     "status": "ok",
     "timestamp": 1613401469201,
     "user": {
      "displayName": "Nicolas Horro",
      "photoUrl": "https://lh4.googleusercontent.com/--3DXBeoKCHg/AAAAAAAAAAI/AAAAAAAAAY0/pAcXsaDcvLQ/s64/photo.jpg",
      "userId": "02428399203512836803"
     },
     "user_tz": 180
    },
    "id": "EBKtxRHNN7SV",
    "outputId": "57c281c7-4ddc-4fd7-bfc6-bb4c0c7c40e8",
    "slideshow": {
     "slide_type": "fragment"
    }
   },
   "outputs": [
    {
     "data": {
      "text/plain": [
       "array([[ 0.70710678, -0.70710678],\n",
       "       [ 0.70710678,  0.70710678]])"
      ]
     },
     "execution_count": 15,
     "metadata": {},
     "output_type": "execute_result"
    }
   ],
   "source": [
    "my_pca.components_"
   ]
  },
  {
   "cell_type": "code",
   "execution_count": 16,
   "id": "be7c8286",
   "metadata": {
    "colab": {
     "base_uri": "https://localhost:8080/"
    },
    "executionInfo": {
     "elapsed": 848,
     "status": "ok",
     "timestamp": 1613401472905,
     "user": {
      "displayName": "Nicolas Horro",
      "photoUrl": "https://lh4.googleusercontent.com/--3DXBeoKCHg/AAAAAAAAAAI/AAAAAAAAAY0/pAcXsaDcvLQ/s64/photo.jpg",
      "userId": "02428399203512836803"
     },
     "user_tz": 180
    },
    "id": "7ZNm_WZQGeLx",
    "outputId": "2440178f-f9c3-4817-cd9e-0e76149c7ebe",
    "slideshow": {
     "slide_type": "subslide"
    }
   },
   "outputs": [
    {
     "data": {
      "text/plain": [
       "array([[-2.82842712e+00,  2.22044605e-16],\n",
       "       [ 0.00000000e+00,  0.00000000e+00],\n",
       "       [ 2.82842712e+00, -2.22044605e-16]])"
      ]
     },
     "execution_count": 16,
     "metadata": {},
     "output_type": "execute_result"
    }
   ],
   "source": [
    "sk_pca.transform(X)"
   ]
  },
  {
   "cell_type": "code",
   "execution_count": 17,
   "id": "2f03e7f9",
   "metadata": {
    "colab": {
     "base_uri": "https://localhost:8080/"
    },
    "executionInfo": {
     "elapsed": 764,
     "status": "ok",
     "timestamp": 1613401475783,
     "user": {
      "displayName": "Nicolas Horro",
      "photoUrl": "https://lh4.googleusercontent.com/--3DXBeoKCHg/AAAAAAAAAAI/AAAAAAAAAY0/pAcXsaDcvLQ/s64/photo.jpg",
      "userId": "02428399203512836803"
     },
     "user_tz": 180
    },
    "id": "Dl446GgaGhVz",
    "outputId": "c04ea6cb-661e-46cb-e10f-482d61936102",
    "slideshow": {
     "slide_type": "fragment"
    }
   },
   "outputs": [
    {
     "data": {
      "text/plain": [
       "array([[-2.82842712,  0.        ],\n",
       "       [ 0.        ,  0.        ],\n",
       "       [ 2.82842712,  0.        ]])"
      ]
     },
     "execution_count": 17,
     "metadata": {},
     "output_type": "execute_result"
    }
   ],
   "source": [
    "my_pca.transform(X)"
   ]
  },
  {
   "cell_type": "code",
   "execution_count": 18,
   "id": "2a7f8126",
   "metadata": {
    "id": "VnuU2G-fLHt7",
    "slideshow": {
     "slide_type": "subslide"
    }
   },
   "outputs": [],
   "source": [
    "assert(\n",
    "    np.all(\n",
    "        np.isclose(\n",
    "            sk_pca.transform(X), \n",
    "            my_pca.transform(X)\n",
    "        )\n",
    "    )\n",
    ")"
   ]
  },
  {
   "cell_type": "markdown",
   "id": "31960a7f",
   "metadata": {
    "slideshow": {
     "slide_type": "slide"
    }
   },
   "source": [
    "#### Veamos que pasa con un caso más interesante"
   ]
  },
  {
   "cell_type": "markdown",
   "id": "dc4e2aff",
   "metadata": {
    "slideshow": {
     "slide_type": "fragment"
    }
   },
   "source": [
    "Veamos que ocurre cuando queremos aplicar PCA al dataset MNIST. El mismo contiene imágenes de dígitos del 0 al 9, escritos a mano. \n",
    "Para ello vamos a descargar el dataset de la página OpenML, usando la función $\\texttt{fetch}$_$\\texttt{openml}$ de Scikit-Learn"
   ]
  },
  {
   "cell_type": "code",
   "execution_count": 19,
   "id": "caf45f6d",
   "metadata": {
    "slideshow": {
     "slide_type": "subslide"
    }
   },
   "outputs": [],
   "source": [
    "from sklearn.datasets import fetch_openml\n",
    "digits = fetch_openml(\"mnist_784\")\n",
    "#print(digits.data.shape)"
   ]
  },
  {
   "cell_type": "code",
   "execution_count": 20,
   "id": "d2cf352c",
   "metadata": {
    "slideshow": {
     "slide_type": "subslide"
    }
   },
   "outputs": [
    {
     "data": {
      "text/plain": [
       "<Figure size 432x288 with 0 Axes>"
      ]
     },
     "metadata": {},
     "output_type": "display_data"
    },
    {
     "data": {
      "image/png": "[encoded data removed]",
      "text/plain": [
       "<Figure size 288x288 with 1 Axes>"
      ]
     },
     "metadata": {
      "needs_background": "light"
     },
     "output_type": "display_data"
    }
   ],
   "source": [
    "(1797, 64)\n",
    "import matplotlib.pyplot as plt \n",
    "plt.gray() \n",
    "plt.matshow(digits.data.iloc[0].values.reshape((28,28)))\n",
    "plt.show() "
   ]
  },
  {
   "cell_type": "code",
   "execution_count": 21,
   "id": "c0be7949",
   "metadata": {
    "slideshow": {
     "slide_type": "subslide"
    }
   },
   "outputs": [
    {
     "name": "stdout",
     "output_type": "stream",
     "text": [
      "(784, 784)\n"
     ]
    }
   ],
   "source": [
    "pca_MNIST = PCA()\n",
    "pca_MNIST.fit(digits.data.values)\n",
    "print(pca_MNIST.components_.shape)"
   ]
  },
  {
   "cell_type": "code",
   "execution_count": 22,
   "id": "132fff82",
   "metadata": {
    "slideshow": {
     "slide_type": "subslide"
    }
   },
   "outputs": [
    {
     "data": {
      "image/png": "[encoded data removed]",
      "text/plain": [
       "<Figure size 936x864 with 28 Axes>"
      ]
     },
     "metadata": {},
     "output_type": "display_data"
    }
   ],
   "source": [
    "n_row = 4\n",
    "n_col = 7\n",
    "\n",
    "# Plot the first 8 eignenvalues\n",
    "plt.figure(figsize=(13,12))\n",
    "for i in list(range(n_row * n_col)):\n",
    "    offset =0\n",
    "    plt.subplot(n_row, n_col, i + 1)\n",
    "    plt.imshow(pca_MNIST.components_[i].reshape(28,28), cmap='jet')\n",
    "    title_text = 'Eigenvalue ' + str(i + 1)\n",
    "    plt.title(title_text, size=6.5)\n",
    "    plt.xticks(())\n",
    "    plt.yticks(())"
   ]
  },
  {
   "cell_type": "markdown",
   "id": "d64c4346",
   "metadata": {
    "slideshow": {
     "slide_type": "slide"
    }
   },
   "source": [
    "#### Criterios de selección del orden.\n",
    "\n",
    "Una pregunta importante es cómo elijo la cantidad $m$ de features a retener. Existen dos enfoques comúnmente usados:\n",
    "- Busco explicar el k% de la varianza de los datos: $m$  es tal que $\\frac{\\sum_{i=1}^m \\sigma_i}{\\sum_{i=1}^p \\sigma_i}100 > k$\n",
    "- Método del codo ('elbow'). Grafico los $\\sigma_i$ y tomo $m$  en el punto de inflexión de la curva.\n",
    "\n",
    "Esto se puede ver con el atributo $\\texttt{explained_variance_ratio_}$"
   ]
  },
  {
   "cell_type": "code",
   "execution_count": 23,
   "id": "09caf217",
   "metadata": {
    "slideshow": {
     "slide_type": "subslide"
    }
   },
   "outputs": [
    {
     "data": {
      "image/png": "[encoded data removed]",
      "text/plain": [
       "<Figure size 432x288 with 1 Axes>"
      ]
     },
     "metadata": {
      "needs_background": "light"
     },
     "output_type": "display_data"
    }
   ],
   "source": [
    "plt.plot(np.cumsum(pca_MNIST.explained_variance_ratio_)); plt.grid(True);"
   ]
  },
  {
   "cell_type": "code",
   "execution_count": 24,
   "id": "aa6838c2",
   "metadata": {
    "slideshow": {
     "slide_type": "subslide"
    }
   },
   "outputs": [
    {
     "data": {
      "image/png": "[encoded data removed]",
      "text/plain": [
       "<Figure size 432x288 with 1 Axes>"
      ]
     },
     "metadata": {
      "needs_background": "light"
     },
     "output_type": "display_data"
    }
   ],
   "source": [
    "plt.plot(pca_MNIST.explained_variance_ratio_); plt.grid(True);"
   ]
  },
  {
   "cell_type": "markdown",
   "id": "15eb3593",
   "metadata": {
    "slideshow": {
     "slide_type": "slide"
    }
   },
   "source": [
    "#### Conclusiones\n",
    "\n",
    "- **Ventajas**:\n",
    "    - Obtengo features descorrelacionados\n",
    "    - No \"tiro\" información de ninguna variable\n",
    "    - Explicable en términos de la matriz de correlación\n",
    "    - No supervisado (sirve para mayor cantidad de problemas)\n",
    "    \n",
    "- **Desventajas**:\n",
    "    - Si el dataset es muy grande puede ser muy costoso de computar\n",
    "    - Pierdo explicabilidad de los features (ahora son una c.l. de las mediciones)\n",
    "\n",
    "- **Observaciones**:\n",
    "    Las direcciones de los componentes principales se pueden ver afectadas por las unidades de medida, por ejemplo un feature es la altura en metros de una persona y otra el peso en gramos). Una práctica común estandarizar las variables para que tengan media 0 y varianza 1 antes de aplicar PCA."
   ]
  },
  {
   "cell_type": "markdown",
   "id": "b7d0fc27",
   "metadata": {
    "id": "pkgRK0kF53kP",
    "slideshow": {
     "slide_type": "slide"
    }
   },
   "source": [
    "### Descomposición en Valores Singulares (SVD)"
   ]
  },
  {
   "cell_type": "markdown",
   "id": "570337fb",
   "metadata": {
    "slideshow": {
     "slide_type": "fragment"
    }
   },
   "source": [
    "La descomposición en valores singulares es muy popular para reducir dimensiones para datos *sparse* (datos donde gran cantidad de los features tiene valor nulo para cada medición). "
   ]
  },
  {
   "cell_type": "markdown",
   "id": "64b79e8c",
   "metadata": {
    "slideshow": {
     "slide_type": "slide"
    }
   },
   "source": [
    "Recordemos un poco la SVD. Tenemos $\\mathbf{X} \\in \\mathbb{R}^{n\\times p}$ una matriz de $n$ observaciones de $p$ variables. Luego, $\\mathbf{X}$ se puede descomponer como \n",
    "\n",
    "$$\\mathbf{X} = \\mathbf{U} \\mathbf{\\Sigma} \\mathbf{V}^T,$$\n",
    "\n",
    "donde $\\mathbf{U}\\in\\mathbb{R}^{n\\times n}$, $\\mathbf{V}\\in\\mathbb{R}^{p\\times p}$ y $\\mathbf{\\Sigma} \\in \\mathbb{R}^{n\\times p}$ es una matriz \"diagonal\"\n",
    "     \n",
    "![SVDdiagram.png](SVDdiagram.png)\n",
    "\n",
    "Análogamente a lo que se hizo para PCA, para reducir las dimensiones podemos proyectar los datos sobre las primeras $k$ columnas de $\\mathbf{V}$\n",
    "$$\\hat{\\mathbf{X}} = \\mathbf{X}\\mathbf{V_k},$$\n",
    "donde $\\mathbf{V}_k = [\\mathbf{v}_1, \\ldots, \\mathbf{v}_k]$"
   ]
  },
  {
   "cell_type": "markdown",
   "id": "6c5f18a7",
   "metadata": {
    "id": "5b7B5DWEs5vG",
    "slideshow": {
     "slide_type": "slide"
    }
   },
   "source": [
    "#### Implementación paso a paso\n",
    " "
   ]
  },
  {
   "cell_type": "markdown",
   "id": "5ac20d66",
   "metadata": {},
   "source": [
    "$\\mathbf{X}$ es una matriz de $n$ filas por $p$ columnas donde cada columna representa una feature o característica y cada fila una muestra.\n",
    "\n",
    "$$\n",
    "\\mathbf{X} =\n",
    "\\begin{bmatrix}\n",
    "x_{11} & x_{12} &  ... & x_{1p} \\\\\n",
    "x_{21} & x_{22} &  ... & x_{2p} \\\\\n",
    "... & ... &  ... & ... \\\\\n",
    "x_{n1} & x_{n2} &  ... & x_{np} \\\\\n",
    "\\end{bmatrix}\n",
    "$$"
   ]
  },
  {
   "cell_type": "code",
   "execution_count": 25,
   "id": "d3c394fd",
   "metadata": {
    "id": "bgxPjAWUtMV7",
    "slideshow": {
     "slide_type": "subslide"
    }
   },
   "outputs": [],
   "source": [
    "import numpy as np\n",
    "from scipy.linalg import svd"
   ]
  },
  {
   "cell_type": "code",
   "execution_count": 26,
   "id": "8ec46aca",
   "metadata": {
    "colab": {
     "base_uri": "https://localhost:8080/"
    },
    "executionInfo": {
     "elapsed": 811,
     "status": "ok",
     "timestamp": 1613426597613,
     "user": {
      "displayName": "Nicolas Horro",
      "photoUrl": "https://lh4.googleusercontent.com/--3DXBeoKCHg/AAAAAAAAAAI/AAAAAAAAAY0/pAcXsaDcvLQ/s64/photo.jpg",
      "userId": "02428399203512836803"
     },
     "user_tz": 180
    },
    "id": "ayfG86YLtUeL",
    "outputId": "d2443515-0b64-4178-8f85-750bfb1657be",
    "slideshow": {
     "slide_type": "fragment"
    }
   },
   "outputs": [
    {
     "data": {
      "text/plain": [
       "array([[ 1,  2,  3,  4,  5,  6,  7,  8,  9, 10],\n",
       "       [11, 12, 13, 14, 15, 16, 17, 18, 19, 20],\n",
       "       [21, 22, 23, 24, 25, 26, 27, 28, 29, 30]])"
      ]
     },
     "execution_count": 26,
     "metadata": {},
     "output_type": "execute_result"
    }
   ],
   "source": [
    "X = np.array([\n",
    "  [1,2,3,4,5,6,7,8,9,10],\n",
    "  [11,12,13,14,15,16,17,18,19,20],\n",
    "  [21,22,23,24,25,26,27,28,29,30]\n",
    "])\n",
    "X"
   ]
  },
  {
   "cell_type": "markdown",
   "id": "1cc89c8f",
   "metadata": {
    "slideshow": {
     "slide_type": "subslide"
    }
   },
   "source": [
    "1) Calculo la descomposición en valores singulares (SVD) de la matriz de datos $\\mathbf{X}$, obteniendo $\\mathbf{U}$, $\\mathbf{\\Sigma}$, $\\mathbf{V}$"
   ]
  },
  {
   "cell_type": "code",
   "execution_count": 27,
   "id": "87d04c00",
   "metadata": {
    "id": "313q9xGMtVHc",
    "slideshow": {
     "slide_type": "skip"
    }
   },
   "outputs": [],
   "source": [
    "U, s, Vt = svd(X)"
   ]
  },
  {
   "cell_type": "markdown",
   "id": "53eb23c8",
   "metadata": {
    "slideshow": {
     "slide_type": "subslide"
    }
   },
   "source": [
    "2) Observo los valores singulares, s para elegir la cantidad de dimensiones a elegir"
   ]
  },
  {
   "cell_type": "code",
   "execution_count": 28,
   "id": "e4b3fabb",
   "metadata": {
    "slideshow": {
     "slide_type": "fragment"
    }
   },
   "outputs": [
    {
     "data": {
      "text/plain": [
       "array([9.69657342e+01, 7.25578339e+00, 1.48879510e-15])"
      ]
     },
     "execution_count": 28,
     "metadata": {},
     "output_type": "execute_result"
    }
   ],
   "source": [
    "s"
   ]
  },
  {
   "cell_type": "markdown",
   "id": "01d066db",
   "metadata": {
    "slideshow": {
     "slide_type": "subslide"
    }
   },
   "source": [
    "3) Retengo las $k$ dimensiones más relevantes, y reduzco las diemensiones de las matrices para hallar $\\mathbf{U}_k$, $\\mathbf{\\Sigma}_k$, $\\mathbf{V}_k$"
   ]
  },
  {
   "cell_type": "code",
   "execution_count": 29,
   "id": "002b07e0",
   "metadata": {
    "id": "L1147SjMuE4u",
    "slideshow": {
     "slide_type": "fragment"
    }
   },
   "outputs": [],
   "source": [
    "k = 2\n",
    "s= s[:k]\n",
    "Vt = Vt[:k,:]\n",
    "U = U[:,:k]"
   ]
  },
  {
   "cell_type": "markdown",
   "id": "29a5fadd",
   "metadata": {
    "slideshow": {
     "slide_type": "subslide"
    }
   },
   "source": [
    "4) Puedo observar la versión \"recuperada\" de $\\mathbf{X}$, y hallo los datos transformados $\\mathbf{T} = \\mathbf{X}\\mathbf{V}_k$ "
   ]
  },
  {
   "cell_type": "code",
   "execution_count": 30,
   "id": "72a2ebb8",
   "metadata": {
    "id": "iQBjKkVXuKqx",
    "slideshow": {
     "slide_type": "fragment"
    }
   },
   "outputs": [
    {
     "data": {
      "text/plain": [
       "array([[ 1.,  2.,  3.,  4.,  5.,  6.,  7.,  8.,  9., 10.],\n",
       "       [11., 12., 13., 14., 15., 16., 17., 18., 19., 20.],\n",
       "       [21., 22., 23., 24., 25., 26., 27., 28., 29., 30.]])"
      ]
     },
     "execution_count": 30,
     "metadata": {},
     "output_type": "execute_result"
    }
   ],
   "source": [
    "X_red = U.dot(np.diag(s).dot(Vt))\n",
    "X_red"
   ]
  },
  {
   "cell_type": "code",
   "execution_count": 31,
   "id": "a247777e",
   "metadata": {
    "colab": {
     "base_uri": "https://localhost:8080/"
    },
    "executionInfo": {
     "elapsed": 769,
     "status": "ok",
     "timestamp": 1613426753334,
     "user": {
      "displayName": "Nicolas Horro",
      "photoUrl": "https://lh4.googleusercontent.com/--3DXBeoKCHg/AAAAAAAAAAI/AAAAAAAAAY0/pAcXsaDcvLQ/s64/photo.jpg",
      "userId": "02428399203512836803"
     },
     "user_tz": 180
    },
    "id": "FaZHlwBJuayy",
    "outputId": "30acdf10-2394-492c-9fd1-be8dddcbd2d7",
    "slideshow": {
     "slide_type": "-"
    }
   },
   "outputs": [
    {
     "data": {
      "text/plain": [
       "array([[-18.52157747,  -6.47697214],\n",
       "       [-49.81310011,  -1.91182038],\n",
       "       [-81.10462276,   2.65333138]])"
      ]
     },
     "execution_count": 31,
     "metadata": {},
     "output_type": "execute_result"
    }
   ],
   "source": [
    "T = X.dot(Vt.T) # seria como el PCA pero sobre los datos sin centrar.\n",
    "T"
   ]
  },
  {
   "cell_type": "markdown",
   "id": "86e37cdc",
   "metadata": {
    "slideshow": {
     "slide_type": "subslide"
    }
   },
   "source": [
    "Nuevamente, podemos implementar una clase con nuestra versión de SVD"
   ]
  },
  {
   "cell_type": "code",
   "execution_count": 32,
   "id": "8f2a0d12",
   "metadata": {
    "slideshow": {
     "slide_type": "fragment"
    }
   },
   "outputs": [],
   "source": [
    "class mySVD:\n",
    "    def __init__(self, n_components = None):\n",
    "        self.U = None\n",
    "        self.s = None\n",
    "        self.V = None\n",
    "        self.n_components = n_components\n",
    "        pass\n",
    "    def fit(self, X):\n",
    "        n,p = X.shape\n",
    "        self.U, self.s, self.V = svd(X)\n",
    "        self.U = self.U[:,:min(n,p)]\n",
    "        self.V = self.V[:min(n,p)].T\n",
    "        if self.n_components:\n",
    "            self.U = self.U[:,:self.n_components]\n",
    "            self.V = self.V[:,:self.n_components]\n",
    "            self.s = self.s[:self.n_components]\n",
    "        pass\n",
    "            \n",
    "    def transform(self, X):\n",
    "        return X.dot(self.V)\n",
    "        "
   ]
  },
  {
   "cell_type": "markdown",
   "id": "f77b3e14",
   "metadata": {
    "id": "N1EzpV49s5x_",
    "slideshow": {
     "slide_type": "slide"
    }
   },
   "source": [
    "#### Comparación de resultado con scikit-learn"
   ]
  },
  {
   "cell_type": "code",
   "execution_count": 33,
   "id": "bbf35985",
   "metadata": {
    "slideshow": {
     "slide_type": "subslide"
    }
   },
   "outputs": [],
   "source": [
    "from sklearn.decomposition import TruncatedSVD\n",
    "my_svd = mySVD(2)\n",
    "my_svd.fit(X)\n",
    "sk_svd = TruncatedSVD(2).fit(X)\n"
   ]
  },
  {
   "cell_type": "code",
   "execution_count": 34,
   "id": "5b2abc2c",
   "metadata": {
    "slideshow": {
     "slide_type": "subslide"
    }
   },
   "outputs": [
    {
     "data": {
      "text/plain": [
       "array([[-18.52157747,  -6.47697214],\n",
       "       [-49.81310011,  -1.91182038],\n",
       "       [-81.10462276,   2.65333138]])"
      ]
     },
     "execution_count": 34,
     "metadata": {},
     "output_type": "execute_result"
    }
   ],
   "source": [
    "my_svd.transform(X)"
   ]
  },
  {
   "cell_type": "code",
   "execution_count": 35,
   "id": "2268040f",
   "metadata": {
    "slideshow": {
     "slide_type": "fragment"
    }
   },
   "outputs": [
    {
     "data": {
      "text/plain": [
       "array([[18.52157747,  6.47697214],\n",
       "       [49.81310011,  1.91182038],\n",
       "       [81.10462276, -2.65333138]])"
      ]
     },
     "execution_count": 35,
     "metadata": {},
     "output_type": "execute_result"
    }
   ],
   "source": [
    "sk_svd.transform(X)"
   ]
  },
  {
   "cell_type": "code",
   "execution_count": 36,
   "id": "9719a690",
   "metadata": {
    "slideshow": {
     "slide_type": "subslide"
    }
   },
   "outputs": [],
   "source": [
    "assert(\n",
    "    np.any(\n",
    "        [np.all(\n",
    "            np.isclose(\n",
    "                sk_svd.transform(X), \n",
    "                my_svd.transform(X)\n",
    "            )\n",
    "        ),\n",
    "        np.all(\n",
    "            np.isclose(\n",
    "                -sk_svd.transform(X), \n",
    "                my_svd.transform(X)\n",
    "            )\n",
    "        )]\n",
    "    )\n",
    ")\n",
    "# agego comparación con el negado porque SVD tiene el problema de \"sign indeterminacy\""
   ]
  },
  {
   "cell_type": "markdown",
   "id": "421794c8",
   "metadata": {},
   "source": [
    "### ¿Qué representan las matrices $\\mathbf{U}$ y $\\mathbf{V}$? "
   ]
  },
  {
   "cell_type": "markdown",
   "id": "046247af",
   "metadata": {
    "slideshow": {
     "slide_type": "slide"
    }
   },
   "source": [
    "$\\mathbf{U}$ se corresponde  con los autovectores de $\\mathbf{X}\\mathbf{X}^T$, mientras $\\mathbf{V}$ está asociada a los avutovectores de $\\mathbf{X}^T\\mathbf{X}$ y $\\mathbf{\\Sigma}$ se corresponde con la raíz cuadrada de lo autovalores de ambas matrices. Lo interesante, es que $\\mathbf{X}^T\\mathbf{X}$ es la correlación empírica de los features, mientras que $\\mathbf{X}\\mathbf{X}^T$ es la correlación empírica entre muestras. "
   ]
  },
  {
   "cell_type": "markdown",
   "id": "8466c879",
   "metadata": {
    "slideshow": {
     "slide_type": "subslide"
    }
   },
   "source": [
    "#### Pongamos un ejemplo\n",
    "La siguiente matriz representa la puntuación de distintos usuarios a 5 películas <sup>[1]</sup>.\n",
    "\n",
    "![matriz_pelis.png](matriz_pelis.png)"
   ]
  },
  {
   "cell_type": "markdown",
   "id": "5c286859",
   "metadata": {
    "slideshow": {
     "slide_type": "subslide"
    }
   },
   "source": [
    "En este caso, la descomposición en valores singulares resulta\n",
    "\n",
    "$$\\begin{array}{c c c c c}\n",
    "\\left[\\begin{smallmatrix} 1& 1&1&0&0\\\\ 3&3&3&0&0\\\\ 4&4&4&0&0 \\\\ 5&5&5&0&0 \\\\ 0&0&0&4&4\\\\0&0&0&5&5\\\\0&0&0&2&2 \\end{smallmatrix}\\right] & = & \\left[\\begin{smallmatrix} 0.14 & 0\\\\ 0.42&0\\\\0.56&0\\\\0.7&0\\\\0&0.6\\\\0&0.75\\\\0&0.3\\end{smallmatrix}\\right] & \\left[\\begin{smallmatrix}12.4&0\\\\0&9.5 \\end{smallmatrix}\\right] & \\left[\\begin{smallmatrix} 0.58 &0.58 & 0.58 &0&0\\\\0&0&0&0.71&0.71\\end{smallmatrix}\\right]\\\\\n",
    "\\mathbf{X} & & \\mathbf{U} & \\mathbf{\\Sigma} & \\mathbf{V}^T\n",
    "\\end{array}$$"
   ]
  },
  {
   "cell_type": "markdown",
   "id": "d297e223",
   "metadata": {
    "slideshow": {
     "slide_type": "subslide"
    }
   },
   "source": [
    "¿Qué observamos?\n",
    "La matriz $\\mathbf{U}$ conecta personas a tópicos (\"ciencia ficción\", y \"románticas\"), mientras que $\\mathbf{V}$ conecta películas a tópicos. De esta forma, nos separa las distintas películas en categorías, y separa a los usuarios según categorías de películas. La matriz $\\mathbf{\\Sigma}$ nos devuelve la intensidad de cada conceptos. En este caso, como más usuarios ratearon películas de ciencia ficción, esta categoría tiene  mayor peso.\n",
    "\n",
    "En general, las categorías van a estar cruzadas, por ejemplo alguien que ve mayormente películas románticas puede haber visto Matrix. En este caso vamos a tener mayor cantidad de valores singulares positivos. Lo que se hace es descartar aquellos valores singulares significativamente más pequeños que el resto.\n"
   ]
  },
  {
   "cell_type": "markdown",
   "id": "41acf287",
   "metadata": {
    "slideshow": {
     "slide_type": "slide"
    }
   },
   "source": [
    "### Comentarios:\n",
    "- Realizar la descomposición SVD sobre los datos centrados es equivalente a hacer PCA\n",
    "- SVD funciona sobre datos sparse, sin necesidad de \"redensificarlos\" que puede ocupar mucha memoria\n",
    "- Por cómo se implementa el algoritmo, puede ocurrir que entre distintos entrenamientos (fitteos) se intercambie el signo de los vectores. Una forma de mitigar este inconveniente es entrenando una única vez y luego transformando varias veces. \n",
    "- Según el problema, las matrices $\\mathbf{U}$ y $\\mathbf{V}$ de SVD pueden dar información útil acerca de las correlaciones entre las muestras y las entre las variables."
   ]
  },
  {
   "cell_type": "markdown",
   "id": "9e0cf6e1",
   "metadata": {
    "slideshow": {
     "slide_type": "slide"
    }
   },
   "source": [
    "## Bibliografia:\n",
    "\n",
    "[1] \"Mining of Massive Datasets\",  Leskovec J, Rajaraman A., Ullman J.D., Stanford University. Capítulo 11. http://infolab.stanford.edu/~ullman/mmds/ch11.pdf\n",
    "\n",
    "[2] https://towardsdatascience.com/a-one-stop-shop-for-principal-component-analysis-5582fb7e0a9c\n",
    "\n",
    "[3] \"Pattern Recognition and Machine Learning\", Bishop, Christopher M. New York, Springer, 2006\n",
    "\n"
   ]
  }
 ],
 "metadata": {
  "kernelspec": {
   "display_name": "Python 3",
   "language": "python",
   "name": "python3"
  },
  "language_info": {
   "codemirror_mode": {
    "name": "ipython",
    "version": 3
   },
   "file_extension": ".py",
   "mimetype": "text/x-python",
   "name": "python",
   "nbconvert_exporter": "python",
   "pygments_lexer": "ipython3",
   "version": "3.7.3"
  }
 },
 "nbformat": 4,
 "nbformat_minor": 5
}
