{
 "cells": [
  {
   "cell_type": "markdown",
   "metadata": {
    "id": "uFVO3myykYXC"
   },
   "source": [
    "# Introducción a la teoría de la información\n",
    "\n",
    "La teoría de la información es un subcampo de la matemática que estudia la transmisión de datos sobre un canal con ruido. \n",
    "Una de sus contribuciones fundamentales es la idea de cómo cuantificar la cantidad de información en un evento de una variable aletatoria, llamado entropía.\n",
    "\n",
    "Calcular la información y la entropía es de utilidad en muchas aplicaciones de Machine Learning: la selección de características (features) de entrada mediante información mutua, como para el desarrollo de modelos árboles de decisión, en los modelos de clasificación, etc."
   ]
  },
  {
   "cell_type": "markdown",
   "metadata": {
    "id": "lC-0ZjFwtcp8"
   },
   "source": [
    "## Cantidad de información y entropía"
   ]
  },
  {
   "cell_type": "code",
   "execution_count": 1,
   "metadata": {
    "executionInfo": {
     "elapsed": 2438,
     "status": "ok",
     "timestamp": 1613944104928,
     "user": {
      "displayName": "Nicolas Horro",
      "photoUrl": "https://lh4.googleusercontent.com/--3DXBeoKCHg/AAAAAAAAAAI/AAAAAAAAAY0/pAcXsaDcvLQ/s64/photo.jpg",
      "userId": "02428399203512836803"
     },
     "user_tz": 180
    },
    "id": "HjL_ESUOi01G"
   },
   "outputs": [],
   "source": [
    "import numpy as np\n",
    "import matplotlib.pyplot as plt\n",
    "import seaborn as sns"
   ]
  },
  {
   "cell_type": "markdown",
   "metadata": {
    "id": "w4GyxF6elHu8"
   },
   "source": [
    "La **cantidad de contenido de información de Shannon** de un resultado $x$ se define como:\n",
    "\n",
    "$$\n",
    "h(x) = log_2(\\frac{1}{P(x)}) = -log_2(P(x))\n",
    "$$\n",
    "\n",
    "Y se mide en **bits**."
   ]
  },
  {
   "cell_type": "markdown",
   "metadata": {
    "id": "5SBp_Jwrlrjh"
   },
   "source": [
    "Ejemplo 1. Arrojar una moneda (distribución de Bernoulli, asumiendo misma probabilidad para cada resultado posible)."
   ]
  },
  {
   "cell_type": "code",
   "execution_count": 2,
   "metadata": {
    "colab": {
     "base_uri": "https://localhost:8080/"
    },
    "executionInfo": {
     "elapsed": 1148,
     "status": "ok",
     "timestamp": 1613944113016,
     "user": {
      "displayName": "Nicolas Horro",
      "photoUrl": "https://lh4.googleusercontent.com/--3DXBeoKCHg/AAAAAAAAAAI/AAAAAAAAAY0/pAcXsaDcvLQ/s64/photo.jpg",
      "userId": "02428399203512836803"
     },
     "user_tz": 180
    },
    "id": "mtHsVyIZkeoG",
    "outputId": "83adfa8a-fa60-492a-a538-045a3cadac98"
   },
   "outputs": [
    {
     "name": "stdout",
     "output_type": "stream",
     "text": [
      "p(x)=0.500. Cantidad de información: 1.000 bits\n"
     ]
    }
   ],
   "source": [
    "p = 0.5 # Probabilidad de un evento\n",
    "h = -np.log2(p)\n",
    "print(\"p(x)=%.3f. Cantidad de información: %.3f bits\" %(p,h) )"
   ]
  },
  {
   "cell_type": "markdown",
   "metadata": {
    "id": "_iabj1odpnqT"
   },
   "source": [
    "Ejemplo 2. Arrojar un dado de sesis caras no sesgado."
   ]
  },
  {
   "cell_type": "code",
   "execution_count": 3,
   "metadata": {
    "colab": {
     "base_uri": "https://localhost:8080/"
    },
    "executionInfo": {
     "elapsed": 582,
     "status": "ok",
     "timestamp": 1613944113979,
     "user": {
      "displayName": "Nicolas Horro",
      "photoUrl": "https://lh4.googleusercontent.com/--3DXBeoKCHg/AAAAAAAAAAI/AAAAAAAAAY0/pAcXsaDcvLQ/s64/photo.jpg",
      "userId": "02428399203512836803"
     },
     "user_tz": 180
    },
    "id": "tNTRxzxipn4B",
    "outputId": "5e74a29e-a5a7-4845-b8fe-ca56b1a6a108"
   },
   "outputs": [
    {
     "name": "stdout",
     "output_type": "stream",
     "text": [
      "p(x)=0.167. Cantidad de información: 2.585 bits\n"
     ]
    }
   ],
   "source": [
    "p = 1.0 / 6.0 # Probabilidad de un evento\n",
    "h = -np.log2(p)\n",
    "print(\"p(x)=%.3f. Cantidad de información: %.3f bits\" %(p,h) )"
   ]
  },
  {
   "cell_type": "markdown",
   "metadata": {
    "id": "AqNVftCAshss"
   },
   "source": [
    "Cuanto menor es la probabilidad de ocurrencia de un evento, mayor es la entropía (resultado más inesperado, i.e. mayor información o *novedad*)."
   ]
  },
  {
   "cell_type": "code",
   "execution_count": 4,
   "metadata": {
    "colab": {
     "base_uri": "https://localhost:8080/",
     "height": 404
    },
    "executionInfo": {
     "elapsed": 1061,
     "status": "ok",
     "timestamp": 1613944116305,
     "user": {
      "displayName": "Nicolas Horro",
      "photoUrl": "https://lh4.googleusercontent.com/--3DXBeoKCHg/AAAAAAAAAAI/AAAAAAAAAY0/pAcXsaDcvLQ/s64/photo.jpg",
      "userId": "02428399203512836803"
     },
     "user_tz": 180
    },
    "id": "9LtkBwVpq57_",
    "outputId": "f7ecd9e9-7dbd-4f9b-f5e8-0216cafc24d5"
   },
   "outputs": [
    {
     "data": {
      "image/png": "[encoded data removed]",
      "text/plain": [
       "<Figure size 1296x432 with 1 Axes>"
      ]
     },
     "metadata": {
      "needs_background": "light"
     },
     "output_type": "display_data"
    }
   ],
   "source": [
    "p = np.linspace(0.1,1.0,100)\n",
    "h = -np.log2(p)\n",
    "\n",
    "fig,axes = plt.subplots(1,1,figsize=(18,6))\n",
    "axes.plot(p,h,marker=\".\")\n",
    "axes.grid(which='Both')\n",
    "axes.set_title(\"Probabilidad e Información de un evento\")\n",
    "axes.set_xlabel(\"Probabilidad\")\n",
    "axes.set_ylabel(\"Información\")\n",
    "plt.show()"
   ]
  },
  {
   "cell_type": "markdown",
   "metadata": {
    "id": "ZUjeju39KGmW"
   },
   "source": [
    "Antes de definir la entropía, se debe definir un ensamble."
   ]
  },
  {
   "cell_type": "markdown",
   "metadata": {
    "id": "5J2m3FijKHXp"
   },
   "source": [
    "Un **ensamble $X$** es una tripla $(x,A_X,P_X)$  deonde el resultado $x$ es el valor de una variable aleatoria, que toma uno de un conjunto de valores posibles $A_X = {a_1,a_2,...,a_I}$, con probabilidades de ocurrencia $P_X={p_1,p_2,...,p_I}$, con $P(x=a_i)= p_i, p_i \\ge 0$ y $\\sum_{a_i \\in A_X} P(x=a_i) = 1$.\n"
   ]
  },
  {
   "cell_type": "markdown",
   "metadata": {
    "id": "nD3z5u_ut0w0"
   },
   "source": [
    "\n",
    "\n",
    "Se define la **entropía de Shannon** $H(X)$ de un ensamble $X$ como el promedio del contenido de información de Shannon:\n",
    "\n",
    "\n",
    "$$\n",
    "H(X) = \\sum_{x \\in A_X} P(x) \\frac{1}{log(P(x))} = - \\sum_{x \\in A_X}P(x) log(P(x))\n",
    "$$"
   ]
  },
  {
   "cell_type": "markdown",
   "metadata": {
    "id": "9pL-3IjBt5RW"
   },
   "source": [
    "Implementación y ejemplo para una V.A. con distribución de Bernoulli."
   ]
  },
  {
   "cell_type": "code",
   "execution_count": 5,
   "metadata": {
    "executionInfo": {
     "elapsed": 750,
     "status": "ok",
     "timestamp": 1613944120114,
     "user": {
      "displayName": "Nicolas Horro",
      "photoUrl": "https://lh4.googleusercontent.com/--3DXBeoKCHg/AAAAAAAAAAI/AAAAAAAAAY0/pAcXsaDcvLQ/s64/photo.jpg",
      "userId": "02428399203512836803"
     },
     "user_tz": 180
    },
    "id": "V5a1o-1TsZiX"
   },
   "outputs": [],
   "source": [
    "def entropy(X,bins):\n",
    "  # 1. Obtener p(x). Aquí se usa histograma pero se pueden usar otros métodos \n",
    "  #    también, ej: densidad de kernel.\n",
    "  px = np.histogram(X,bins)[0] # obtener histograma\n",
    "  px_norm = px / np.sum(px) # normalizar \n",
    "  px_norm = px_norm[np.nonzero(px_norm)] # eliminar ceros\n",
    "  return -np.sum(px_norm*np.log2(px_norm))"
   ]
  },
  {
   "cell_type": "code",
   "execution_count": 6,
   "metadata": {
    "colab": {
     "base_uri": "https://localhost:8080/",
     "height": 410
    },
    "executionInfo": {
     "elapsed": 14755,
     "status": "ok",
     "timestamp": 1613944137616,
     "user": {
      "displayName": "Nicolas Horro",
      "photoUrl": "https://lh4.googleusercontent.com/--3DXBeoKCHg/AAAAAAAAAAI/AAAAAAAAAY0/pAcXsaDcvLQ/s64/photo.jpg",
      "userId": "02428399203512836803"
     },
     "user_tz": 180
    },
    "id": "b2l-dv6yvtNt",
    "outputId": "be83f9f7-93aa-407b-e17e-6bbdccc8b669"
   },
   "outputs": [
    {
     "data": {
      "image/png": "[encoded data removed]",
      "text/plain": [
       "<Figure size 1296x432 with 1 Axes>"
      ]
     },
     "metadata": {
      "needs_background": "light"
     },
     "output_type": "display_data"
    }
   ],
   "source": [
    "from scipy.stats import bernoulli\n",
    "\n",
    "N_SAMPLES = 100 # Cantidad de muestras de la V.A. \n",
    "N_BINS = 2 # Cantidad de bins para estimar p(X)\n",
    "\n",
    "M = 1000 # Cantidad de valores de p a ensayar (de 0 a 1.0)\n",
    "entropies = np.zeros(M)\n",
    "probs = np.linspace(0.001,1.0,M)\n",
    "\n",
    "N_ITERATIONS = 50 # Cantidad de repeticiones\n",
    "for j in range(N_ITERATIONS):\n",
    "    for i,p in enumerate(probs):  \n",
    "        X = bernoulli.rvs(size=N_SAMPLES,p=p)\n",
    "        entropies[i] += entropy(X,N_BINS)\n",
    "entropies/=N_ITERATIONS\n",
    "\n",
    "fig,axes = plt.subplots(1,1,figsize=(18,6))\n",
    "axes.plot(probs,entropies,marker=\".\")\n",
    "axes.grid(which='Both')\n",
    "axes.set_title(\"Entropía para una V.A. con distribución de Bernoulli variando $p$\")\n",
    "axes.set_xlabel(\"Probabilidad $p$\")\n",
    "axes.set_ylabel(\"Entropía\")\n",
    "plt.show()"
   ]
  },
  {
   "cell_type": "markdown",
   "metadata": {
    "id": "ezJPOjCauxVr"
   },
   "source": [
    "## Divergencia entre distribuciones\n",
    "\n",
    "Existen muchas situaciones en las que es de interés comparar dos distribuciones de probabilidad para una misma variable aleatoria. Por ejemplo, se puede tener una variable aleatoria y una distribución real de la misma y una distribución de una aproximación, en cuyo caso es de interés cuantificar qué tan buena es esa aproximación.\n",
    "\n",
    "### Divergencia de Kullback-Leibler o entropia relativa\n",
    "\n",
    "Si se tienen dos distribuciones de probabilidad separadas $P(x)$ y $Q(x)$ para una misma variable $x$, es posible medir qué tan diferentes son utilizando la **divergencia  de Kullback-Leibler (KL)**:\n",
    "\n",
    "$$\n",
    "D_{KL}(P||Q) = -\\sum^{x \\in X} P(x) log\\left( \\frac{Q(x)}{P(x)} \\right)\n",
    "$$\n",
    "\n",
    "En el caso de variables discretas, la divergencia KL representa la cantidad de información adicional necesaria para enviar un mensaje conteniendo símbolos con una probabilidad de distribución $P$ cuando se usa un código diseñado para minimizar el tamaño de mensajes procedentes de una distribución de probabilidad Q.\n",
    "\n",
    "Como la divergencia KL es no-negativa, y es cero únicamente cuando P Y Q son la misma distribución (en el caso de variables discretas), a menudo se la interpreta como una medida de distanca entre distribuciones. No obstante, la **divergencia KL no es una distancia** porque no es simétrica:\n",
    "\n",
    "\n",
    "$$\n",
    "D_{KL}(P||Q) \\neq D_{KL}(Q||P)\n",
    "$$"
   ]
  },
  {
   "cell_type": "markdown",
   "metadata": {
    "id": "h7IwAuoU0PeD"
   },
   "source": [
    "Ejemplo. Cálculo de $D_{KL}(P||Q)$ y $D_{KL}(Q||P)$ para dos distribuciones discretas:"
   ]
  },
  {
   "cell_type": "code",
   "execution_count": 7,
   "metadata": {
    "colab": {
     "base_uri": "https://localhost:8080/",
     "height": 233
    },
    "executionInfo": {
     "elapsed": 4098,
     "status": "ok",
     "timestamp": 1613907332743,
     "user": {
      "displayName": "Nicolas Horro",
      "photoUrl": "https://lh4.googleusercontent.com/--3DXBeoKCHg/AAAAAAAAAAI/AAAAAAAAAY0/pAcXsaDcvLQ/s64/photo.jpg",
      "userId": "02428399203512836803"
     },
     "user_tz": 180
    },
    "id": "tGDZG83ZxOoz",
    "outputId": "b2e75180-2554-474a-94d9-1f93ca3993e8"
   },
   "outputs": [
    {
     "data": {
      "image/png": "[encoded data removed]",
      "text/plain": [
       "<Figure size 1296x216 with 2 Axes>"
      ]
     },
     "metadata": {
      "needs_background": "light"
     },
     "output_type": "display_data"
    }
   ],
   "source": [
    "e = ['A','B','C','D']\n",
    "p = np.array([0.15, 0.35, 0.30, 0.20])\n",
    "q = np.array([0.10, 0.30, 0.20, 0.40])\n",
    "\n",
    "fig,axes = plt.subplots(1,2,figsize=(18,3))\n",
    "fig.suptitle(\"Distribuciones $P$ y $Q$\")\n",
    "axes[0].set_title(\"$P$\")\n",
    "axes[0].bar(e,p,color='r')\n",
    "axes[0].grid(which='Both')\n",
    "axes[1].set_title(\"$Q$\")\n",
    "axes[1].bar(e,q,color='g')\n",
    "axes[1].grid(which='Both')\n",
    "plt.show()"
   ]
  },
  {
   "cell_type": "code",
   "execution_count": 8,
   "metadata": {
    "executionInfo": {
     "elapsed": 4096,
     "status": "ok",
     "timestamp": 1613907332744,
     "user": {
      "displayName": "Nicolas Horro",
      "photoUrl": "https://lh4.googleusercontent.com/--3DXBeoKCHg/AAAAAAAAAAI/AAAAAAAAAY0/pAcXsaDcvLQ/s64/photo.jpg",
      "userId": "02428399203512836803"
     },
     "user_tz": 180
    },
    "id": "DioTy2cbxiQf"
   },
   "outputs": [],
   "source": [
    "def kullback_liebler_div(p, q):\n",
    "  return np.sum(p * np.log2(p/q))"
   ]
  },
  {
   "cell_type": "code",
   "execution_count": 9,
   "metadata": {
    "colab": {
     "base_uri": "https://localhost:8080/"
    },
    "executionInfo": {
     "elapsed": 4090,
     "status": "ok",
     "timestamp": 1613907332745,
     "user": {
      "displayName": "Nicolas Horro",
      "photoUrl": "https://lh4.googleusercontent.com/--3DXBeoKCHg/AAAAAAAAAAI/AAAAAAAAAY0/pAcXsaDcvLQ/s64/photo.jpg",
      "userId": "02428399203512836803"
     },
     "user_tz": 180
    },
    "id": "4TeGzvgtzuhi",
    "outputId": "df2a20f3-23d3-4e2f-8c6b-7258c7724e74"
   },
   "outputs": [
    {
     "data": {
      "text/plain": [
       "0.14107047279227697"
      ]
     },
     "execution_count": 9,
     "metadata": {},
     "output_type": "execute_result"
    }
   ],
   "source": [
    "kullback_liebler_div(p,q)"
   ]
  },
  {
   "cell_type": "code",
   "execution_count": 10,
   "metadata": {
    "colab": {
     "base_uri": "https://localhost:8080/"
    },
    "executionInfo": {
     "elapsed": 4084,
     "status": "ok",
     "timestamp": 1613907332746,
     "user": {
      "displayName": "Nicolas Horro",
      "photoUrl": "https://lh4.googleusercontent.com/--3DXBeoKCHg/AAAAAAAAAAI/AAAAAAAAAY0/pAcXsaDcvLQ/s64/photo.jpg",
      "userId": "02428399203512836803"
     },
     "user_tz": 180
    },
    "id": "9qEkGGze0Mzd",
    "outputId": "5538a4cc-acd8-4ae6-a379-f1cdadc6415b"
   },
   "outputs": [
    {
     "data": {
      "text/plain": [
       "0.15779352338271885"
      ]
     },
     "execution_count": 10,
     "metadata": {},
     "output_type": "execute_result"
    }
   ],
   "source": [
    "kullback_liebler_div(q,p)"
   ]
  },
  {
   "cell_type": "code",
   "execution_count": 11,
   "metadata": {
    "colab": {
     "base_uri": "https://localhost:8080/"
    },
    "executionInfo": {
     "elapsed": 4077,
     "status": "ok",
     "timestamp": 1613907332747,
     "user": {
      "displayName": "Nicolas Horro",
      "photoUrl": "https://lh4.googleusercontent.com/--3DXBeoKCHg/AAAAAAAAAAI/AAAAAAAAAY0/pAcXsaDcvLQ/s64/photo.jpg",
      "userId": "02428399203512836803"
     },
     "user_tz": 180
    },
    "id": "Ba55WdG7V4Lg",
    "outputId": "feb08a8d-3de5-401e-a8a3-ef7f41c5765e"
   },
   "outputs": [
    {
     "data": {
      "text/plain": [
       "(0.0, 0.0)"
      ]
     },
     "execution_count": 11,
     "metadata": {},
     "output_type": "execute_result"
    }
   ],
   "source": [
    "kullback_liebler_div(p,p), kullback_liebler_div(q,q)"
   ]
  },
  {
   "cell_type": "markdown",
   "metadata": {
    "id": "wOZcXstgu5gs"
   },
   "source": [
    "## Entropía cruzada\n",
    "\n",
    "Uno de los casos de aplicación típicos de entropía cruzada en Machine Learning es como función de pérdida a minimizar en la salida de un clasificador.\n",
    "\n",
    "La entropía cruzada está muy relacionada con la divergencia KL, pero no son lo mismo.\n",
    "\n",
    "### Diferencia entre entropía cruzada y entropía relativa (divergencia KL)\n",
    "\n",
    "- **Entropía cruzada H(P,Q)**: promedio de bits totales necesarios para representar un evento de Q en lugar de P.\n",
    "- **Entropía relativa (divergencia KL) $D_{KL}$**: promedio de bits adicionales necesarios para representar un evento de Q en lugar de P.\n",
    "\n",
    "$$\n",
    "D_{KL}(P||Q) = - \\sum_{x \\in X} log(\\frac{Q(x)}{P(x)})\n",
    "$$\n",
    "\n",
    "$$\n",
    "H(P,Q) = H(P) + D_{KL}(P||Q)\n",
    "$$\n",
    "\n",
    "Al igual que la divergencia KL, la entropía cruzada tampoco es simétrica:\n",
    "\n",
    "$$\n",
    "H(P,Q) \\neq H(Q,P)\n",
    "$$"
   ]
  },
  {
   "cell_type": "markdown",
   "metadata": {
    "id": "iHBgt67eZ-ux"
   },
   "source": [
    "Ejemplo. Cálculo de entropía cruzada para dos distribuciones discretas $P$ y $Q$."
   ]
  },
  {
   "cell_type": "code",
   "execution_count": 12,
   "metadata": {
    "colab": {
     "base_uri": "https://localhost:8080/",
     "height": 233
    },
    "executionInfo": {
     "elapsed": 4070,
     "status": "ok",
     "timestamp": 1613907332748,
     "user": {
      "displayName": "Nicolas Horro",
      "photoUrl": "https://lh4.googleusercontent.com/--3DXBeoKCHg/AAAAAAAAAAI/AAAAAAAAAY0/pAcXsaDcvLQ/s64/photo.jpg",
      "userId": "02428399203512836803"
     },
     "user_tz": 180
    },
    "id": "5T-vEoSq3MtO",
    "outputId": "9afe63c2-4487-4fd8-ea97-1520b139be21"
   },
   "outputs": [
    {
     "data": {
      "image/png": "[encoded data removed]",
      "text/plain": [
       "<Figure size 1296x216 with 2 Axes>"
      ]
     },
     "metadata": {
      "needs_background": "light"
     },
     "output_type": "display_data"
    }
   ],
   "source": [
    "e = ['A','B','C','D']\n",
    "p = np.array([0.15, 0.35, 0.30, 0.20])\n",
    "q = np.array([0.10, 0.30, 0.20, 0.40])\n",
    "\n",
    "fig,axes = plt.subplots(1,2,figsize=(18,3))\n",
    "fig.suptitle(\"Distribuciones $P$ y $Q$\")\n",
    "axes[0].set_title(\"$P$\")\n",
    "axes[0].bar(e,p,color='r')\n",
    "axes[0].grid(which='Both')\n",
    "axes[1].set_title(\"$Q$\")\n",
    "axes[1].bar(e,q,color='g')\n",
    "axes[1].grid(which='Both')\n",
    "plt.show()"
   ]
  },
  {
   "cell_type": "code",
   "execution_count": 13,
   "metadata": {
    "executionInfo": {
     "elapsed": 4069,
     "status": "ok",
     "timestamp": 1613907332749,
     "user": {
      "displayName": "Nicolas Horro",
      "photoUrl": "https://lh4.googleusercontent.com/--3DXBeoKCHg/AAAAAAAAAAI/AAAAAAAAAY0/pAcXsaDcvLQ/s64/photo.jpg",
      "userId": "02428399203512836803"
     },
     "user_tz": 180
    },
    "id": "mF_M2Uy03OFd"
   },
   "outputs": [],
   "source": [
    "def cross_entropy(p, q):\n",
    "  return -np.sum(p*np.log2(q))"
   ]
  },
  {
   "cell_type": "code",
   "execution_count": 14,
   "metadata": {
    "colab": {
     "base_uri": "https://localhost:8080/"
    },
    "executionInfo": {
     "elapsed": 4064,
     "status": "ok",
     "timestamp": 1613907332751,
     "user": {
      "displayName": "Nicolas Horro",
      "photoUrl": "https://lh4.googleusercontent.com/--3DXBeoKCHg/AAAAAAAAAAI/AAAAAAAAAY0/pAcXsaDcvLQ/s64/photo.jpg",
      "userId": "02428399203512836803"
     },
     "user_tz": 180
    },
    "id": "WkOVjlIX3YFx",
    "outputId": "3647d551-1ed4-4f92-d830-9b7af8acb69e"
   },
   "outputs": [
    {
     "data": {
      "text/plain": [
       "2.0671912196349576"
      ]
     },
     "execution_count": 14,
     "metadata": {},
     "output_type": "execute_result"
    }
   ],
   "source": [
    "cross_entropy(p, q)"
   ]
  },
  {
   "cell_type": "code",
   "execution_count": 15,
   "metadata": {
    "colab": {
     "base_uri": "https://localhost:8080/"
    },
    "executionInfo": {
     "elapsed": 4059,
     "status": "ok",
     "timestamp": 1613907332752,
     "user": {
      "displayName": "Nicolas Horro",
      "photoUrl": "https://lh4.googleusercontent.com/--3DXBeoKCHg/AAAAAAAAAAI/AAAAAAAAAY0/pAcXsaDcvLQ/s64/photo.jpg",
      "userId": "02428399203512836803"
     },
     "user_tz": 180
    },
    "id": "U30S5IPG3cV7",
    "outputId": "251a0dd1-81c3-4090-8047-fe1d6d690c09"
   },
   "outputs": [
    {
     "data": {
      "text/plain": [
       "2.0042328680537342"
      ]
     },
     "execution_count": 15,
     "metadata": {},
     "output_type": "execute_result"
    }
   ],
   "source": [
    "cross_entropy(q, p)"
   ]
  },
  {
   "cell_type": "markdown",
   "metadata": {
    "id": "FfzHOZw-asrW"
   },
   "source": [
    "Si se calcula la entropía cruzada para dos distribuciones iguales, entonces el resultado será la entropía de la distribución."
   ]
  },
  {
   "cell_type": "code",
   "execution_count": 16,
   "metadata": {
    "colab": {
     "base_uri": "https://localhost:8080/"
    },
    "executionInfo": {
     "elapsed": 4053,
     "status": "ok",
     "timestamp": 1613907332752,
     "user": {
      "displayName": "Nicolas Horro",
      "photoUrl": "https://lh4.googleusercontent.com/--3DXBeoKCHg/AAAAAAAAAAI/AAAAAAAAAY0/pAcXsaDcvLQ/s64/photo.jpg",
      "userId": "02428399203512836803"
     },
     "user_tz": 180
    },
    "id": "NgkYI35saZr4",
    "outputId": "5bea8e41-f378-47c3-ab85-2d4d91723958"
   },
   "outputs": [
    {
     "data": {
      "text/plain": [
       "(1.9261207468426806, 1.8464393446710154)"
      ]
     },
     "execution_count": 16,
     "metadata": {},
     "output_type": "execute_result"
    }
   ],
   "source": [
    "cross_entropy(p, p), cross_entropy(q, q)"
   ]
  },
  {
   "cell_type": "markdown",
   "metadata": {
    "id": "yBe2J9RCu9zA"
   },
   "source": [
    "## Ganancia de información e información mutua\n",
    "\n",
    "En machine learning, la ganancia de información calcula la reducción en la entropía resultante de aplicar alguna transformación a un conjunto de datos.\n",
    "\n",
    "Ejemplos:\n",
    "\n",
    "1. En el entrenamiento de árboles de decisión, cada nodo realiza una partición dividiendo los datos en grupos efectivos para la clasificación. Esta partición intenta maximizar la ganancia de información, o reducir la entropía (intutivamente, puede asociarse a menor \"novedad\").\n",
    "2. En la selección de features, se calcula la ganancia de cada variable de entrada en el contexto de la variable de salida. En este caso, se calcula la información mutua entre variables."
   ]
  },
  {
   "cell_type": "markdown",
   "metadata": {
    "id": "Aq1gvJZH6Kqs"
   },
   "source": [
    "### Ganancia de Información y Árboles de Decisión (Algoritmo ID3)\n",
    "\n",
    "Un caso de aplicación de la ganancia de información es en los algoritmos de árboles de decisión. Para ello se puede estudiar una de sus primeras implementaciones, denominada *Iterative Dichotomizer 3 (ID3)*. El siguiente ejemplo fue tomado de {cite}`Mitchell1997`.\n",
    "Supongamos que somos los propietarios de una cancha de Tennis y tenemos información sobre las condiciones meteorológicas y cuando se ocupó o no la cancha. Nos interesa contar con un algoritmo en el que ingresando las condiciones metereológicas podamos estimar si es más o menos probable que se ocupe la cancha. Este es un problema de clasificación binaria.\n",
    "\n",
    "Con un árbol de decisión podemos realizar una serie de preguntas sobre el valor de los atributos de entrada que tengan una respuesta binaria. Cada respuesta representa una disminución de la entropía original del problema, pues nos aporta información que nos permite dar una respuesta más certera.\n",
    "\n",
    "La pregunta es en qué órden deben consultarse los atributos y cuál es el umbral de decisión. El algoritmo ID3 plantea realizar una serie de particiones donde cada partición sucesiva reduzca al máximo la entropía. Para ello, calcula el atributo que aporta mayor ganancia de información y realiza una partición sobre este.\n"
   ]
  },
  {
   "cell_type": "code",
   "execution_count": 17,
   "metadata": {
    "colab": {
     "base_uri": "https://localhost:8080/",
     "height": 483
    },
    "executionInfo": {
     "elapsed": 1236,
     "status": "ok",
     "timestamp": 1613944046842,
     "user": {
      "displayName": "Nicolas Horro",
      "photoUrl": "https://lh4.googleusercontent.com/--3DXBeoKCHg/AAAAAAAAAAI/AAAAAAAAAY0/pAcXsaDcvLQ/s64/photo.jpg",
      "userId": "02428399203512836803"
     },
     "user_tz": 180
    },
    "id": "aArqUz3mCYrO",
    "outputId": "9b1e6001-4dc9-4793-802c-69df89ed08a5"
   },
   "outputs": [
    {
     "data": {
      "text/html": [
       "<div>\n",
       "<style scoped>\n",
       "    .dataframe tbody tr th:only-of-type {\n",
       "        vertical-align: middle;\n",
       "    }\n",
       "\n",
       "    .dataframe tbody tr th {\n",
       "        vertical-align: top;\n",
       "    }\n",
       "\n",
       "    .dataframe thead th {\n",
       "        text-align: right;\n",
       "    }\n",
       "</style>\n",
       "<table border=\"1\" class=\"dataframe\">\n",
       "  <thead>\n",
       "    <tr style=\"text-align: right;\">\n",
       "      <th></th>\n",
       "      <th>outlook</th>\n",
       "      <th>temperature</th>\n",
       "      <th>humidity</th>\n",
       "      <th>windy</th>\n",
       "      <th>play</th>\n",
       "    </tr>\n",
       "  </thead>\n",
       "  <tbody>\n",
       "    <tr>\n",
       "      <th>0</th>\n",
       "      <td>overcast</td>\n",
       "      <td>hot</td>\n",
       "      <td>high</td>\n",
       "      <td>False</td>\n",
       "      <td>yes</td>\n",
       "    </tr>\n",
       "    <tr>\n",
       "      <th>1</th>\n",
       "      <td>overcast</td>\n",
       "      <td>cool</td>\n",
       "      <td>normal</td>\n",
       "      <td>True</td>\n",
       "      <td>yes</td>\n",
       "    </tr>\n",
       "    <tr>\n",
       "      <th>2</th>\n",
       "      <td>overcast</td>\n",
       "      <td>mild</td>\n",
       "      <td>high</td>\n",
       "      <td>True</td>\n",
       "      <td>yes</td>\n",
       "    </tr>\n",
       "    <tr>\n",
       "      <th>3</th>\n",
       "      <td>overcast</td>\n",
       "      <td>hot</td>\n",
       "      <td>normal</td>\n",
       "      <td>False</td>\n",
       "      <td>yes</td>\n",
       "    </tr>\n",
       "    <tr>\n",
       "      <th>4</th>\n",
       "      <td>rainy</td>\n",
       "      <td>mild</td>\n",
       "      <td>high</td>\n",
       "      <td>False</td>\n",
       "      <td>yes</td>\n",
       "    </tr>\n",
       "    <tr>\n",
       "      <th>5</th>\n",
       "      <td>rainy</td>\n",
       "      <td>cool</td>\n",
       "      <td>normal</td>\n",
       "      <td>False</td>\n",
       "      <td>yes</td>\n",
       "    </tr>\n",
       "    <tr>\n",
       "      <th>6</th>\n",
       "      <td>rainy</td>\n",
       "      <td>cool</td>\n",
       "      <td>normal</td>\n",
       "      <td>True</td>\n",
       "      <td>no</td>\n",
       "    </tr>\n",
       "    <tr>\n",
       "      <th>7</th>\n",
       "      <td>rainy</td>\n",
       "      <td>mild</td>\n",
       "      <td>normal</td>\n",
       "      <td>False</td>\n",
       "      <td>yes</td>\n",
       "    </tr>\n",
       "    <tr>\n",
       "      <th>8</th>\n",
       "      <td>rainy</td>\n",
       "      <td>mild</td>\n",
       "      <td>high</td>\n",
       "      <td>True</td>\n",
       "      <td>no</td>\n",
       "    </tr>\n",
       "    <tr>\n",
       "      <th>9</th>\n",
       "      <td>sunny</td>\n",
       "      <td>hot</td>\n",
       "      <td>high</td>\n",
       "      <td>False</td>\n",
       "      <td>no</td>\n",
       "    </tr>\n",
       "    <tr>\n",
       "      <th>10</th>\n",
       "      <td>sunny</td>\n",
       "      <td>hot</td>\n",
       "      <td>high</td>\n",
       "      <td>True</td>\n",
       "      <td>no</td>\n",
       "    </tr>\n",
       "    <tr>\n",
       "      <th>11</th>\n",
       "      <td>sunny</td>\n",
       "      <td>mild</td>\n",
       "      <td>high</td>\n",
       "      <td>False</td>\n",
       "      <td>no</td>\n",
       "    </tr>\n",
       "    <tr>\n",
       "      <th>12</th>\n",
       "      <td>sunny</td>\n",
       "      <td>cool</td>\n",
       "      <td>normal</td>\n",
       "      <td>False</td>\n",
       "      <td>yes</td>\n",
       "    </tr>\n",
       "    <tr>\n",
       "      <th>13</th>\n",
       "      <td>sunny</td>\n",
       "      <td>mild</td>\n",
       "      <td>normal</td>\n",
       "      <td>True</td>\n",
       "      <td>yes</td>\n",
       "    </tr>\n",
       "  </tbody>\n",
       "</table>\n",
       "</div>"
      ],
      "text/plain": [
       "     outlook temperature humidity  windy play\n",
       "0   overcast         hot     high  False  yes\n",
       "1   overcast        cool   normal   True  yes\n",
       "2   overcast        mild     high   True  yes\n",
       "3   overcast         hot   normal  False  yes\n",
       "4      rainy        mild     high  False  yes\n",
       "5      rainy        cool   normal  False  yes\n",
       "6      rainy        cool   normal   True   no\n",
       "7      rainy        mild   normal  False  yes\n",
       "8      rainy        mild     high   True   no\n",
       "9      sunny         hot     high  False   no\n",
       "10     sunny         hot     high   True   no\n",
       "11     sunny        mild     high  False   no\n",
       "12     sunny        cool   normal  False  yes\n",
       "13     sunny        mild   normal   True  yes"
      ]
     },
     "execution_count": 17,
     "metadata": {},
     "output_type": "execute_result"
    }
   ],
   "source": [
    "import pandas as pd\n",
    "\n",
    "df = pd.read_csv(\"data/weather.csv\")\n",
    "df"
   ]
  },
  {
   "cell_type": "code",
   "execution_count": 18,
   "metadata": {
    "colab": {
     "base_uri": "https://localhost:8080/"
    },
    "executionInfo": {
     "elapsed": 822,
     "status": "ok",
     "timestamp": 1613944059014,
     "user": {
      "displayName": "Nicolas Horro",
      "photoUrl": "https://lh4.googleusercontent.com/--3DXBeoKCHg/AAAAAAAAAAI/AAAAAAAAAY0/pAcXsaDcvLQ/s64/photo.jpg",
      "userId": "02428399203512836803"
     },
     "user_tz": 180
    },
    "id": "uUcwMLSEj-7n",
    "outputId": "7b090db1-0604-4c8f-db28-e8a52cdf35ee"
   },
   "outputs": [
    {
     "data": {
      "text/plain": [
       "14"
      ]
     },
     "execution_count": 18,
     "metadata": {},
     "output_type": "execute_result"
    }
   ],
   "source": [
    "total_samples = len(df)\n",
    "total_samples"
   ]
  },
  {
   "cell_type": "markdown",
   "metadata": {},
   "source": [
    "Nuestras variables de entrada son la humedad, el pronósico, la temperatura y el estado del viento."
   ]
  },
  {
   "cell_type": "code",
   "execution_count": 19,
   "metadata": {
    "executionInfo": {
     "elapsed": 874,
     "status": "ok",
     "timestamp": 1613944348111,
     "user": {
      "displayName": "Nicolas Horro",
      "photoUrl": "https://lh4.googleusercontent.com/--3DXBeoKCHg/AAAAAAAAAAI/AAAAAAAAAY0/pAcXsaDcvLQ/s64/photo.jpg",
      "userId": "02428399203512836803"
     },
     "user_tz": 180
    },
    "id": "sRqzSXXklD_x"
   },
   "outputs": [],
   "source": [
    "attributes = ['humidity', 'outlook', 'temperature', 'windy']"
   ]
  },
  {
   "cell_type": "markdown",
   "metadata": {},
   "source": [
    "Podemos calcular la entropía total a partir de las frecuencias de casos positivos y negativos."
   ]
  },
  {
   "cell_type": "code",
   "execution_count": 20,
   "metadata": {
    "executionInfo": {
     "elapsed": 878,
     "status": "ok",
     "timestamp": 1613944066204,
     "user": {
      "displayName": "Nicolas Horro",
      "photoUrl": "https://lh4.googleusercontent.com/--3DXBeoKCHg/AAAAAAAAAAI/AAAAAAAAAY0/pAcXsaDcvLQ/s64/photo.jpg",
      "userId": "02428399203512836803"
     },
     "user_tz": 180
    },
    "id": "8jHbD4fbkAn8"
   },
   "outputs": [],
   "source": [
    "def entropy2(p_positive,p_negative):\n",
    "    return -(p_negative*np.log2(p_negative) + p_positive*np.log2(p_positive)) if ((p_positive > 0) & (p_negative > 0)) else 0"
   ]
  },
  {
   "cell_type": "code",
   "execution_count": 21,
   "metadata": {
    "colab": {
     "base_uri": "https://localhost:8080/"
    },
    "executionInfo": {
     "elapsed": 744,
     "status": "ok",
     "timestamp": 1613944160919,
     "user": {
      "displayName": "Nicolas Horro",
      "photoUrl": "https://lh4.googleusercontent.com/--3DXBeoKCHg/AAAAAAAAAAI/AAAAAAAAAY0/pAcXsaDcvLQ/s64/photo.jpg",
      "userId": "02428399203512836803"
     },
     "user_tz": 180
    },
    "id": "WAitG_2zkCVy",
    "outputId": "98736fcb-7f2f-43a7-a668-7b6d690660e3"
   },
   "outputs": [
    {
     "data": {
      "text/plain": [
       "0.9402859586706309"
      ]
     },
     "execution_count": 21,
     "metadata": {},
     "output_type": "execute_result"
    }
   ],
   "source": [
    "p_positive = len(df[df.play=='yes']) / total_samples\n",
    "p_negative = len(df[df.play=='no']) / total_samples\n",
    "entropy2(p_positive,p_negative)"
   ]
  },
  {
   "cell_type": "markdown",
   "metadata": {},
   "source": [
    "Luego podemos hacerlo para cada atributo y cada valor que toma ese atributo. El objetivo es encontrar cuál de ellos reduce la entropía, es decir, aporta información.\n",
    "El pronóstico, por ejemplo, tiene tres valores posibles."
   ]
  },
  {
   "cell_type": "code",
   "execution_count": 22,
   "metadata": {
    "colab": {
     "base_uri": "https://localhost:8080/"
    },
    "executionInfo": {
     "elapsed": 828,
     "status": "ok",
     "timestamp": 1613944170149,
     "user": {
      "displayName": "Nicolas Horro",
      "photoUrl": "https://lh4.googleusercontent.com/--3DXBeoKCHg/AAAAAAAAAAI/AAAAAAAAAY0/pAcXsaDcvLQ/s64/photo.jpg",
      "userId": "02428399203512836803"
     },
     "user_tz": 180
    },
    "id": "MfU4i9nOkaAO",
    "outputId": "16b6f76c-adb8-4338-ae40-abdadbe6e69d"
   },
   "outputs": [
    {
     "data": {
      "text/plain": [
       "array(['overcast', 'rainy', 'sunny'], dtype=object)"
      ]
     },
     "execution_count": 22,
     "metadata": {},
     "output_type": "execute_result"
    }
   ],
   "source": [
    "df.outlook.unique()"
   ]
  },
  {
   "cell_type": "code",
   "execution_count": 23,
   "metadata": {
    "colab": {
     "base_uri": "https://localhost:8080/"
    },
    "executionInfo": {
     "elapsed": 972,
     "status": "ok",
     "timestamp": 1613944176069,
     "user": {
      "displayName": "Nicolas Horro",
      "photoUrl": "https://lh4.googleusercontent.com/--3DXBeoKCHg/AAAAAAAAAAI/AAAAAAAAAY0/pAcXsaDcvLQ/s64/photo.jpg",
      "userId": "02428399203512836803"
     },
     "user_tz": 180
    },
    "id": "e8CiRvg7kbeS",
    "outputId": "c245b6e2-47f0-483f-d5ef-447374fe2c76"
   },
   "outputs": [
    {
     "name": "stdout",
     "output_type": "stream",
     "text": [
      "Positivos: 2\n",
      "Negativos: 3\n",
      "Total: 5\n"
     ]
    }
   ],
   "source": [
    "outlook_sunny_pos = len(df[(df.outlook == 'sunny') & (df.play=='yes')])\n",
    "outlook_sunny_neg = len(df[(df.outlook == 'sunny') & (df.play=='no')])\n",
    "total_outlook_sunny = outlook_sunny_pos + outlook_sunny_neg\n",
    "print(\"Positivos:\", outlook_sunny_pos)\n",
    "print(\"Negativos:\", outlook_sunny_neg)\n",
    "print(\"Total:\", total_outlook_sunny)"
   ]
  },
  {
   "cell_type": "code",
   "execution_count": 24,
   "metadata": {
    "colab": {
     "base_uri": "https://localhost:8080/"
    },
    "executionInfo": {
     "elapsed": 981,
     "status": "ok",
     "timestamp": 1613944192000,
     "user": {
      "displayName": "Nicolas Horro",
      "photoUrl": "https://lh4.googleusercontent.com/--3DXBeoKCHg/AAAAAAAAAAI/AAAAAAAAAY0/pAcXsaDcvLQ/s64/photo.jpg",
      "userId": "02428399203512836803"
     },
     "user_tz": 180
    },
    "id": "9abZ9nC2kdSh",
    "outputId": "4c3f9dab-b173-4ac7-c25a-4f2d5d03928d"
   },
   "outputs": [
    {
     "data": {
      "text/plain": [
       "0.9709505944546686"
      ]
     },
     "execution_count": 24,
     "metadata": {},
     "output_type": "execute_result"
    }
   ],
   "source": [
    "entropy2(outlook_sunny_pos/total_outlook_sunny,\n",
    "         outlook_sunny_neg/total_outlook_sunny)"
   ]
  },
  {
   "cell_type": "markdown",
   "metadata": {},
   "source": [
    "La entropía es aún mayor que la dataset, por lo tanto este atributo con este valor no parece ser una buena opción. Probaremos con el siguiente valor posible del pronóstico: nublado."
   ]
  },
  {
   "cell_type": "code",
   "execution_count": 25,
   "metadata": {
    "colab": {
     "base_uri": "https://localhost:8080/"
    },
    "executionInfo": {
     "elapsed": 819,
     "status": "ok",
     "timestamp": 1613944201052,
     "user": {
      "displayName": "Nicolas Horro",
      "photoUrl": "https://lh4.googleusercontent.com/--3DXBeoKCHg/AAAAAAAAAAI/AAAAAAAAAY0/pAcXsaDcvLQ/s64/photo.jpg",
      "userId": "02428399203512836803"
     },
     "user_tz": 180
    },
    "id": "tIlWoJQykhnD",
    "outputId": "107941a1-07fa-450c-aa18-28b10ed8ad37"
   },
   "outputs": [
    {
     "name": "stdout",
     "output_type": "stream",
     "text": [
      "Positivos: 4\n",
      "Negativos: 0\n",
      "Total: 4\n"
     ]
    }
   ],
   "source": [
    "outlook_overcast_pos = len(df[(df.outlook == 'overcast') & (df.play=='yes')])\n",
    "outlook_overcast_neg = len(df[(df.outlook == 'overcast') & (df.play=='no')])\n",
    "total_outlook_overcast = outlook_overcast_pos + outlook_overcast_neg\n",
    "print(\"Positivos:\", outlook_overcast_pos)\n",
    "print(\"Negativos:\", outlook_overcast_neg)\n",
    "print(\"Total:\", total_outlook_overcast)"
   ]
  },
  {
   "cell_type": "code",
   "execution_count": 26,
   "metadata": {
    "colab": {
     "base_uri": "https://localhost:8080/"
    },
    "executionInfo": {
     "elapsed": 851,
     "status": "ok",
     "timestamp": 1613944207720,
     "user": {
      "displayName": "Nicolas Horro",
      "photoUrl": "https://lh4.googleusercontent.com/--3DXBeoKCHg/AAAAAAAAAAI/AAAAAAAAAY0/pAcXsaDcvLQ/s64/photo.jpg",
      "userId": "02428399203512836803"
     },
     "user_tz": 180
    },
    "id": "GKevmvOGkjNN",
    "outputId": "47f5e69b-40e0-429f-996b-327f98a02e52"
   },
   "outputs": [
    {
     "data": {
      "text/plain": [
       "0"
      ]
     },
     "execution_count": 26,
     "metadata": {},
     "output_type": "execute_result"
    }
   ],
   "source": [
    "entropy2(outlook_overcast_pos/total_outlook_overcast,\n",
    "         outlook_overcast_neg/total_outlook_overcast)"
   ]
  },
  {
   "cell_type": "markdown",
   "metadata": {},
   "source": [
    "En este caso, la entropía es cero. Por lo tanto, si el pronóstico está nublado podemos asegurar un resultado. En el árbol de decisión, esto correspondería a una hoja."
   ]
  },
  {
   "cell_type": "code",
   "execution_count": 27,
   "metadata": {
    "colab": {
     "base_uri": "https://localhost:8080/"
    },
    "executionInfo": {
     "elapsed": 769,
     "status": "ok",
     "timestamp": 1613944214764,
     "user": {
      "displayName": "Nicolas Horro",
      "photoUrl": "https://lh4.googleusercontent.com/--3DXBeoKCHg/AAAAAAAAAAI/AAAAAAAAAY0/pAcXsaDcvLQ/s64/photo.jpg",
      "userId": "02428399203512836803"
     },
     "user_tz": 180
    },
    "id": "JVjIzZmwkk8q",
    "outputId": "388ba4ae-0770-4e72-89ba-021bbd0ea6a0"
   },
   "outputs": [
    {
     "name": "stdout",
     "output_type": "stream",
     "text": [
      "Positivos: 3\n",
      "Negativos: 2\n",
      "Total: 5\n"
     ]
    }
   ],
   "source": [
    "outlook_rainy_pos = len(df[(df.outlook == 'rainy') & (df.play=='yes')])\n",
    "outlook_rainy_neg = len(df[(df.outlook == 'rainy') & (df.play=='no')])\n",
    "total_outlook_rainy = outlook_rainy_pos + outlook_rainy_neg\n",
    "print(\"Positivos:\", outlook_rainy_pos)\n",
    "print(\"Negativos:\", outlook_rainy_neg)\n",
    "print(\"Total:\", total_outlook_rainy)"
   ]
  },
  {
   "cell_type": "code",
   "execution_count": 28,
   "metadata": {
    "colab": {
     "base_uri": "https://localhost:8080/"
    },
    "executionInfo": {
     "elapsed": 981,
     "status": "ok",
     "timestamp": 1613944221933,
     "user": {
      "displayName": "Nicolas Horro",
      "photoUrl": "https://lh4.googleusercontent.com/--3DXBeoKCHg/AAAAAAAAAAI/AAAAAAAAAY0/pAcXsaDcvLQ/s64/photo.jpg",
      "userId": "02428399203512836803"
     },
     "user_tz": 180
    },
    "id": "_fBlTbdxkmn-",
    "outputId": "ccd0d2b0-eb1b-404c-e8ac-5a604b7e49e3"
   },
   "outputs": [
    {
     "data": {
      "text/plain": [
       "0.9709505944546686"
      ]
     },
     "execution_count": 28,
     "metadata": {},
     "output_type": "execute_result"
    }
   ],
   "source": [
    "entropy2(outlook_rainy_pos/total_outlook_rainy,outlook_rainy_neg/total_outlook_rainy)"
   ]
  },
  {
   "cell_type": "markdown",
   "metadata": {},
   "source": [
    "El pronósitco lluvioso, también tiene mucha entropía, por lo tanto no parece un buen criterio de partición."
   ]
  },
  {
   "cell_type": "markdown",
   "metadata": {
    "id": "EKxl1CNSkpEN"
   },
   "source": [
    "**Cálculo de la ganancia de información**\n",
    "\n",
    "Podemos calcular la ganancia de información para todos los valores que puede tomar un atributo $a_i$ como:\n",
    "\n",
    "$$\n",
    "IG(S,a) = H(S) - \\sum_i{ H(S|a_i) }\n",
    "$$"
   ]
  },
  {
   "cell_type": "code",
   "execution_count": 39,
   "metadata": {
    "executionInfo": {
     "elapsed": 801,
     "status": "ok",
     "timestamp": 1613944241189,
     "user": {
      "displayName": "Nicolas Horro",
      "photoUrl": "https://lh4.googleusercontent.com/--3DXBeoKCHg/AAAAAAAAAAI/AAAAAAAAAY0/pAcXsaDcvLQ/s64/photo.jpg",
      "userId": "02428399203512836803"
     },
     "user_tz": 180
    },
    "id": "PfbiRN24krFY"
   },
   "outputs": [],
   "source": [
    "def calculate_information_gain(df,attribute, target_attr='play',\n",
    "                                             value_positive='yes',\n",
    "                                             value_negative='no',verbose=True):\n",
    "    information_gain = 0\n",
    "\n",
    "    total_samples = len(df)\n",
    "    p_positive = len(df[df[target_attr]==value_positive]) / total_samples\n",
    "    p_negative = len(df[df[target_attr]==value_negative]) / total_samples\n",
    "\n",
    "    dataset_entropy = entropy2(p_positive,p_negative)\n",
    "\n",
    "    information_gain += dataset_entropy\n",
    "\n",
    "    attribute_values = df[attribute].unique()  \n",
    "    for attr_value in attribute_values:\n",
    "        print(\" Attribute %s\" % attribute)\n",
    "        attr_value_pos = len(df[(df[attribute] == attr_value) & (df[target_attr]==value_positive)])\n",
    "        attr_value_neg = len(df[(df[attribute] == attr_value) & (df[target_attr]==value_negative)])\n",
    "        total_attr_value = attr_value_pos + attr_value_neg\n",
    "\n",
    "        attr_entropy = entropy2(attr_value_pos/total_attr_value,attr_value_neg/total_attr_value)\n",
    "\n",
    "        if verbose:\n",
    "          print(\"   %s_%s entropy: %.3f\" % (attribute, attr_value, attr_entropy))\n",
    "\n",
    "        information_gain -= (total_attr_value/total_samples)*attr_entropy\n",
    "        \n",
    "    return information_gain"
   ]
  },
  {
   "cell_type": "markdown",
   "metadata": {},
   "source": [
    "Por ejemplo, para el primer atributo podemos comprobar que cuando está nublado obtenemos la menor entropía."
   ]
  },
  {
   "cell_type": "code",
   "execution_count": 30,
   "metadata": {
    "colab": {
     "base_uri": "https://localhost:8080/"
    },
    "executionInfo": {
     "elapsed": 869,
     "status": "ok",
     "timestamp": 1613944248117,
     "user": {
      "displayName": "Nicolas Horro",
      "photoUrl": "https://lh4.googleusercontent.com/--3DXBeoKCHg/AAAAAAAAAAI/AAAAAAAAAY0/pAcXsaDcvLQ/s64/photo.jpg",
      "userId": "02428399203512836803"
     },
     "user_tz": 180
    },
    "id": "VtLwbISCktFS",
    "outputId": "69fc277f-1ac3-4806-af96-d4c3ba3b82d2"
   },
   "outputs": [
    {
     "name": "stdout",
     "output_type": "stream",
     "text": [
      " Attribute outlook\n",
      "   outlook_overcast_entropy: 0.000\n",
      " Attribute outlook\n",
      "   outlook_rainy_entropy: 0.971\n",
      " Attribute outlook\n",
      "   outlook_sunny_entropy: 0.971\n"
     ]
    },
    {
     "data": {
      "text/plain": [
       "0.2467498197744391"
      ]
     },
     "execution_count": 30,
     "metadata": {},
     "output_type": "execute_result"
    }
   ],
   "source": [
    "calculate_information_gain(df,'outlook')"
   ]
  },
  {
   "cell_type": "code",
   "execution_count": 40,
   "metadata": {
    "colab": {
     "base_uri": "https://localhost:8080/"
    },
    "executionInfo": {
     "elapsed": 905,
     "status": "ok",
     "timestamp": 1613944353217,
     "user": {
      "displayName": "Nicolas Horro",
      "photoUrl": "https://lh4.googleusercontent.com/--3DXBeoKCHg/AAAAAAAAAAI/AAAAAAAAAY0/pAcXsaDcvLQ/s64/photo.jpg",
      "userId": "02428399203512836803"
     },
     "user_tz": 180
    },
    "id": "FQ3Q5h5akup-",
    "outputId": "e6a0a8df-3e29-457b-b448-9a5d40a45de6"
   },
   "outputs": [
    {
     "name": "stdout",
     "output_type": "stream",
     "text": [
      " Attribute humidity\n",
      "   humidity_high entropy: 0.985\n",
      " Attribute humidity\n",
      "   humidity_normal entropy: 0.592\n",
      " Attribute outlook\n",
      "   outlook_overcast entropy: 0.000\n",
      " Attribute outlook\n",
      "   outlook_rainy entropy: 0.971\n",
      " Attribute outlook\n",
      "   outlook_sunny entropy: 0.971\n",
      " Attribute temperature\n",
      "   temperature_hot entropy: 1.000\n",
      " Attribute temperature\n",
      "   temperature_cool entropy: 0.811\n",
      " Attribute temperature\n",
      "   temperature_mild entropy: 0.918\n",
      " Attribute windy\n",
      "   windy_False entropy: 0.811\n",
      " Attribute windy\n",
      "   windy_True entropy: 1.000\n"
     ]
    }
   ],
   "source": [
    "results = {}\n",
    "for attr in attributes:\n",
    "    results[attr] = calculate_information_gain(df,attr)"
   ]
  },
  {
   "cell_type": "code",
   "execution_count": 41,
   "metadata": {
    "colab": {
     "base_uri": "https://localhost:8080/",
     "height": 417
    },
    "executionInfo": {
     "elapsed": 1091,
     "status": "ok",
     "timestamp": 1613944357632,
     "user": {
      "displayName": "Nicolas Horro",
      "photoUrl": "https://lh4.googleusercontent.com/--3DXBeoKCHg/AAAAAAAAAAI/AAAAAAAAAY0/pAcXsaDcvLQ/s64/photo.jpg",
      "userId": "02428399203512836803"
     },
     "user_tz": 180
    },
    "id": "8tTeHXXokxMw",
    "outputId": "f138133c-ae4a-4393-f793-6a7fe1504719"
   },
   "outputs": [
    {
     "data": {
      "image/png": "[encoded data removed]",
      "text/plain": [
       "<Figure size 1296x432 with 1 Axes>"
      ]
     },
     "metadata": {
      "needs_background": "light"
     },
     "output_type": "display_data"
    }
   ],
   "source": [
    "fig,axes = plt.subplots(1,1,figsize=(18,6))\n",
    "fig.suptitle(\"Ganancia de Información para cada atributo\")\n",
    "axes.bar(results.keys(),results.values())\n",
    "axes.grid(which='Both')\n",
    "plt.show()"
   ]
  },
  {
   "cell_type": "markdown",
   "metadata": {},
   "source": [
    "Los atributos que en términos generales (es decir, si consideramos todos sus valores posibles) más información nos aportan son el pronóstico y la humedad. Podemos descomponer cada uno de ellos como una variable binaria y repetir el análisis."
   ]
  },
  {
   "cell_type": "code",
   "execution_count": 33,
   "metadata": {
    "colab": {
     "base_uri": "https://localhost:8080/",
     "height": 204
    },
    "executionInfo": {
     "elapsed": 831,
     "status": "ok",
     "timestamp": 1613944360598,
     "user": {
      "displayName": "Nicolas Horro",
      "photoUrl": "https://lh4.googleusercontent.com/--3DXBeoKCHg/AAAAAAAAAAI/AAAAAAAAAY0/pAcXsaDcvLQ/s64/photo.jpg",
      "userId": "02428399203512836803"
     },
     "user_tz": 180
    },
    "id": "cJ9QpcKDk0DD",
    "outputId": "1bca4665-8ec3-419d-d012-f362a63dbe3c"
   },
   "outputs": [
    {
     "data": {
      "text/html": [
       "<div>\n",
       "<style scoped>\n",
       "    .dataframe tbody tr th:only-of-type {\n",
       "        vertical-align: middle;\n",
       "    }\n",
       "\n",
       "    .dataframe tbody tr th {\n",
       "        vertical-align: top;\n",
       "    }\n",
       "\n",
       "    .dataframe thead th {\n",
       "        text-align: right;\n",
       "    }\n",
       "</style>\n",
       "<table border=\"1\" class=\"dataframe\">\n",
       "  <thead>\n",
       "    <tr style=\"text-align: right;\">\n",
       "      <th></th>\n",
       "      <th>windy</th>\n",
       "      <th>humidity_normal</th>\n",
       "      <th>outlook_rainy</th>\n",
       "      <th>outlook_sunny</th>\n",
       "      <th>temperature_hot</th>\n",
       "      <th>temperature_mild</th>\n",
       "    </tr>\n",
       "  </thead>\n",
       "  <tbody>\n",
       "    <tr>\n",
       "      <th>0</th>\n",
       "      <td>False</td>\n",
       "      <td>0</td>\n",
       "      <td>0</td>\n",
       "      <td>0</td>\n",
       "      <td>1</td>\n",
       "      <td>0</td>\n",
       "    </tr>\n",
       "    <tr>\n",
       "      <th>1</th>\n",
       "      <td>True</td>\n",
       "      <td>1</td>\n",
       "      <td>0</td>\n",
       "      <td>0</td>\n",
       "      <td>0</td>\n",
       "      <td>0</td>\n",
       "    </tr>\n",
       "    <tr>\n",
       "      <th>2</th>\n",
       "      <td>True</td>\n",
       "      <td>0</td>\n",
       "      <td>0</td>\n",
       "      <td>0</td>\n",
       "      <td>0</td>\n",
       "      <td>1</td>\n",
       "    </tr>\n",
       "    <tr>\n",
       "      <th>3</th>\n",
       "      <td>False</td>\n",
       "      <td>1</td>\n",
       "      <td>0</td>\n",
       "      <td>0</td>\n",
       "      <td>1</td>\n",
       "      <td>0</td>\n",
       "    </tr>\n",
       "    <tr>\n",
       "      <th>4</th>\n",
       "      <td>False</td>\n",
       "      <td>0</td>\n",
       "      <td>1</td>\n",
       "      <td>0</td>\n",
       "      <td>0</td>\n",
       "      <td>1</td>\n",
       "    </tr>\n",
       "  </tbody>\n",
       "</table>\n",
       "</div>"
      ],
      "text/plain": [
       "   windy  humidity_normal  outlook_rainy  outlook_sunny  temperature_hot  \\\n",
       "0  False                0              0              0                1   \n",
       "1   True                1              0              0                0   \n",
       "2   True                0              0              0                0   \n",
       "3  False                1              0              0                1   \n",
       "4  False                0              1              0                0   \n",
       "\n",
       "   temperature_mild  \n",
       "0                 0  \n",
       "1                 0  \n",
       "2                 1  \n",
       "3                 0  \n",
       "4                 1  "
      ]
     },
     "execution_count": 33,
     "metadata": {},
     "output_type": "execute_result"
    }
   ],
   "source": [
    "df_ohe = pd.get_dummies(df[attributes],drop_first=True)\n",
    "df_ohe.head()"
   ]
  },
  {
   "cell_type": "code",
   "execution_count": 34,
   "metadata": {
    "colab": {
     "base_uri": "https://localhost:8080/"
    },
    "executionInfo": {
     "elapsed": 948,
     "status": "ok",
     "timestamp": 1613944370718,
     "user": {
      "displayName": "Nicolas Horro",
      "photoUrl": "https://lh4.googleusercontent.com/--3DXBeoKCHg/AAAAAAAAAAI/AAAAAAAAAY0/pAcXsaDcvLQ/s64/photo.jpg",
      "userId": "02428399203512836803"
     },
     "user_tz": 180
    },
    "id": "COzXTQnIlK9E",
    "outputId": "d6751b36-4595-4ef3-8f1e-6b26d235d95a"
   },
   "outputs": [
    {
     "name": "stdout",
     "output_type": "stream",
     "text": [
      " Attribute windy\n",
      "   windy_False_entropy: 0.811\n",
      " Attribute windy\n",
      "   windy_True_entropy: 1.000\n",
      " Attribute humidity_normal\n",
      "   humidity_normal_0_entropy: 0.985\n",
      " Attribute humidity_normal\n",
      "   humidity_normal_1_entropy: 0.592\n",
      " Attribute outlook_rainy\n",
      "   outlook_rainy_0_entropy: 0.918\n",
      " Attribute outlook_rainy\n",
      "   outlook_rainy_1_entropy: 0.971\n",
      " Attribute outlook_sunny\n",
      "   outlook_sunny_0_entropy: 0.764\n",
      " Attribute outlook_sunny\n",
      "   outlook_sunny_1_entropy: 0.971\n",
      " Attribute temperature_hot\n",
      "   temperature_hot_1_entropy: 1.000\n",
      " Attribute temperature_hot\n",
      "   temperature_hot_0_entropy: 0.881\n",
      " Attribute temperature_mild\n",
      "   temperature_mild_0_entropy: 0.954\n",
      " Attribute temperature_mild\n",
      "   temperature_mild_1_entropy: 0.918\n"
     ]
    }
   ],
   "source": [
    "results_ohe = {}\n",
    "for attr in list(df_ohe.columns):\n",
    "    results_ohe[attr] = calculate_information_gain(pd.concat([df_ohe,df.play],axis=1),attr)"
   ]
  },
  {
   "cell_type": "code",
   "execution_count": 35,
   "metadata": {
    "colab": {
     "base_uri": "https://localhost:8080/",
     "height": 418
    },
    "executionInfo": {
     "elapsed": 1047,
     "status": "ok",
     "timestamp": 1613944378817,
     "user": {
      "displayName": "Nicolas Horro",
      "photoUrl": "https://lh4.googleusercontent.com/--3DXBeoKCHg/AAAAAAAAAAI/AAAAAAAAAY0/pAcXsaDcvLQ/s64/photo.jpg",
      "userId": "02428399203512836803"
     },
     "user_tz": 180
    },
    "id": "XXL0PR0clM7i",
    "outputId": "98115378-2abb-4997-ca36-10ea030a8616"
   },
   "outputs": [
    {
     "data": {
      "image/png": "[encoded data removed]",
      "text/plain": [
       "<Figure size 1296x432 with 1 Axes>"
      ]
     },
     "metadata": {
      "needs_background": "light"
     },
     "output_type": "display_data"
    }
   ],
   "source": [
    "fig,axes = plt.subplots(1,1,figsize=(18,6))\n",
    "fig.suptitle(\"Ganancia de Información para cada atributo\")\n",
    "axes.bar(results_ohe.keys(),results_ohe.values())\n",
    "axes.grid(which='Both')\n",
    "plt.show()"
   ]
  },
  {
   "cell_type": "markdown",
   "metadata": {},
   "source": [
    "En este caso observamos que cuando la humedad está normal logramos la mayor reducción de la entropía.\n",
    "Podemos comparar el resultado que obtuvimos con el árbol generado por SKLearn.\n",
    "\n",
    "```{note}\n",
    "DecisionTreeClassifier utiliza CART, no ID3.\n",
    "```"
   ]
  },
  {
   "cell_type": "code",
   "execution_count": 36,
   "metadata": {
    "colab": {
     "base_uri": "https://localhost:8080/",
     "height": 807
    },
    "executionInfo": {
     "elapsed": 2663,
     "status": "ok",
     "timestamp": 1613944393593,
     "user": {
      "displayName": "Nicolas Horro",
      "photoUrl": "https://lh4.googleusercontent.com/--3DXBeoKCHg/AAAAAAAAAAI/AAAAAAAAAY0/pAcXsaDcvLQ/s64/photo.jpg",
      "userId": "02428399203512836803"
     },
     "user_tz": 180
    },
    "id": "gd6eCj-flPdY",
    "outputId": "429e7ce6-f243-46f2-dfb9-e1c9e9c49223"
   },
   "outputs": [
    {
     "data": {
      "image/png": "[encoded data removed]",
      "text/plain": [
       "<Figure size 1296x432 with 1 Axes>"
      ]
     },
     "metadata": {
      "needs_background": "light"
     },
     "output_type": "display_data"
    }
   ],
   "source": [
    "from sklearn.tree import DecisionTreeClassifier, plot_tree\n",
    "from sklearn.tree import export_graphviz\n",
    "from IPython.display import Image  \n",
    "\n",
    "model=DecisionTreeClassifier(criterion='entropy',splitter='best')\n",
    "model.fit(df_ohe,df.play.values)\n",
    "\n",
    "plt.figure(figsize=(18,6))  \n",
    "plot_tree(model,  filled=True, rounded=True,fontsize=10, \n",
    "               feature_names = list(df_ohe.columns), class_names=['no','yes'])\n",
    "plt.show()"
   ]
  },
  {
   "cell_type": "markdown",
   "metadata": {
    "id": "fr9G296R6KzZ"
   },
   "source": [
    "### Información Mutua"
   ]
  },
  {
   "cell_type": "markdown",
   "metadata": {
    "id": "LxmpYOiWCdhT"
   },
   "source": [
    "Dadas dos variables aleatorias $X$ e $Y$, la información mutua $I(X;Y)$ mide cuanto se reduce la incerteza de una de ellas cuando se conoce el valor de la otra. \n",
    "\n",
    "$$\n",
    "I(X;Y) = H(X) + H(Y) - H(X|Y)\n",
    "$$"
   ]
  },
  {
   "cell_type": "markdown",
   "metadata": {
    "id": "Ybta3OOntaK0"
   },
   "source": [
    "## Bibliografía y Referencias\n",
    "\n",
    "- \"The Deep Learning Book\". https://www.deeplearningbook.org/contents/prob.html\n",
    "- \"Information theory, inference and learning algorithms\". MacKay D.J.C. CUP (2005)\n",
    "- \"Machine Learning: A Probabilistic Perspective\". Kevin P. Murphy. MIT (2003)\n",
    "- \"Data mining: practical machine learning tools and techniques\". Frank, Eibe; Hall, Mark A.; Pal, Christopher J.; Witten, Ian H. Morgan Kaufman (2017)\n",
    "- \"Machine Learning\". Thomas Mitchell. McGraw Hill (1997).\n",
    "- https://people.cs.umass.edu/~elm/Teaching/Docs/mutInf.pdf / https://people.cs.umass.edu/~elm/Teaching/Docs/probReview.pdf"
   ]
  }
 ],
 "metadata": {
  "colab": {
   "authorship_tag": "ABX9TyMORAc8pa5Uv8BSR1IAC4J7",
   "collapsed_sections": [
    "Ybta3OOntaK0"
   ],
   "name": "06 - Introducción a la Teoría de la Información.ipynb",
   "provenance": [],
   "toc_visible": true
  },
  "kernelspec": {
   "display_name": "Python 3",
   "language": "python",
   "name": "python3"
  },
  "language_info": {
   "codemirror_mode": {
    "name": "ipython",
    "version": 3
   },
   "file_extension": ".py",
   "mimetype": "text/x-python",
   "name": "python",
   "nbconvert_exporter": "python",
   "pygments_lexer": "ipython3",
   "version": "3.7.10"
  }
 },
 "nbformat": 4,
 "nbformat_minor": 4
}
