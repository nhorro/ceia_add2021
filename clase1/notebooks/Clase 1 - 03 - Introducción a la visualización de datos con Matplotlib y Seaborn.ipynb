{
 "cells": [
  {
   "cell_type": "code",
   "execution_count": null,
   "metadata": {
    "slideshow": {
     "slide_type": "skip"
    }
   },
   "outputs": [],
   "source": [
    "!pip install -U seaborn"
   ]
  },
  {
   "cell_type": "markdown",
   "metadata": {
    "id": "5QXmoPMxU5K6",
    "slideshow": {
     "slide_type": "slide"
    }
   },
   "source": [
    "# Introducción a la visualización de datos con Matplotlib y Seaborn"
   ]
  },
  {
   "cell_type": "markdown",
   "metadata": {
    "slideshow": {
     "slide_type": "slide"
    }
   },
   "source": [
    "Plan:\n",
    "\n",
    "1. Uso básico (estilo Orientado a Objetos)\n",
    "2. Catálogo de Gráficos\n",
    "3. Visualización de datos estadísticos con Seaborn"
   ]
  },
  {
   "cell_type": "code",
   "execution_count": null,
   "metadata": {
    "executionInfo": {
     "elapsed": 878,
     "status": "ok",
     "timestamp": 1613219924679,
     "user": {
      "displayName": "Nicolas Horro",
      "photoUrl": "https://lh4.googleusercontent.com/--3DXBeoKCHg/AAAAAAAAAAI/AAAAAAAAAY0/pAcXsaDcvLQ/s64/photo.jpg",
      "userId": "02428399203512836803"
     },
     "user_tz": 180
    },
    "id": "9QSvk0MoU5LA",
    "slideshow": {
     "slide_type": "slide"
    }
   },
   "outputs": [],
   "source": [
    "import numpy as np\n",
    "import matplotlib.pyplot as plt"
   ]
  },
  {
   "cell_type": "markdown",
   "metadata": {
    "id": "qBL0C32ZU5LB",
    "slideshow": {
     "slide_type": "slide"
    }
   },
   "source": [
    "# 1. Uso básico de Matplotlib (estilo Orientado a Objetos)"
   ]
  },
  {
   "cell_type": "markdown",
   "metadata": {
    "id": "4oBTGn6MU5LB",
    "slideshow": {
     "slide_type": "slide"
    }
   },
   "source": [
    "Generación de datos de prueba."
   ]
  },
  {
   "cell_type": "markdown",
   "metadata": {
    "id": "SxsWPjkGVBgU",
    "slideshow": {
     "slide_type": "slide"
    }
   },
   "source": [
    "Ejemplo, graficar $y_1(x) = x^2$, $y_2(x)= y_2(x) + \\eta$."
   ]
  },
  {
   "cell_type": "code",
   "execution_count": null,
   "metadata": {
    "executionInfo": {
     "elapsed": 759,
     "status": "ok",
     "timestamp": 1613219927837,
     "user": {
      "displayName": "Nicolas Horro",
      "photoUrl": "https://lh4.googleusercontent.com/--3DXBeoKCHg/AAAAAAAAAAI/AAAAAAAAAY0/pAcXsaDcvLQ/s64/photo.jpg",
      "userId": "02428399203512836803"
     },
     "user_tz": 180
    },
    "id": "7wdyd8_CU5LC",
    "slideshow": {
     "slide_type": "slide"
    }
   },
   "outputs": [],
   "source": [
    "x = np.linspace(0, 2, 100)\n",
    "y1 = x**2\n",
    "y2 = y1 + np.random.uniform(size=x.shape[0])"
   ]
  },
  {
   "cell_type": "code",
   "execution_count": null,
   "metadata": {
    "colab": {
     "base_uri": "https://localhost:8080/",
     "height": 664
    },
    "executionInfo": {
     "elapsed": 1939,
     "status": "ok",
     "timestamp": 1613219931933,
     "user": {
      "displayName": "Nicolas Horro",
      "photoUrl": "https://lh4.googleusercontent.com/--3DXBeoKCHg/AAAAAAAAAAI/AAAAAAAAAY0/pAcXsaDcvLQ/s64/photo.jpg",
      "userId": "02428399203512836803"
     },
     "user_tz": 180
    },
    "id": "perXL20gU5LC",
    "outputId": "ccf2c8e7-d542-40cf-f2ec-a5dba462f9b7",
    "slideshow": {
     "slide_type": "slide"
    }
   },
   "outputs": [],
   "source": [
    "def my_plot(x,y1,y2):\n",
    "    fig, axes = plt.subplots(2,1,figsize=(22,12)) \n",
    "\n",
    "    # Gráfico 1\n",
    "    axes[0].set_title(\"Gráfico 1\")\n",
    "    axes[0].scatter(x, y1, label='y1',color=\"g\")\n",
    "    axes[0].plot(x, y2, label='y2')\n",
    "    axes[0].set_xlabel('x')\n",
    "    axes[0].set_ylabel('y')\n",
    "    axes[0].legend(\"Curva 1\") \n",
    "    axes[0].grid(which='Both')\n",
    "    axes[0].legend([\"$y_1$\",\"$y_2$\"])\n",
    "    \n",
    "    # Gráfico 2\n",
    "    axes[1].set_title(\"Gráfico 2\")\n",
    "    axes[1].scatter(x, -y1, label='y1',color=\"r\")\n",
    "    axes[1].plot(x, -y2, label='y2')\n",
    "    axes[1].set_xlabel('x')\n",
    "    axes[1].set_ylabel('y')\n",
    "    axes[1].legend(\"Curva 1\") \n",
    "    axes[1].grid(which='Both')\n",
    "    axes[1].legend([\"-$y_1$\",\"-$y_2$\"])\n",
    "    \n",
    "    plt.show() # opcional"
   ]
  },
  {
   "cell_type": "code",
   "execution_count": null,
   "metadata": {
    "slideshow": {
     "slide_type": "slide"
    }
   },
   "outputs": [],
   "source": [
    "my_plot(x,y1,y2)"
   ]
  },
  {
   "cell_type": "markdown",
   "metadata": {
    "id": "3YjvANgkU5LC",
    "slideshow": {
     "slide_type": "slide"
    }
   },
   "source": [
    "<center>\n",
    "<img src=\"https://matplotlib.org/_images/anatomy.png\"/>\n",
    "</center>\n",
    "\n",
    "Fuente: https://matplotlib.org/stable/tutorials/introductory/usage.html#sphx-glr-tutorials-introductory-usage-py"
   ]
  },
  {
   "cell_type": "markdown",
   "metadata": {
    "id": "ChRo2a4eU5LE",
    "slideshow": {
     "slide_type": "slide"
    }
   },
   "source": [
    "# 2. Visualización de datos estadísticos"
   ]
  },
  {
   "cell_type": "markdown",
   "metadata": {
    "slideshow": {
     "slide_type": "slide"
    }
   },
   "source": [
    "- Uno de los primeros pasos (sino el primero) en el análisis de datos es la inspección visual. \n",
    "- La forma más sencilla es seleccionar alguno de los tipos de gráficos soportados por Matplotlib (ver: http://matplotlib.org/gallery.html) y copiar el código Python correspondiente.\n",
    "- Para análisis de datos estadísticos, el paquete *seaborn*(http://www.stanford.edu/~mwaskom/software/seaborn/) provee una interface de más alto nivel sobre Matplotlib.\n",
    "- Por último, Pandas también provee algunas funciones de alto nivel para visualización de datos."
   ]
  },
  {
   "cell_type": "code",
   "execution_count": null,
   "metadata": {
    "slideshow": {
     "slide_type": "slide"
    }
   },
   "outputs": [],
   "source": [
    "import seaborn as sns\n",
    "sns.set()"
   ]
  },
  {
   "cell_type": "code",
   "execution_count": null,
   "metadata": {
    "slideshow": {
     "slide_type": "slide"
    }
   },
   "outputs": [],
   "source": [
    "import pandas as pd"
   ]
  },
  {
   "cell_type": "code",
   "execution_count": null,
   "metadata": {
    "slideshow": {
     "slide_type": "slide"
    }
   },
   "outputs": [],
   "source": [
    "from scipy import stats # para generar datos"
   ]
  },
  {
   "cell_type": "markdown",
   "metadata": {
    "slideshow": {
     "slide_type": "slide"
    }
   },
   "source": [
    "### Datos Univariados"
   ]
  },
  {
   "cell_type": "markdown",
   "metadata": {
    "id": "0Rf40SxhU5LE",
    "slideshow": {
     "slide_type": "slide"
    }
   },
   "source": [
    "#### Histograma\n",
    "\n",
    "- El histograma permite tener una impresión rápida de la distribución de los datos. \n",
    "- Si se divide por el total de muestras se obtiene un *histograma de frecuencia relativa* y si se conectan los puntos centrales de cada bin se obtiene un *polígono de frecuencia relativa*."
   ]
  },
  {
   "cell_type": "code",
   "execution_count": null,
   "metadata": {
    "id": "GfZR3IomU5LE",
    "outputId": "598a9cb1-de77-4d90-9585-edd33e00666a",
    "slideshow": {
     "slide_type": "slide"
    }
   },
   "outputs": [],
   "source": [
    "fig,axes = plt.subplots(1,1,figsize=(22,8))\n",
    "axes.hist(stats.norm.rvs(size=1000))\n",
    "axes.grid(which='Both')"
   ]
  },
  {
   "cell_type": "markdown",
   "metadata": {
    "slideshow": {
     "slide_type": "slide"
    }
   },
   "source": [
    "#### Histograma con estimación de densidad de kernel (KDE)"
   ]
  },
  {
   "cell_type": "code",
   "execution_count": null,
   "metadata": {
    "slideshow": {
     "slide_type": "slide"
    }
   },
   "outputs": [],
   "source": [
    "data = stats.norm.rvs(size=1000)\n",
    "fig,axes = plt.subplots(1,1,figsize=(22,8))\n",
    "sns.distplot(data,ax=axes,kde = True)\n",
    "axes.grid(which='Both')"
   ]
  },
  {
   "cell_type": "markdown",
   "metadata": {
    "slideshow": {
     "slide_type": "slide"
    }
   },
   "source": [
    "#### Cumulative frequencies\n",
    "\n",
    "- La curva de frecuencia acumulada indica la cantidad (o porcentaje) de los datos cuyo valor es menor o igual a un valor dado. \n",
    "- Es útil para análisis estadístico, por ejemplo para conocer el rango que contiene el 95% de todos los valores. También es útil para comparar la distribución de valores de dos o más grupos."
   ]
  },
  {
   "cell_type": "code",
   "execution_count": null,
   "metadata": {
    "slideshow": {
     "slide_type": "slide"
    }
   },
   "outputs": [],
   "source": [
    "data = stats.norm.rvs(size=1000)\n",
    "fig,axes = plt.subplots(1,1,figsize=(22,8))\n",
    "axes.plot(stats.cumfreq(data,numbins=20)[0]/1000);\n",
    "axes.set_xlabel(\"$X$\")\n",
    "axes.set_ylabel(\"$P(x \\leq X)$\");"
   ]
  },
  {
   "cell_type": "markdown",
   "metadata": {
    "slideshow": {
     "slide_type": "slide"
    }
   },
   "source": [
    "#### Barras de error\n",
    "\n",
    "- Los gráficos de barras de error muestran el valor medio y la variabilidad de los datos. \n",
    "- **Importante**: se debe indicar de manera explícita si las barras de error corresponden a la desviación estandar o al error estándar de los datos. \n",
    "- En esto último caso hay un aspecto de interés: cuando las barras de error para los errores estándar de dos grupos se solapan, se puede asegurar que la diferencia entre sus medias no es estadísticamente significante (p> 0.05). No obstante, lo opuesto no siempre se cumple."
   ]
  },
  {
   "cell_type": "code",
   "execution_count": null,
   "metadata": {
    "scrolled": false,
    "slideshow": {
     "slide_type": "slide"
    }
   },
   "outputs": [],
   "source": [
    "index = np.arange(5)\n",
    "y = index**2\n",
    "error_bar = index/2\n",
    "\n",
    "fig,axes = plt.subplots(1,1,figsize=(22,8))\n",
    "axes.errorbar(index,y, yerr=error_bar, fmt='o',capsize=5, capthick=3)\n",
    "axes.grid(which='Both')"
   ]
  },
  {
   "cell_type": "markdown",
   "metadata": {
    "slideshow": {
     "slide_type": "slide"
    }
   },
   "source": [
    "#### Boxplot / Box & Whiskers (cajas y bigotes)\n",
    "\n",
    "- En estos diagramas el lado inferior y superior de la caja indican el primer y tercer cuartil respectivamente. \n",
    "- La línea interior indica la **mediana**. \n",
    "- Se debe prestar atención a la convención utilizada, pues no hay una única manera de realizar estos diagramas. \n",
    "- La más usada es utilizar el \"bigote\" inferior para indicar el valor más bajo dentro del 1.5*rango-inter-cuartil(IQR) inferior y el bigote superior para indicar el valor más alto dentro de 1.5*rango-intercuartil superior. \n",
    "- Los valores anómalos (outliers) quedan afuera de los bigotes."
   ]
  },
  {
   "cell_type": "code",
   "execution_count": null,
   "metadata": {
    "id": "UFlQ0QnOU5LF",
    "outputId": "720c9a4a-07cf-4d5c-c3b8-7d8203706571",
    "slideshow": {
     "slide_type": "slide"
    }
   },
   "outputs": [],
   "source": [
    "fig,axes = plt.subplots(1,1,figsize=(22,8))\n",
    "\n",
    "data1 = stats.norm(loc = -10, scale = 12.5).rvs(size=1000)\n",
    "data2 = stats.norm(loc = 3, scale = 0.5).rvs(size=1000)\n",
    "data3 = stats.norm(loc = 5, scale = 4).rvs(size=1000)\n",
    "data4 = stats.norm(loc = 6, scale = 21).rvs(size=1000)\n",
    "data5 = stats.norm(loc = 12, scale = 2).rvs(size=1000)\n",
    "\n",
    "axes.boxplot([data1,data2,data3,data4,data5],sym='*')\n",
    "axes.grid(which='Both')"
   ]
  },
  {
   "cell_type": "markdown",
   "metadata": {
    "slideshow": {
     "slide_type": "slide"
    }
   },
   "source": [
    "#### Gráficos de violín\n",
    "\n",
    "- Los diagramas de cajas pueden combinarse con os diagramas KDE para generar los \"Violin\" plots, llamados así por su forma de violín. \n",
    "- El eje vertical es el mismo que en el diagrama de cajas, pero además se muestra un gráfico KDE en la dirección horizontal."
   ]
  },
  {
   "cell_type": "code",
   "execution_count": null,
   "metadata": {
    "slideshow": {
     "slide_type": "slide"
    }
   },
   "outputs": [],
   "source": [
    "df = pd.DataFrame({\n",
    "    'A':stats.norm(loc = 3, scale = 1.5).rvs(size=(100)), \n",
    "    'B':stats.norm(loc = -3, scale = 2.5).rvs(size=(100))\n",
    "})\n",
    "\n",
    "fig,axes = plt.subplots(1,1,figsize=(22,8))\n",
    "sns.violinplot(data=df,ax=axes);"
   ]
  },
  {
   "cell_type": "markdown",
   "metadata": {
    "slideshow": {
     "slide_type": "slide"
    }
   },
   "source": [
    "#### Gráficos de barra (Pandas)"
   ]
  },
  {
   "cell_type": "code",
   "execution_count": null,
   "metadata": {
    "slideshow": {
     "slide_type": "slide"
    }
   },
   "outputs": [],
   "source": [
    "fig,axes = plt.subplots(1,1,figsize=(22,8))\n",
    "\n",
    "df = pd.DataFrame(\n",
    "    np.random.rand(10, 4),\n",
    "    columns=['A', 'B', 'C', 'D']\n",
    ")\n",
    "\n",
    "df.plot(kind='bar',ax=axes);"
   ]
  },
  {
   "cell_type": "markdown",
   "metadata": {
    "slideshow": {
     "slide_type": "slide"
    }
   },
   "source": [
    "#### Diagramas de torta (Pandas)"
   ]
  },
  {
   "cell_type": "code",
   "execution_count": null,
   "metadata": {
    "scrolled": true
   },
   "outputs": [],
   "source": [
    "txtLabels = ['A', 'B', 'C', 'D']\n",
    "fractions = [30, 20, 30, 10]\n",
    "offsets =(0, 0, 0, 0.25)\n",
    "\n",
    "fig,axes = plt.subplots(1,1,figsize=(22,8))\n",
    "axes.axis('equal')\n",
    "axes.pie(\n",
    "    fractions, \n",
    "    explode=offsets, \n",
    "    labels=txtLabels,\n",
    "    autopct='%1.1f%%', \n",
    "    shadow=True, startangle=90\n",
    ");"
   ]
  },
  {
   "cell_type": "markdown",
   "metadata": {
    "slideshow": {
     "slide_type": "slide"
    }
   },
   "source": [
    "### Datos bivariados y multivariados"
   ]
  },
  {
   "cell_type": "markdown",
   "metadata": {
    "slideshow": {
     "slide_type": "slide"
    }
   },
   "source": [
    "#### Scatter\n",
    "\n",
    "Para dos variables se puede utilizar ung gráfico X-Y."
   ]
  },
  {
   "cell_type": "code",
   "execution_count": null,
   "metadata": {
    "slideshow": {
     "slide_type": "slide"
    }
   },
   "outputs": [],
   "source": [
    "df = pd.DataFrame(\n",
    "      np.random.rand(50, 4),\n",
    "      columns=['a', 'b', 'c', 'd']\n",
    ")\n",
    "\n",
    "fig,axes = plt.subplots(1,1,figsize=(22,8))\n",
    "df.plot(kind='scatter', x='a', y='b', s=df['c']*300.0,ax=axes);"
   ]
  },
  {
   "cell_type": "markdown",
   "metadata": {
    "slideshow": {
     "slide_type": "slide"
    }
   },
   "source": [
    "#### Joint plot"
   ]
  },
  {
   "cell_type": "code",
   "execution_count": null,
   "metadata": {
    "slideshow": {
     "slide_type": "slide"
    }
   },
   "outputs": [],
   "source": [
    "sns.jointplot(x='a',y='b',data=df);"
   ]
  },
  {
   "cell_type": "markdown",
   "metadata": {
    "slideshow": {
     "slide_type": "slide"
    }
   },
   "source": [
    "Para más de tres variables que pueden estar relacionadas entre sí, puede ser útil usar la función *pairplot*."
   ]
  },
  {
   "cell_type": "code",
   "execution_count": null,
   "metadata": {
    "slideshow": {
     "slide_type": "slide"
    }
   },
   "outputs": [],
   "source": [
    "df = sns.load_dataset(\"iris\")\n",
    "sns.pairplot(df, hue=\"species\", height=2.5);"
   ]
  },
  {
   "cell_type": "markdown",
   "metadata": {
    "slideshow": {
     "slide_type": "slide"
    }
   },
   "source": [
    "#### Heatmap"
   ]
  },
  {
   "cell_type": "code",
   "execution_count": null,
   "metadata": {
    "slideshow": {
     "slide_type": "slide"
    }
   },
   "outputs": [],
   "source": [
    "cmap = sns.diverging_palette(220, 10, as_cmap=True)    \n",
    "\n",
    "rs = np.random.RandomState(33)\n",
    "d = rs.normal(size=(100, 30))\n",
    "corr = np.corrcoef(np.random.randn(10, 200))\n",
    "\n",
    "mask = np.zeros_like(corr)\n",
    "mask[np.triu_indices_from(mask)] = True\n",
    "\n",
    "fig,axes = plt.subplots(1,1,figsize=(24,8))\n",
    "sns.heatmap(corr, mask=mask, cmap=cmap, vmax=.3, square=True,ax=axes);"
   ]
  },
  {
   "cell_type": "markdown",
   "metadata": {
    "slideshow": {
     "slide_type": "slide"
    }
   },
   "source": [
    "#### Pairplot"
   ]
  },
  {
   "cell_type": "code",
   "execution_count": null,
   "metadata": {
    "slideshow": {
     "slide_type": "slide"
    }
   },
   "outputs": [],
   "source": [
    "df = pd.DataFrame( np.random.rand(50, 4), columns=['a', 'b', 'c', 'd'] )\n",
    "df['a'] = 2.0*df['b']\n",
    "df['c'] = -4.0*df['d']\n",
    "sns.pairplot(data=df);"
   ]
  },
  {
   "cell_type": "markdown",
   "metadata": {
    "id": "HTkgnVdkU5LH",
    "slideshow": {
     "slide_type": "slide"
    }
   },
   "source": [
    "# Bibliografía y Referencias\n",
    "\n",
    "- A Python Data Analyst's Toolkit\n",
    "- An Introduction to Statistics with Python\n",
    "- [Referencia Oficial de Matplotlib](https://matplotlib.org/)\n",
    "- [Data Visualization using Matplotlib](https://towardsdatascience.com/data-visualization-using-matplotlib-16f1aae5ce70). Accedido 22/01/2020.\n",
    "- [How to Read and Use a Box-and-Whisker Plot](https://flowingdata.com/2008/02/15/how-to-read-and-use-a-box-and-whisker-plot/)\n",
    "- [Visualizing distributions of data](https://seaborn.pydata.org/tutorial/distributions.html) Accedido: 11/01/2021."
   ]
  }
 ],
 "metadata": {
  "celltoolbar": "Slideshow",
  "colab": {
   "name": "03 - Introduccion a Matplotlib.ipynb",
   "provenance": []
  },
  "kernelspec": {
   "display_name": "Python 3",
   "language": "python",
   "name": "python3"
  },
  "language_info": {
   "codemirror_mode": {
    "name": "ipython",
    "version": 3
   },
   "file_extension": ".py",
   "mimetype": "text/x-python",
   "name": "python",
   "nbconvert_exporter": "python",
   "pygments_lexer": "ipython3",
   "version": "3.7.10"
  }
 },
 "nbformat": 4,
 "nbformat_minor": 4
}
