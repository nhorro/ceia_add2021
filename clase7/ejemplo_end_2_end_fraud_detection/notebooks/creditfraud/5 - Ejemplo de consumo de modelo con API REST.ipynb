{
 "cells": [
  {
   "cell_type": "markdown",
   "metadata": {},
   "source": [
    "# 5. Ejemplo de consumo de API REST\n",
    "\n",
    "Este cuaderno muestra como consumir el modelo seleccionado en el cuaderno anterior como un servicio REST. Este servicio REST luego podrá ser consumido por un sistema de procesamiento en tiempo real para detección de anomalías (fraudes, en este caso)."
   ]
  },
  {
   "cell_type": "markdown",
   "metadata": {},
   "source": [
    "## 5.1 API REST\n",
    "\n",
    "Por defecto, se sirve una aplicación Flask que ejecuta el modelo seleccionado (renombrado como \"production.pkl\") accesible en la siguiente ruta:"
   ]
  },
  {
   "cell_type": "code",
   "execution_count": 1,
   "metadata": {},
   "outputs": [],
   "source": [
    "ML_SERVICE_ENDPOINT = \"http://creditfraudmodel:5000\""
   ]
  },
  {
   "cell_type": "markdown",
   "metadata": {},
   "source": [
    "Obtener Status de la API."
   ]
  },
  {
   "cell_type": "code",
   "execution_count": 2,
   "metadata": {},
   "outputs": [
    {
     "data": {
      "text/plain": [
       "b'Sirviendo modelo: /models/production.pkl'"
      ]
     },
     "execution_count": 2,
     "metadata": {},
     "output_type": "execute_result"
    }
   ],
   "source": [
    "import requests\n",
    "import json\n",
    "\n",
    "response = requests.get(ML_SERVICE_ENDPOINT)\n",
    "response.content"
   ]
  },
  {
   "cell_type": "markdown",
   "metadata": {},
   "source": [
    "Test mínimo para verificar carga de modelo."
   ]
  },
  {
   "cell_type": "code",
   "execution_count": 3,
   "metadata": {},
   "outputs": [
    {
     "data": {
      "text/plain": [
       "{'prediction_result': 1.0}"
      ]
     },
     "execution_count": 3,
     "metadata": {},
     "output_type": "execute_result"
    }
   ],
   "source": [
    "response = requests.get(ML_SERVICE_ENDPOINT+\"/test\")\n",
    "response.json()"
   ]
  },
  {
   "cell_type": "markdown",
   "metadata": {},
   "source": [
    "Predicción con features en campo JSON."
   ]
  },
  {
   "cell_type": "code",
   "execution_count": 4,
   "metadata": {
    "scrolled": true
   },
   "outputs": [
    {
     "data": {
      "text/plain": [
       "{'prediction_result': 1.0}"
      ]
     },
     "execution_count": 4,
     "metadata": {},
     "output_type": "execute_result"
    }
   ],
   "source": [
    "data = {\n",
    "    \"features\": [ \n",
    "        1.86822575,  1.36307704, -1.99493428,  4.17351574,  1.23975095,\n",
    "        -0.74618646,  0.57273053, -0.13123484, -1.55183852,  0.22884943,\n",
    "        1.70189471,  0.14462239,  0.10408768, -2.95416672, -1.37412193,\n",
    "        1.88941746,  1.71451074,  1.10465991, -1.59744021, -0.1722165 ,\n",
    "        -0.30100148, -0.81897228,  0.20681231, -0.26368303, -0.1149581 ,\n",
    "        -0.24067212, -0.00662945,  0.01725773,  3.14\n",
    "    ]\n",
    "} \n",
    "json_data = json.dumps(data)\n",
    "response = requests.post(ML_SERVICE_ENDPOINT+\"/predict\", json=json_data)\n",
    "response.json()"
   ]
  },
  {
   "cell_type": "code",
   "execution_count": 5,
   "metadata": {},
   "outputs": [
    {
     "data": {
      "text/plain": [
       "True"
      ]
     },
     "execution_count": 5,
     "metadata": {},
     "output_type": "execute_result"
    }
   ],
   "source": [
    "response.json()['prediction_result'] > 0.5"
   ]
  }
 ],
 "metadata": {
  "kernelspec": {
   "display_name": "Python 3",
   "language": "python",
   "name": "python3"
  },
  "language_info": {
   "codemirror_mode": {
    "name": "ipython",
    "version": 3
   },
   "file_extension": ".py",
   "mimetype": "text/x-python",
   "name": "python",
   "nbconvert_exporter": "python",
   "pygments_lexer": "ipython3",
   "version": "3.7.10"
  }
 },
 "nbformat": 4,
 "nbformat_minor": 4
}
