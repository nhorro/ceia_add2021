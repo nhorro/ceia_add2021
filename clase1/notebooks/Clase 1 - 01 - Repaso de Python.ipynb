{
 "cells": [
  {
   "cell_type": "markdown",
   "metadata": {
    "slideshow": {
     "slide_type": "slide"
    }
   },
   "source": [
    "# Repaso de Python\n",
    "\n",
    "- Objetivo:\n",
    "    - Repasar características del lenguaje.\n",
    "    - Foco en las de mayor relevancia para ML, Numpy/Pandas, etc.\n",
    "    - Algunos conceptos de:\n",
    "        - Ingeniería de SW\n",
    "        - Algoritmos y estructuras de datos."
   ]
  },
  {
   "cell_type": "markdown",
   "metadata": {
    "id": "1OtYEMkzGVN3",
    "slideshow": {
     "slide_type": "slide"
    }
   },
   "source": [
    "# Repaso de Python\n",
    "\n",
    "- Plan (1/2):\n",
    "    1. Variables y estructuras de datos\n",
    "        - Tipos y asignación.\n",
    "        - Colecciones: listas, tuplas, conjuntos y diccionarios\n",
    "    2. Funciones\n",
    "        - Funciones Lambda\n",
    "    3. Ramificación\n",
    "    4. Iteración"
   ]
  },
  {
   "cell_type": "markdown",
   "metadata": {
    "slideshow": {
     "slide_type": "slide"
    }
   },
   "source": [
    "# Repaso de Python\n",
    "\n",
    "- Plan (2/2):    \n",
    "    5. Programación orientada a objetos\n",
    "    6. Complejidad\n",
    "    7. Manejo de errores y debugging\n",
    "    8. Organización del código en módulos"
   ]
  },
  {
   "cell_type": "markdown",
   "metadata": {
    "id": "CLECPHxZGVN-",
    "slideshow": {
     "slide_type": "slide"
    }
   },
   "source": [
    "# 1. Variables y estructuras de datos"
   ]
  },
  {
   "cell_type": "markdown",
   "metadata": {
    "id": "zKStAD1uGVN_",
    "slideshow": {
     "slide_type": "slide"
    }
   },
   "source": [
    "Cuando iniciamos una sesión, no hay ninguna variable creada."
   ]
  },
  {
   "cell_type": "code",
   "execution_count": 1,
   "metadata": {
    "id": "CVf39CXtGVN_",
    "outputId": "c1bf41c2-aad3-4de1-afa8-e747e913d1fa",
    "slideshow": {
     "slide_type": "slide"
    }
   },
   "outputs": [
    {
     "name": "stdout",
     "output_type": "stream",
     "text": [
      "Interactive namespace is empty.\n"
     ]
    }
   ],
   "source": [
    "# En IPython, podemos ver las variables con %who\n",
    "%whos"
   ]
  },
  {
   "cell_type": "markdown",
   "metadata": {
    "id": "ITJVlZ_LGVOB",
    "slideshow": {
     "slide_type": "slide"
    }
   },
   "source": [
    "La creación de una variable es la asociación de la instancia de un nuevo objeto en memoria a un nombre. "
   ]
  },
  {
   "cell_type": "code",
   "execution_count": 2,
   "metadata": {
    "id": "tkBdd-z4GVOB",
    "slideshow": {
     "slide_type": "slide"
    }
   },
   "outputs": [],
   "source": [
    "a = 3\n",
    "b = 0.72 \n",
    "c = False \n",
    "d = \"Hola\" \n",
    "e = object()"
   ]
  },
  {
   "cell_type": "code",
   "execution_count": 3,
   "metadata": {
    "id": "zMxkDaCYGVOC",
    "outputId": "f499d573-5233-4f2e-de87-52573a48fa13",
    "slideshow": {
     "slide_type": "slide"
    }
   },
   "outputs": [
    {
     "name": "stdout",
     "output_type": "stream",
     "text": [
      "Variable   Type      Data/Info\n",
      "------------------------------\n",
      "a          int       3\n",
      "b          float     0.72\n",
      "c          bool      False\n",
      "d          str       Hola\n",
      "e          object    <object object at 0x7fcd68dbbca0>\n"
     ]
    }
   ],
   "source": [
    "%whos"
   ]
  },
  {
   "cell_type": "markdown",
   "metadata": {
    "id": "xZGXE7auGVOC",
    "slideshow": {
     "slide_type": "slide"
    }
   },
   "source": [
    "Podemos ver el tipo de una variable con **type()** y su dirección o handle con **id()**."
   ]
  },
  {
   "cell_type": "code",
   "execution_count": 4,
   "metadata": {
    "id": "WD81cAz1GVOD",
    "outputId": "24da73f2-94fa-43ae-9bcb-d3734408fac1",
    "slideshow": {
     "slide_type": "slide"
    }
   },
   "outputs": [
    {
     "data": {
      "text/plain": [
       "(int, float, bool, str)"
      ]
     },
     "execution_count": 4,
     "metadata": {},
     "output_type": "execute_result"
    }
   ],
   "source": [
    "type(a),type(b),type(c),type(d)"
   ]
  },
  {
   "cell_type": "code",
   "execution_count": 5,
   "metadata": {
    "id": "j2lgNdW8GVOD",
    "outputId": "4e907646-a2e0-440f-cfd1-dc945ff6fe71",
    "slideshow": {
     "slide_type": "slide"
    }
   },
   "outputs": [
    {
     "data": {
      "text/plain": [
       "(94535593185984, 140520195417392, 94535593062944, 140520194539056)"
      ]
     },
     "execution_count": 5,
     "metadata": {},
     "output_type": "execute_result"
    }
   ],
   "source": [
    "id(a),id(b),id(c),id(d)"
   ]
  },
  {
   "cell_type": "markdown",
   "metadata": {
    "id": "GCSmHSvKGVOE",
    "slideshow": {
     "slide_type": "slide"
    }
   },
   "source": [
    "En python la asignación establece un vínculo entre el nombre de la variable y un nuevo objeto creado. \n",
    "\n",
    "Por ejemplo, si asignamos el número 2 a una variable y luego asignamos el 3, cada asignación instancia un nuevo objeto (esto es distinto que en otros lenguajes, como por ejemplo C, que distinguen entre tipos primitivos y objetos)."
   ]
  },
  {
   "cell_type": "code",
   "execution_count": 6,
   "metadata": {
    "id": "sNDeYFmhGVOE",
    "outputId": "be033221-74e9-4e90-c74d-72ffe53792a3",
    "scrolled": true,
    "slideshow": {
     "slide_type": "slide"
    }
   },
   "outputs": [
    {
     "name": "stdout",
     "output_type": "stream",
     "text": [
      "<class 'int'>\n",
      "94535593185952\n",
      "94535593185984\n"
     ]
    }
   ],
   "source": [
    "a = 2\n",
    "print(type(a)) # Tipo 'int'\n",
    "print(id(a)) # Un valor.\n",
    "a = 3\n",
    "print(id(a)) # Un valor distinto del anterior"
   ]
  },
  {
   "cell_type": "markdown",
   "metadata": {
    "id": "ns2G4eTrGVOF",
    "slideshow": {
     "slide_type": "slide"
    }
   },
   "source": [
    "## 1.1 Contenedores: listas, tuplas, conjuntos y diccionarios"
   ]
  },
  {
   "cell_type": "code",
   "execution_count": 7,
   "metadata": {
    "id": "HA6KTRnaGVOF",
    "outputId": "66426000-d449-4e16-8317-754aa7ea5f42",
    "slideshow": {
     "slide_type": "slide"
    }
   },
   "outputs": [
    {
     "name": "stdout",
     "output_type": "stream",
     "text": [
      "Once deleted, variables cannot be recovered. Proceed (y/[n])? y\n"
     ]
    }
   ],
   "source": [
    "# Limpiamos el contexto\n",
    "%reset"
   ]
  },
  {
   "cell_type": "markdown",
   "metadata": {
    "id": "JclJtxlxGVOF",
    "slideshow": {
     "slide_type": "slide"
    }
   },
   "source": [
    "####  Listas\n",
    "\n",
    "- Colección de elementos ordenados.\n",
    "- Se instancian con\n",
    "\n",
    "~~~python\n",
    "a_list = []\n",
    "a_list = list()\n",
    "~~~"
   ]
  },
  {
   "cell_type": "code",
   "execution_count": 8,
   "metadata": {
    "id": "8q5-jN25GVOF",
    "outputId": "ab9cedc5-e9c2-43c4-9b5e-f5292ddd3bcc",
    "slideshow": {
     "slide_type": "slide"
    }
   },
   "outputs": [
    {
     "data": {
      "text/plain": [
       "list"
      ]
     },
     "execution_count": 8,
     "metadata": {},
     "output_type": "execute_result"
    }
   ],
   "source": [
    "a_list = [ 1,2,3,4,5,6 ]\n",
    "type(a_list)"
   ]
  },
  {
   "cell_type": "code",
   "execution_count": null,
   "metadata": {
    "id": "dD4wAFSNGVOG",
    "outputId": "b349950c-0728-4d83-bd85-ff79287eb489",
    "slideshow": {
     "slide_type": "slide"
    }
   },
   "outputs": [],
   "source": [
    "a_list"
   ]
  },
  {
   "cell_type": "markdown",
   "metadata": {
    "id": "MYn_ZZBgGVOG",
    "slideshow": {
     "slide_type": "slide"
    }
   },
   "source": [
    "Slicing e indexado."
   ]
  },
  {
   "cell_type": "code",
   "execution_count": 9,
   "metadata": {
    "id": "rnTT0lHuGVOH",
    "outputId": "382baed2-f68f-4594-ad01-ca5537277638",
    "scrolled": true,
    "slideshow": {
     "slide_type": "slide"
    }
   },
   "outputs": [
    {
     "name": "stdout",
     "output_type": "stream",
     "text": [
      "[1, 2, 3, 4, 5, 6]\n"
     ]
    },
    {
     "data": {
      "text/plain": [
       "(1, 6, [3, 4], [4, 5, 6], [1, 2])"
      ]
     },
     "execution_count": 9,
     "metadata": {},
     "output_type": "execute_result"
    }
   ],
   "source": [
    "print(a_list)\n",
    "\n",
    "a_list[0],a_list[-1],a_list[2:4],a_list[3:],a_list[:2]"
   ]
  },
  {
   "cell_type": "code",
   "execution_count": 12,
   "metadata": {
    "id": "s3cZSX7LGVOH",
    "outputId": "a61c686d-2153-4caa-cf41-d7060d923059",
    "slideshow": {
     "slide_type": "slide"
    }
   },
   "outputs": [
    {
     "data": {
      "text/plain": [
       "[6, 4, 2]"
      ]
     },
     "execution_count": 12,
     "metadata": {},
     "output_type": "execute_result"
    }
   ],
   "source": [
    "a_list[::-2] # Recorrer de a 1 "
   ]
  },
  {
   "cell_type": "code",
   "execution_count": null,
   "metadata": {
    "id": "yxd1KEGkGVOH",
    "outputId": "3c698891-8f48-437b-85c9-a6fd1c217420",
    "slideshow": {
     "slide_type": "slide"
    }
   },
   "outputs": [],
   "source": [
    "# Notación para rangos: [inicio]:[fin]:[paso]. \n",
    "# Valores por defecto: inicio=0,fin=-1,paso=1\n",
    "a_list[::2] # Recorrer de a 2 "
   ]
  },
  {
   "cell_type": "code",
   "execution_count": null,
   "metadata": {
    "id": "zhoNbFO5GVOI",
    "outputId": "5a0e3364-5aad-4055-df4d-1f26ec7dc070",
    "slideshow": {
     "slide_type": "slide"
    }
   },
   "outputs": [],
   "source": [
    "a_list[::-1] # Recorrer en orden inverso"
   ]
  },
  {
   "cell_type": "code",
   "execution_count": null,
   "metadata": {
    "id": "x48fk0QyGVOI",
    "outputId": "ad9e37f9-1065-4be0-f938-d1053808cc8d",
    "slideshow": {
     "slide_type": "slide"
    }
   },
   "outputs": [],
   "source": [
    "# Ídem, usando operador de rango\n",
    "a_list = list(range(1,7,1)) # Creación por rango\n",
    "a_list"
   ]
  },
  {
   "cell_type": "markdown",
   "metadata": {
    "id": "9aHoWIsMGVOI",
    "slideshow": {
     "slide_type": "slide"
    }
   },
   "source": [
    "Agregar, insertar, remover."
   ]
  },
  {
   "cell_type": "code",
   "execution_count": null,
   "metadata": {
    "id": "604rOhLkGVOJ",
    "outputId": "ff780617-72a2-49d8-b3da-122fc7787d75",
    "scrolled": true,
    "slideshow": {
     "slide_type": "slide"
    }
   },
   "outputs": [],
   "source": [
    "a_list.append(7)\n",
    "a_list"
   ]
  },
  {
   "cell_type": "code",
   "execution_count": null,
   "metadata": {
    "id": "Gyk1Z1P1GVOJ",
    "outputId": "ce43b888-dfdd-4851-9fe4-bad7b1a34b9b",
    "slideshow": {
     "slide_type": "slide"
    }
   },
   "outputs": [],
   "source": [
    "a_list.insert(0,0.5)\n",
    "a_list"
   ]
  },
  {
   "cell_type": "code",
   "execution_count": null,
   "metadata": {
    "id": "VzpKEaxlGVOJ",
    "outputId": "d1c320a5-4631-4681-ac04-e06a3cba0cfa",
    "slideshow": {
     "slide_type": "slide"
    }
   },
   "outputs": [],
   "source": [
    "a_list.remove(4)\n",
    "a_list"
   ]
  },
  {
   "cell_type": "code",
   "execution_count": 13,
   "metadata": {
    "id": "qQWAr-a8GVOK",
    "outputId": "2b4d35f1-c380-4664-e554-a73527a5c64b",
    "slideshow": {
     "slide_type": "slide"
    }
   },
   "outputs": [
    {
     "data": {
      "text/plain": [
       "6"
      ]
     },
     "execution_count": 13,
     "metadata": {},
     "output_type": "execute_result"
    }
   ],
   "source": [
    "len(a_list)"
   ]
  },
  {
   "cell_type": "markdown",
   "metadata": {
    "id": "LL2431z3GVOK",
    "slideshow": {
     "slide_type": "slide"
    }
   },
   "source": [
    "####  Tuplas\n",
    "\n",
    "- Similares a las listas, pero inmutables."
   ]
  },
  {
   "cell_type": "code",
   "execution_count": 14,
   "metadata": {
    "id": "ET2e0Mp1GVOK",
    "outputId": "857d0be8-4891-4afd-bbd5-fa92f34c32c4",
    "slideshow": {
     "slide_type": "slide"
    }
   },
   "outputs": [
    {
     "data": {
      "text/plain": [
       "tuple"
      ]
     },
     "execution_count": 14,
     "metadata": {},
     "output_type": "execute_result"
    }
   ],
   "source": [
    "a_tuple = (1,2,3,4,5,6)\n",
    "type(a_tuple)"
   ]
  },
  {
   "cell_type": "code",
   "execution_count": null,
   "metadata": {
    "id": "3eA7V2-JGVOL",
    "outputId": "0121a347-49d3-468f-be46-dab916f5c673",
    "slideshow": {
     "slide_type": "slide"
    }
   },
   "outputs": [],
   "source": [
    "a_tuple"
   ]
  },
  {
   "cell_type": "code",
   "execution_count": 15,
   "metadata": {
    "id": "VB6tG861GVOL",
    "outputId": "5bd39763-ccde-44fa-c276-27cdae43deec",
    "slideshow": {
     "slide_type": "slide"
    }
   },
   "outputs": [
    {
     "name": "stdout",
     "output_type": "stream",
     "text": [
      "No asignable\n"
     ]
    },
    {
     "data": {
      "text/plain": [
       "(1, 2, 3, 4, 5, 6)"
      ]
     },
     "execution_count": 15,
     "metadata": {},
     "output_type": "execute_result"
    }
   ],
   "source": [
    "try:\n",
    "    a_tuple[0] = 99 # Falla\n",
    "except TypeError: \n",
    "    print(\"No asignable\")\n",
    "    pass\n",
    "a_tuple"
   ]
  },
  {
   "cell_type": "markdown",
   "metadata": {
    "id": "J_w9jmweGVOL",
    "slideshow": {
     "slide_type": "slide"
    }
   },
   "source": [
    "####  Conjuntos (sets)\n",
    "\n",
    "- Pueden almacenar una colección no ordeanada de elementos no duplicados.\n",
    "- Soportan operaciones como Union, Intersección, Diferencia, etc."
   ]
  },
  {
   "cell_type": "code",
   "execution_count": 16,
   "metadata": {
    "id": "MNfMsYSQGVOL",
    "outputId": "accc2720-2e4a-4e02-efe4-2b4ed32eca46",
    "slideshow": {
     "slide_type": "slide"
    }
   },
   "outputs": [
    {
     "data": {
      "text/plain": [
       "set"
      ]
     },
     "execution_count": 16,
     "metadata": {},
     "output_type": "execute_result"
    }
   ],
   "source": [
    "a_set = {1,2,3,4,5,6}\n",
    "type(a_set)"
   ]
  },
  {
   "cell_type": "code",
   "execution_count": 17,
   "metadata": {
    "id": "R_hU5lNOGVOM",
    "outputId": "454ed289-d9a8-4f46-d846-0b1fd243ced4",
    "slideshow": {
     "slide_type": "slide"
    }
   },
   "outputs": [
    {
     "data": {
      "text/plain": [
       "True"
      ]
     },
     "execution_count": 17,
     "metadata": {},
     "output_type": "execute_result"
    }
   ],
   "source": [
    "2 in a_set"
   ]
  },
  {
   "cell_type": "code",
   "execution_count": 18,
   "metadata": {
    "id": "YtCGf4OKGVOM",
    "outputId": "ca96341f-ccd9-4c9e-d327-03a8ff0569eb",
    "slideshow": {
     "slide_type": "slide"
    }
   },
   "outputs": [
    {
     "data": {
      "text/plain": [
       "False"
      ]
     },
     "execution_count": 18,
     "metadata": {},
     "output_type": "execute_result"
    }
   ],
   "source": [
    "99 in a_set"
   ]
  },
  {
   "cell_type": "code",
   "execution_count": 19,
   "metadata": {
    "id": "6wjHV7UVGVOM",
    "outputId": "9288de9f-4932-4674-f300-94cbca6d649d",
    "slideshow": {
     "slide_type": "slide"
    }
   },
   "outputs": [
    {
     "data": {
      "text/plain": [
       "{1, 2, 3, 4, 5, 6, 7}"
      ]
     },
     "execution_count": 19,
     "metadata": {},
     "output_type": "execute_result"
    }
   ],
   "source": [
    "# Unión\n",
    "{1,2,4,7} | { 3, 5, 6 } "
   ]
  },
  {
   "cell_type": "code",
   "execution_count": 20,
   "metadata": {
    "id": "b5TzA7WEGVON",
    "outputId": "22ca2d81-8cd8-45ad-a760-fc2de3942d18",
    "slideshow": {
     "slide_type": "slide"
    }
   },
   "outputs": [
    {
     "data": {
      "text/plain": [
       "{3, 5, 6}"
      ]
     },
     "execution_count": 20,
     "metadata": {},
     "output_type": "execute_result"
    }
   ],
   "source": [
    "# Intersección\n",
    "{1,2,3,4,5,6,7} & { 3, 5, 6 } "
   ]
  },
  {
   "cell_type": "code",
   "execution_count": 21,
   "metadata": {
    "id": "KXbD_Td0GVON",
    "outputId": "f6112a93-59e1-4c73-b295-6b0009403787",
    "slideshow": {
     "slide_type": "slide"
    }
   },
   "outputs": [
    {
     "data": {
      "text/plain": [
       "{1, 3, 4, 6}"
      ]
     },
     "execution_count": 21,
     "metadata": {},
     "output_type": "execute_result"
    }
   ],
   "source": [
    "# Diferencia\n",
    "{1,2,3,3,4,5,6} - {2,5}"
   ]
  },
  {
   "cell_type": "code",
   "execution_count": null,
   "metadata": {
    "id": "N-qw2pnpGVON",
    "outputId": "d28e0ec3-1e97-40a7-e05a-a99b41df4718",
    "slideshow": {
     "slide_type": "slide"
    }
   },
   "outputs": [],
   "source": [
    "# Diferencia simétrica \n",
    "# (subconjunto de elementos que están en ambos conjuntos, pero no en su intersección)\n",
    "{1,2,3,3,4,5,6}.symmetric_difference({2,3,4})"
   ]
  },
  {
   "cell_type": "code",
   "execution_count": 22,
   "metadata": {
    "id": "ptr7U2qWGVOO",
    "outputId": "54fe379e-5e4e-4a72-9712-aedb2c49cf69",
    "slideshow": {
     "slide_type": "slide"
    }
   },
   "outputs": [
    {
     "data": {
      "text/plain": [
       "(True, False)"
      ]
     },
     "execution_count": 22,
     "metadata": {},
     "output_type": "execute_result"
    }
   ],
   "source": [
    "# Testeo de inclusión: A contenido en B?\n",
    "a = { 1,2,3,4,5,6 }\n",
    "b = { 1,4 }\n",
    "c = { 1,4,7}\n",
    "b.issubset(a),c.issubset(a)"
   ]
  },
  {
   "cell_type": "markdown",
   "metadata": {
    "id": "xprWa_gFGVOO",
    "slideshow": {
     "slide_type": "slide"
    }
   },
   "source": [
    "*Tip*: se puede usar un conjunto para obtener los elementos únicos de una lista."
   ]
  },
  {
   "cell_type": "code",
   "execution_count": 23,
   "metadata": {
    "id": "9c7doptNGVOO",
    "outputId": "35e5e0be-9ff2-41de-8bc7-44aecb3352e1",
    "slideshow": {
     "slide_type": "slide"
    }
   },
   "outputs": [
    {
     "data": {
      "text/plain": [
       "{1, 2, 3, 4, 5, 6, 10, 41}"
      ]
     },
     "execution_count": 23,
     "metadata": {},
     "output_type": "execute_result"
    }
   ],
   "source": [
    "all_values = [ 1,1,3,4,5,1,2,3,5,4,2,1,2,3,4,5,6,2,3,4,5,10,41, ]\n",
    "set(all_values)"
   ]
  },
  {
   "cell_type": "markdown",
   "metadata": {
    "id": "lBGpCxM5GVOP",
    "slideshow": {
     "slide_type": "slide"
    }
   },
   "source": [
    "#### Diccionarios\n",
    "\n",
    "Pueden verse como tablas o mapas que asocian un elemento a otro de forma eficiente.\n"
   ]
  },
  {
   "cell_type": "code",
   "execution_count": 25,
   "metadata": {
    "colab": {
     "base_uri": "https://localhost:8080/"
    },
    "executionInfo": {
     "elapsed": 824,
     "status": "ok",
     "timestamp": 1613948882878,
     "user": {
      "displayName": "Nicolas Horro",
      "photoUrl": "https://lh4.googleusercontent.com/--3DXBeoKCHg/AAAAAAAAAAI/AAAAAAAAAY0/pAcXsaDcvLQ/s64/photo.jpg",
      "userId": "02428399203512836803"
     },
     "user_tz": 180
    },
    "id": "GOpLWJqQGVOP",
    "outputId": "891b1637-748d-4b79-ad2d-c557348660be",
    "slideshow": {
     "slide_type": "slide"
    }
   },
   "outputs": [
    {
     "data": {
      "text/plain": [
       "{'my_int': 42,\n",
       " 'my_list': [1, 'dog', False, 0.376],\n",
       " 'my_tuple': (2, 'cat', True, 1.376),\n",
       " 'my_set': {10, 'poker', 'truco'},\n",
       " 'my_dict': {'some_key': False},\n",
       " 'my_square': <function __main__.<lambda>(x)>}"
      ]
     },
     "execution_count": 25,
     "metadata": {},
     "output_type": "execute_result"
    }
   ],
   "source": [
    "a_dict = { \n",
    "    \"my_int\": 42,\n",
    "    \"my_list\": [1,\"dog\", False, 0.376],\n",
    "    \"my_tuple\": (2,\"cat\", True, 1.376),\n",
    "    \"my_set\": {\"poker\", \"truco\", 10},\n",
    "    \"my_dict\": { \"some_key\": False },\n",
    "    \"my_square\": lambda x: x**2\n",
    "}\n",
    "a_dict"
   ]
  },
  {
   "cell_type": "code",
   "execution_count": 26,
   "metadata": {
    "colab": {
     "base_uri": "https://localhost:8080/"
    },
    "executionInfo": {
     "elapsed": 957,
     "status": "ok",
     "timestamp": 1613948916869,
     "user": {
      "displayName": "Nicolas Horro",
      "photoUrl": "https://lh4.googleusercontent.com/--3DXBeoKCHg/AAAAAAAAAAI/AAAAAAAAAY0/pAcXsaDcvLQ/s64/photo.jpg",
      "userId": "02428399203512836803"
     },
     "user_tz": 180
    },
    "id": "ikGCapaIGVOQ",
    "outputId": "0f53f0be-54c4-4c97-b193-2ae2103484a6",
    "slideshow": {
     "slide_type": "slide"
    }
   },
   "outputs": [
    {
     "data": {
      "text/plain": [
       "dict_keys(['my_int', 'my_list', 'my_tuple', 'my_set', 'my_dict', 'my_square'])"
      ]
     },
     "execution_count": 26,
     "metadata": {},
     "output_type": "execute_result"
    }
   ],
   "source": [
    "a_dict.keys()"
   ]
  },
  {
   "cell_type": "code",
   "execution_count": 27,
   "metadata": {
    "colab": {
     "base_uri": "https://localhost:8080/"
    },
    "executionInfo": {
     "elapsed": 930,
     "status": "ok",
     "timestamp": 1613948918642,
     "user": {
      "displayName": "Nicolas Horro",
      "photoUrl": "https://lh4.googleusercontent.com/--3DXBeoKCHg/AAAAAAAAAAI/AAAAAAAAAY0/pAcXsaDcvLQ/s64/photo.jpg",
      "userId": "02428399203512836803"
     },
     "user_tz": 180
    },
    "id": "vm1IBiwpGVOQ",
    "outputId": "f20694cc-3cf4-4708-9489-f748cc974f60",
    "slideshow": {
     "slide_type": "slide"
    }
   },
   "outputs": [
    {
     "data": {
      "text/plain": [
       "dict_items([('my_int', 42), ('my_list', [1, 'dog', False, 0.376]), ('my_tuple', (2, 'cat', True, 1.376)), ('my_set', {'poker', 'truco', 10}), ('my_dict', {'some_key': False}), ('my_square', <function <lambda> at 0x7fcd64177cb0>)])"
      ]
     },
     "execution_count": 27,
     "metadata": {},
     "output_type": "execute_result"
    }
   ],
   "source": [
    "a_dict.items()"
   ]
  },
  {
   "cell_type": "code",
   "execution_count": 28,
   "metadata": {
    "id": "aDOrhVH3GVOQ",
    "outputId": "89dee43d-4537-42d7-8bdd-3effc3250066",
    "scrolled": true,
    "slideshow": {
     "slide_type": "slide"
    }
   },
   "outputs": [
    {
     "data": {
      "text/plain": [
       "{'a': 10, 'b': 20, 'c': 30}"
      ]
     },
     "execution_count": 28,
     "metadata": {},
     "output_type": "execute_result"
    }
   ],
   "source": [
    "a_dict = dict([(\"a\",10),(\"b\",20),(\"c\",30)])\n",
    "a_dict"
   ]
  },
  {
   "cell_type": "code",
   "execution_count": 29,
   "metadata": {
    "id": "WXhktCgXGVOR",
    "outputId": "dd732bd4-86d1-4544-9bed-3c66166342d6",
    "slideshow": {
     "slide_type": "slide"
    }
   },
   "outputs": [
    {
     "data": {
      "text/plain": [
       "(True, False)"
      ]
     },
     "execution_count": 29,
     "metadata": {},
     "output_type": "execute_result"
    }
   ],
   "source": [
    "\"a\" in a_dict, \"z\" in a_dict"
   ]
  },
  {
   "cell_type": "markdown",
   "metadata": {
    "id": "3S8pdLHfGVOR",
    "slideshow": {
     "slide_type": "slide"
    }
   },
   "source": [
    "## 2. Funciones"
   ]
  },
  {
   "cell_type": "markdown",
   "metadata": {
    "id": "QV8-I3XhGVOR",
    "slideshow": {
     "slide_type": "slide"
    }
   },
   "source": [
    "Funciones incluidas en el lenguaje (built-in)."
   ]
  },
  {
   "cell_type": "code",
   "execution_count": 30,
   "metadata": {
    "id": "OsY_d2TpGVOS",
    "outputId": "ccac8dfc-55d9-47ef-c608-3fd50f7e79e8",
    "slideshow": {
     "slide_type": "slide"
    }
   },
   "outputs": [
    {
     "data": {
      "text/plain": [
       "(builtin_function_or_method, builtin_function_or_method, True)"
      ]
     },
     "execution_count": 30,
     "metadata": {},
     "output_type": "execute_result"
    }
   ],
   "source": [
    "# built-in\n",
    "type(len),type(id),isinstance(4,int)"
   ]
  },
  {
   "cell_type": "markdown",
   "metadata": {
    "id": "rxzQQ8LfGVOS",
    "slideshow": {
     "slide_type": "slide"
    }
   },
   "source": [
    "Funciones definidas"
   ]
  },
  {
   "cell_type": "code",
   "execution_count": 31,
   "metadata": {
    "id": "mt0cHCv-GVOS",
    "outputId": "5d385d0d-c592-48c4-a934-345e7db3b384",
    "slideshow": {
     "slide_type": "slide"
    }
   },
   "outputs": [
    {
     "name": "stdout",
     "output_type": "stream",
     "text": [
      "4\n",
      "<class 'function'>\n"
     ]
    }
   ],
   "source": [
    "def my_square(x):\n",
    "    return x**2\n",
    "\n",
    "print(my_square(2))\n",
    "print(type(my_square))"
   ]
  },
  {
   "cell_type": "markdown",
   "metadata": {
    "id": "EjeymCy7GVOT",
    "slideshow": {
     "slide_type": "slide"
    }
   },
   "source": [
    "Funciones anidadas."
   ]
  },
  {
   "cell_type": "code",
   "execution_count": 32,
   "metadata": {
    "id": "7qymLplDGVOT",
    "outputId": "cafc1c98-6525-4bcf-c5dc-b9f02d54fea8",
    "slideshow": {
     "slide_type": "slide"
    }
   },
   "outputs": [
    {
     "data": {
      "text/plain": [
       "(function, function)"
      ]
     },
     "execution_count": 32,
     "metadata": {},
     "output_type": "execute_result"
    }
   ],
   "source": [
    "def make_multiplier(coeff):\n",
    "    def wrapper(x):\n",
    "        return coeff2 * x\n",
    "    return wrapper\n",
    "\n",
    "duplicator = make_multiplier(2)\n",
    "triplicator = make_multiplier(3)\n",
    "\n",
    "type(duplicator),type(triplicator)"
   ]
  },
  {
   "cell_type": "code",
   "execution_count": 33,
   "metadata": {
    "id": "XljcTh75GVOT",
    "outputId": "440c2db8-9ccc-4848-83cd-7d2ac4c0ae3d",
    "slideshow": {
     "slide_type": "slide"
    }
   },
   "outputs": [
    {
     "data": {
      "text/plain": [
       "(4, 6)"
      ]
     },
     "execution_count": 33,
     "metadata": {},
     "output_type": "execute_result"
    }
   ],
   "source": [
    "duplicator(2), triplicator(2)"
   ]
  },
  {
   "cell_type": "markdown",
   "metadata": {
    "id": "zwvv9qCGGVOU",
    "slideshow": {
     "slide_type": "slide"
    }
   },
   "source": [
    "### 2.1 Funciones Lambda"
   ]
  },
  {
   "cell_type": "code",
   "execution_count": 34,
   "metadata": {
    "id": "ij7cBMTtGVOU",
    "outputId": "adc1d498-c1c8-448f-bf5b-c8330a43e2fe",
    "slideshow": {
     "slide_type": "slide"
    }
   },
   "outputs": [
    {
     "data": {
      "text/plain": [
       "function"
      ]
     },
     "execution_count": 34,
     "metadata": {},
     "output_type": "execute_result"
    }
   ],
   "source": [
    "another_duplicator = lambda x: x*2\n",
    "type(another_duplicator)"
   ]
  },
  {
   "cell_type": "code",
   "execution_count": null,
   "metadata": {
    "id": "HxHXroYZGVOU",
    "outputId": "160af90a-5e70-4158-daa4-334b0d369b3a",
    "slideshow": {
     "slide_type": "slide"
    }
   },
   "outputs": [],
   "source": [
    "another_duplicator(2)"
   ]
  },
  {
   "cell_type": "markdown",
   "metadata": {
    "id": "lZYQ3se4GVOV",
    "slideshow": {
     "slide_type": "slide"
    }
   },
   "source": [
    "# 3. Ramificación"
   ]
  },
  {
   "cell_type": "code",
   "execution_count": 35,
   "metadata": {
    "id": "r3tpRSjPGVOV",
    "outputId": "feea4528-1255-4ef4-95e2-4f6cc2cbfdc9",
    "slideshow": {
     "slide_type": "slide"
    }
   },
   "outputs": [
    {
     "name": "stdout",
     "output_type": "stream",
     "text": [
      "True\n"
     ]
    }
   ],
   "source": [
    "expression = True\n",
    "if expression:\n",
    "    print(\"True\")\n",
    "else:\n",
    "    print(\"False\")    "
   ]
  },
  {
   "cell_type": "markdown",
   "metadata": {
    "id": "MzcmK5LvGVOV",
    "slideshow": {
     "slide_type": "slide"
    }
   },
   "source": [
    "A diferencia de otros lenguajes, Python no tiene un equivalente de switch/select case. \n",
    "\n",
    "Una forma de obtener una funcionalidad similar es con cadenas if-elif-elif-....else."
   ]
  },
  {
   "cell_type": "code",
   "execution_count": null,
   "metadata": {
    "id": "OIg6rS0cGVOV",
    "outputId": "7c175b56-fe8c-423a-c2cf-8d54ed961e89",
    "slideshow": {
     "slide_type": "slide"
    }
   },
   "outputs": [],
   "source": [
    "expression = None\n",
    "if expression == 1:\n",
    "    print(\"Option 1\")\n",
    "elif expression ==  2:\n",
    "    print(\"Option 2\")\n",
    "# ...    \n",
    "else:\n",
    "    print(\"Default Option\")"
   ]
  },
  {
   "cell_type": "markdown",
   "metadata": {
    "id": "VVS5ve6SGVOW",
    "slideshow": {
     "slide_type": "slide"
    }
   },
   "source": [
    "Otra forma es con tablas (diccionarios) de acciones."
   ]
  },
  {
   "cell_type": "code",
   "execution_count": null,
   "metadata": {
    "id": "kgde0yYNGVOW",
    "outputId": "faf03556-0a65-4599-c583-dc476266225b",
    "slideshow": {
     "slide_type": "slide"
    }
   },
   "outputs": [],
   "source": [
    "def action1():\n",
    "    print(\"Option 1\")\n",
    "    \n",
    "def action2():\n",
    "    print(\"Option 2\")\n",
    "    \n",
    "def default_action():\n",
    "    print(\"Default Option\")\n",
    "        \n",
    "action_map = {\n",
    "    1: action1,\n",
    "    2: action2,\n",
    "    'default': default_action\n",
    "}\n",
    "\n",
    "option=1\n",
    "action_map[option]() if option in action_map else action_map['default']()"
   ]
  },
  {
   "cell_type": "markdown",
   "metadata": {
    "id": "zH1YvxANGVOW",
    "slideshow": {
     "slide_type": "slide"
    }
   },
   "source": [
    "# 4. Iteración"
   ]
  },
  {
   "cell_type": "markdown",
   "metadata": {
    "slideshow": {
     "slide_type": "slide"
    }
   },
   "source": [
    "> Iteración significa repetir varias veces un proceso con la intención de alcanzar una meta deseada, \n",
    "> objetivo o resultado. Cada repetición del proceso también se le denomina una \"iteración\", y los \n",
    "> resultados de una iteración se utilizan como punto de partida para la siguiente iteración.\n",
    "\n",
    "Fuente: Wikipedia."
   ]
  },
  {
   "cell_type": "markdown",
   "metadata": {
    "slideshow": {
     "slide_type": "slide"
    }
   },
   "source": [
    "Es habitual iterar sobre una colección de elementos para realizar alguna acción (por ejemplo, todos los elementos de un vector o matriz, las entradas de una tabla, los elementos de un conjunto)."
   ]
  },
  {
   "cell_type": "code",
   "execution_count": 36,
   "metadata": {
    "colab": {
     "base_uri": "https://localhost:8080/"
    },
    "executionInfo": {
     "elapsed": 910,
     "status": "ok",
     "timestamp": 1613948479118,
     "user": {
      "displayName": "Nicolas Horro",
      "photoUrl": "https://lh4.googleusercontent.com/--3DXBeoKCHg/AAAAAAAAAAI/AAAAAAAAAY0/pAcXsaDcvLQ/s64/photo.jpg",
      "userId": "02428399203512836803"
     },
     "user_tz": 180
    },
    "id": "gzDvmWUnGVOX",
    "outputId": "a6aa48af-11a5-4494-9d34-e3834796c455",
    "scrolled": true,
    "slideshow": {
     "slide_type": "slide"
    }
   },
   "outputs": [
    {
     "name": "stdout",
     "output_type": "stream",
     "text": [
      "1\n",
      "2\n",
      "3\n",
      "4\n"
     ]
    }
   ],
   "source": [
    "some_iterable_collection_1 = { 1,2,3,4 } # Puede ser una lista, tupla, diccionario, set, etc.\n",
    "for i in some_iterable_collection_1: \n",
    "    print(i)"
   ]
  },
  {
   "cell_type": "markdown",
   "metadata": {
    "id": "oSC9yhQm0-fn",
    "slideshow": {
     "slide_type": "slide"
    }
   },
   "source": [
    "A menudo es útil para cada iteración conocer el índice o posición de un elemento. **enumerate()** devuelve el índice de iteración seguido del elemento."
   ]
  },
  {
   "cell_type": "code",
   "execution_count": 37,
   "metadata": {
    "colab": {
     "base_uri": "https://localhost:8080/"
    },
    "executionInfo": {
     "elapsed": 927,
     "status": "ok",
     "timestamp": 1613948507385,
     "user": {
      "displayName": "Nicolas Horro",
      "photoUrl": "https://lh4.googleusercontent.com/--3DXBeoKCHg/AAAAAAAAAAI/AAAAAAAAAY0/pAcXsaDcvLQ/s64/photo.jpg",
      "userId": "02428399203512836803"
     },
     "user_tz": 180
    },
    "id": "0P3irJDP0whT",
    "outputId": "c1b79f63-5b54-4778-f8a6-5e7b34cfc325",
    "slideshow": {
     "slide_type": "slide"
    }
   },
   "outputs": [
    {
     "name": "stdout",
     "output_type": "stream",
     "text": [
      "0 cero\n",
      "1 uno\n",
      "2 dos\n",
      "3 último\n"
     ]
    }
   ],
   "source": [
    "for i,v in enumerate([\"cero\",\"uno\",\"dos\",\"último\"]):\n",
    "    print(i,v)"
   ]
  },
  {
   "cell_type": "markdown",
   "metadata": {
    "id": "EA_ReXPZGVOX",
    "slideshow": {
     "slide_type": "slide"
    }
   },
   "source": [
    "## 4.1 List comprehension y  dictionary comprehension\n",
    "\n",
    "Es menudo es útil construir listas a partir de iteraciones en colecciones."
   ]
  },
  {
   "cell_type": "code",
   "execution_count": 38,
   "metadata": {
    "id": "GtclwDa3GVOX",
    "outputId": "0d98adb0-bc0f-4cf3-9194-2c867906fa56",
    "slideshow": {
     "slide_type": "slide"
    }
   },
   "outputs": [
    {
     "data": {
      "text/plain": [
       "[1, 4, 9, 16]"
      ]
     },
     "execution_count": 38,
     "metadata": {},
     "output_type": "execute_result"
    }
   ],
   "source": [
    "[ (i**2) for i in some_iterable_collection_1]"
   ]
  },
  {
   "cell_type": "code",
   "execution_count": 39,
   "metadata": {
    "id": "65u1V4FOGVOY",
    "outputId": "86395d51-ed6c-444d-c1eb-450b23a88991",
    "slideshow": {
     "slide_type": "slide"
    }
   },
   "outputs": [
    {
     "data": {
      "text/plain": [
       "{'a': 1, 'b': 4, 'c': 9}"
      ]
     },
     "execution_count": 39,
     "metadata": {},
     "output_type": "execute_result"
    }
   ],
   "source": [
    "some_iterable_collection_2 = {\"a\": 1, \"b\": 2, \"c\": 3}\n",
    "{ k:v**2 for k,v in some_iterable_collection_2.items()}"
   ]
  },
  {
   "cell_type": "markdown",
   "metadata": {
    "slideshow": {
     "slide_type": "slide"
    }
   },
   "source": [
    "## 4.2 while()"
   ]
  },
  {
   "cell_type": "markdown",
   "metadata": {
    "slideshow": {
     "slide_type": "slide"
    }
   },
   "source": [
    "A veces la condición de término de un proceso no es haber consumido el último elemento de un conjunto, sino haber alcanzado una condición."
   ]
  },
  {
   "cell_type": "code",
   "execution_count": 43,
   "metadata": {
    "slideshow": {
     "slide_type": "slide"
    }
   },
   "outputs": [
    {
     "data": {
      "text/plain": [
       "[0.48477431362234635, 0.012618063224854703, 0.48173997521742384]"
      ]
     },
     "execution_count": 43,
     "metadata": {},
     "output_type": "execute_result"
    }
   ],
   "source": [
    "import random\n",
    "\n",
    "# Genera una secuencia de números aleatorios hasta que alguno supere threeshold\n",
    "# o se llegue a un máximo de iteraciones\n",
    "def generate_seq(threeshold=0.5,max_n=10):\n",
    "    result = []\n",
    "    keep_running = True\n",
    "    i = 0\n",
    "    while keep_running:        \n",
    "        x = random.random()                 \n",
    "        if (x <= threeshold):\n",
    "            result.append(x) \n",
    "        keep_running = (i < max_n) & (x <= threeshold)\n",
    "        i+=1\n",
    "    return result\n",
    "\n",
    "generate_seq(0.6,5)"
   ]
  },
  {
   "cell_type": "markdown",
   "metadata": {
    "slideshow": {
     "slide_type": "slide"
    }
   },
   "source": [
    "## 4.3 Generators"
   ]
  },
  {
   "cell_type": "markdown",
   "metadata": {
    "slideshow": {
     "slide_type": "slide"
    }
   },
   "source": [
    "Existe una forma más elegante de representar el problema anterior."
   ]
  },
  {
   "cell_type": "markdown",
   "metadata": {
    "slideshow": {
     "slide_type": "slide"
    }
   },
   "source": [
    "> Un **generador** es una rutina especial que se puede usar para controlar el comportamiento de un iterador en un bucle. Un generador es muy similar a una función que devuelve un vector, en el que un generador tiene los parámetros que se pueden llamar, y genera una secuencia de valores.\n",
    "> En lugar de construir un vector que contenga todos los valores y devolverlos de una vez, un generador proporciona un valor a la vez, lo que requiere menos memoria y, por lo tanto, permite que quien lo llama comience a procesar los primeros valores inmediatamente. En resumen, un generador se asemeja a una función pero se comporta como un iterador.\n",
    "\n",
    "Fuente: Wikpedia."
   ]
  },
  {
   "cell_type": "code",
   "execution_count": 44,
   "metadata": {
    "slideshow": {
     "slide_type": "slide"
    }
   },
   "outputs": [
    {
     "name": "stdout",
     "output_type": "stream",
     "text": [
      "0.5865461067371414\n",
      "0.7005391451368486\n"
     ]
    }
   ],
   "source": [
    "# Genera una secuencia de números aleatorios \n",
    "# hasta que alguno supere threeshold o se alcance un máximo de iteraciones\n",
    "def seq_generator(threeshold=0.5,max_n=10):    \n",
    "    keep_running = True\n",
    "    i = 0\n",
    "    eof = False\n",
    "    while not eof:        \n",
    "        x = random.random()\n",
    "        eof = (i < max_n) & (x <= threeshold)\n",
    "        if not eof:\n",
    "            yield x\n",
    "        i+=1\n",
    "    #print(\"Condición de término alcanzada\")\n",
    "            \n",
    "gen = seq_generator(threeshold=0.5,max_n=10)\n",
    "for i in gen:\n",
    "    print(i)"
   ]
  },
  {
   "cell_type": "markdown",
   "metadata": {
    "id": "jPD9xTx-GVOY",
    "slideshow": {
     "slide_type": "slide"
    }
   },
   "source": [
    "# 5. Programación Orientada a Objetos"
   ]
  },
  {
   "cell_type": "markdown",
   "metadata": {
    "slideshow": {
     "slide_type": "slide"
    }
   },
   "source": [
    "- POO es un paradigma de programación que introduce el concepto de objeto como métafora de una entidad real del dominio del problema (por ejemplo Auto, Empleado, Transacción, etc.).\n",
    "- Cada objeto es la instanciación de una clase que define un conjunto de métodos y propiedades."
   ]
  },
  {
   "cell_type": "code",
   "execution_count": 45,
   "metadata": {
    "id": "I5pCc1MFGVOY",
    "slideshow": {
     "slide_type": "slide"
    }
   },
   "outputs": [],
   "source": [
    "class Person():\n",
    "    # constructor\n",
    "    def __init__(self, name, age):\n",
    "        self.name = name\n",
    "        self.age = age\n",
    "    \n",
    "    def greet(self):\n",
    "        print(\"Hola, \" + self.name)"
   ]
  },
  {
   "cell_type": "code",
   "execution_count": 46,
   "metadata": {
    "id": "d2o1jPWCGVOY",
    "outputId": "8460a140-7506-40ec-bb61-f9b45cd537c8",
    "slideshow": {
     "slide_type": "slide"
    }
   },
   "outputs": [
    {
     "name": "stdout",
     "output_type": "stream",
     "text": [
      "Hola, Iron Man\n"
     ]
    }
   ],
   "source": [
    "person1 = Person(name = \"Iron Man\", age = 35)\n",
    "person1.greet()"
   ]
  },
  {
   "cell_type": "code",
   "execution_count": 47,
   "metadata": {
    "id": "zbGN8UvbGVOZ",
    "outputId": "3380f1ca-f7fd-4083-edbe-6f9a3f415b76",
    "slideshow": {
     "slide_type": "slide"
    }
   },
   "outputs": [
    {
     "name": "stdout",
     "output_type": "stream",
     "text": [
      "Hola, Batman\n"
     ]
    }
   ],
   "source": [
    "person2 = Person(name = \"Batman\", age = 33)\n",
    "person2.greet()"
   ]
  },
  {
   "cell_type": "markdown",
   "metadata": {
    "id": "4xJhlTB8GVOZ",
    "slideshow": {
     "slide_type": "slide"
    }
   },
   "source": [
    "## 5.1 Herencia, Encapsulamiento y Polimorfismo"
   ]
  },
  {
   "cell_type": "markdown",
   "metadata": {
    "id": "MuISXPATGVOZ",
    "slideshow": {
     "slide_type": "slide"
    }
   },
   "source": [
    "#### Herencia\n",
    "\n",
    "- Define una relación entre dos clases en la que existe una clase padre (parent) y una clase heredera. \n",
    "- La clase heredera recibe todas las propiedades y métodos de la clase padre. \n",
    "- El objetivo de la herencia es permitir reutilizar el código, definiendo clases de más generales a más específicas sin replicar en las últimas de manera explícita lo resuelto en las anteriores."
   ]
  },
  {
   "cell_type": "code",
   "execution_count": 48,
   "metadata": {
    "id": "MwrnzHvBGVOa",
    "slideshow": {
     "slide_type": "slide"
    }
   },
   "outputs": [],
   "source": [
    "class WalkingPerson(Person):\n",
    "    def __init__(self, name, age):        \n",
    "        Person.__init__(self, name, age)\n",
    "    \n",
    "    def walk(self):\n",
    "        print(\"My name is {} and I'm walking\".format(self.name))    "
   ]
  },
  {
   "cell_type": "code",
   "execution_count": 49,
   "metadata": {
    "id": "tvPbNn7VGVOb",
    "outputId": "4dfc6eef-fb77-47a0-95da-362a97b0ce52",
    "slideshow": {
     "slide_type": "slide"
    }
   },
   "outputs": [
    {
     "name": "stdout",
     "output_type": "stream",
     "text": [
      "My name is Usain and I'm walking\n",
      "Hola, Usain\n"
     ]
    }
   ],
   "source": [
    "person3 = WalkingPerson( name =\"Usain\", age=32 )\n",
    "person3.walk()\n",
    "person3.greet()"
   ]
  },
  {
   "cell_type": "markdown",
   "metadata": {
    "id": "AviRdtLGGVOb",
    "slideshow": {
     "slide_type": "slide"
    }
   },
   "source": [
    "#### Encapsulamiento\n",
    "\n",
    "El encapsulamiento se utiliza para restringir el acceso a métodos y variables estableciendo el concepto de privacidad. En Python se prefijan los métodos y atributos privados con '__'."
   ]
  },
  {
   "cell_type": "code",
   "execution_count": 50,
   "metadata": {
    "id": "xLfGJDY1GVOb",
    "slideshow": {
     "slide_type": "slide"
    }
   },
   "outputs": [],
   "source": [
    "class Car:    \n",
    "    __max_speed = 10\n",
    "    def __init__(self):        \n",
    "        self.__update_software()\n",
    "        \n",
    "    def drive(self):\n",
    "        print('driving')\n",
    "\n",
    "    def __update_software(self):\n",
    "        print('updating software')\n",
    "        __max_speed = 20"
   ]
  },
  {
   "cell_type": "code",
   "execution_count": 51,
   "metadata": {
    "id": "kZPTrQsAGVOc",
    "slideshow": {
     "slide_type": "slide"
    }
   },
   "outputs": [
    {
     "name": "stdout",
     "output_type": "stream",
     "text": [
      "updating software\n",
      "driving\n"
     ]
    },
    {
     "ename": "AttributeError",
     "evalue": "'Car' object has no attribute '__update_software'",
     "output_type": "error",
     "traceback": [
      "\u001b[0;31m---------------------------------------------------------------------------\u001b[0m",
      "\u001b[0;31mAttributeError\u001b[0m                            Traceback (most recent call last)",
      "\u001b[0;32m<ipython-input-51-ac7622daf01d>\u001b[0m in \u001b[0;36m<module>\u001b[0;34m\u001b[0m\n\u001b[1;32m      1\u001b[0m \u001b[0mcar\u001b[0m \u001b[0;34m=\u001b[0m \u001b[0mCar\u001b[0m\u001b[0;34m(\u001b[0m\u001b[0;34m)\u001b[0m\u001b[0;34m\u001b[0m\u001b[0;34m\u001b[0m\u001b[0m\n\u001b[1;32m      2\u001b[0m \u001b[0mcar\u001b[0m\u001b[0;34m.\u001b[0m\u001b[0mdrive\u001b[0m\u001b[0;34m(\u001b[0m\u001b[0;34m)\u001b[0m\u001b[0;34m\u001b[0m\u001b[0;34m\u001b[0m\u001b[0m\n\u001b[0;32m----> 3\u001b[0;31m \u001b[0mcar\u001b[0m\u001b[0;34m.\u001b[0m\u001b[0m__update_software\u001b[0m\u001b[0;34m(\u001b[0m\u001b[0;34m)\u001b[0m \u001b[0;31m# Falla\u001b[0m\u001b[0;34m\u001b[0m\u001b[0;34m\u001b[0m\u001b[0m\n\u001b[0m",
      "\u001b[0;31mAttributeError\u001b[0m: 'Car' object has no attribute '__update_software'"
     ]
    }
   ],
   "source": [
    "car = Car()\n",
    "car.drive()\n",
    "car.__update_software() # Falla"
   ]
  },
  {
   "cell_type": "markdown",
   "metadata": {
    "id": "zunc-5NJGVOc",
    "slideshow": {
     "slide_type": "slide"
    }
   },
   "source": [
    "#### Polimorfismo\n",
    "\n",
    "El polimorfismo permite definir métodos en una clase base y re-implementarlos de distinta manera pero con el mismo nombre en las clases herederas, logrando un comportamiento distinto dependiendo de la instancia en la que se invocan."
   ]
  },
  {
   "cell_type": "code",
   "execution_count": 53,
   "metadata": {
    "id": "YJF_G3vnGVOc",
    "slideshow": {
     "slide_type": "slide"
    }
   },
   "outputs": [],
   "source": [
    "class Vehicle:\n",
    "    def __init__(self,*args,**kwargs):\n",
    "        pass\n",
    "    \n",
    "    def throttle(self,value):\n",
    "        raise NotImplemented\n",
    "    \n",
    "    def steer(self,angle):\n",
    "        raise NotImplemented\n",
    "\n",
    "class Car(Vehicle):\n",
    "    def __init__(self,*args,**kwargs):\n",
    "        pass\n",
    "    \n",
    "    def throttle(self,value):\n",
    "        print(\"Throtttling car\")\n",
    "    \n",
    "    def steer(self,angle):\n",
    "        print(\"Steering car\")\n",
    "        \n",
    "class Airplane(Vehicle):\n",
    "    def __init__(self,*args,**kwargs):\n",
    "        pass\n",
    "    \n",
    "    def throttle(self,value):\n",
    "        print(\"Throtttling airplane\")\n",
    "    \n",
    "    def steer(self,angle):\n",
    "        print(\"Steering airplane\")"
   ]
  },
  {
   "cell_type": "code",
   "execution_count": 54,
   "metadata": {
    "id": "27UlFu3YGVOd",
    "outputId": "8efe72ea-8f16-4664-ffb8-c391036926c8",
    "slideshow": {
     "slide_type": "slide"
    }
   },
   "outputs": [
    {
     "name": "stdout",
     "output_type": "stream",
     "text": [
      "Driving a <class '__main__.Car'>\n",
      "Throtttling car\n",
      "Steering car\n",
      "Driving a <class '__main__.Airplane'>\n",
      "Throtttling airplane\n",
      "Steering airplane\n"
     ]
    }
   ],
   "source": [
    "def drive_vehicle(vehicle):\n",
    "    print(\"Driving a {}\".format(type(vehicle)))\n",
    "    vehicle.throttle(1)\n",
    "    vehicle.steer(0.45)\n",
    "    \n",
    "drive_vehicle(Car())    \n",
    "drive_vehicle(Airplane())    "
   ]
  },
  {
   "cell_type": "markdown",
   "metadata": {
    "slideshow": {
     "slide_type": "slide"
    }
   },
   "source": [
    "#### UML\n",
    "\n",
    "- UML (Unified Modelling Language) es una forma estándar de documentar distintas etapas del ciclo de vida del SW.\n",
    "- Veremos algunos diagramas para documentar la arquitectura del SW."
   ]
  },
  {
   "cell_type": "markdown",
   "metadata": {
    "id": "1L5KR-5oGVOd",
    "slideshow": {
     "slide_type": "slide"
    }
   },
   "source": [
    "### Patrones de Diseño\n",
    "\n",
    "- Los patrones de diseño son formas estudiadas de resolver problemas conocidos de arquitectura de SW para mejorar su organización y mantenibilidad. \n",
    "- [Artículo Wikipedia sobre Patrones de Diseño](https://es.wikipedia.org/wiki/Patr%C3%B3n_de_dise%C3%B1o)"
   ]
  },
  {
   "cell_type": "markdown",
   "metadata": {
    "slideshow": {
     "slide_type": "slide"
    }
   },
   "source": [
    "> In scikit-learn, classical learning algorithms are not the only objects to be\n",
    "> implemented as estimators. For example, preprocessing routines (e.g., scaling of\n",
    "> features) or feature extraction techniques (e.g., vectorization of text documents)\n",
    "> also implement the estimator interface. Even stateless processing steps, that do\n",
    "> not require the fit method to perform useful work, implement the estimator\n",
    "> interface. As we will illustrate in the next sections, this design pattern is indeed\n",
    "> of prime importance for consistency, composition and model selection reasons.\n",
    "\n",
    "Fragmento de \"Estimadores en SKLearn\". Fuente: [API design for machine learning software:\n",
    "experiences from the scikit-learn project](https://mblondel.org/publications/lbuitinck-ecmlpkdd2013.pdf)"
   ]
  },
  {
   "cell_type": "markdown",
   "metadata": {
    "id": "V7E0uy95GVOd",
    "slideshow": {
     "slide_type": "slide"
    }
   },
   "source": [
    "# 6. Complejidad\n",
    "\n",
    "- No es el foco de este curso estudiar la complejidad de los algoritmos.\n",
    "- En caso de que sea de interés para alguna comparativa de métodos, se pueden usar las directivas %timeit y %prun."
   ]
  },
  {
   "cell_type": "code",
   "execution_count": 55,
   "metadata": {
    "id": "I6Fm0uLmGVOe",
    "outputId": "8425b700-d2cc-45b4-ac62-23ed3fda67a3",
    "slideshow": {
     "slide_type": "slide"
    }
   },
   "outputs": [
    {
     "name": "stdout",
     "output_type": "stream",
     "text": [
      "507 ns ± 5.81 ns per loop (mean ± std. dev. of 7 runs, 1000000 loops each)\n"
     ]
    }
   ],
   "source": [
    "%timeit sum(range(10))"
   ]
  },
  {
   "cell_type": "code",
   "execution_count": 56,
   "metadata": {
    "id": "uVvh3MxpGVOe",
    "outputId": "15bb378d-b998-4ff4-8e52-a379a23bce04",
    "slideshow": {
     "slide_type": "slide"
    }
   },
   "outputs": [
    {
     "name": "stdout",
     "output_type": "stream",
     "text": [
      " "
     ]
    }
   ],
   "source": [
    "%prun  sum(range(100))"
   ]
  },
  {
   "cell_type": "markdown",
   "metadata": {
    "id": "YjiHrwwuGVOe",
    "slideshow": {
     "slide_type": "slide"
    }
   },
   "source": [
    "# 7. Manejo de errores y debugging"
   ]
  },
  {
   "cell_type": "markdown",
   "metadata": {
    "id": "aB7cTabUGVOf",
    "slideshow": {
     "slide_type": "slide"
    }
   },
   "source": [
    "#### Manejo de excepciones. try/except\n",
    "\n",
    "Encerrar las sentencias que pueden fallar en bloques try/except simplifica la identificación y contención de los errores."
   ]
  },
  {
   "cell_type": "code",
   "execution_count": 57,
   "metadata": {
    "id": "4CrlPFYpGVOg",
    "slideshow": {
     "slide_type": "slide"
    }
   },
   "outputs": [
    {
     "name": "stdout",
     "output_type": "stream",
     "text": [
      "División por cero\n"
     ]
    }
   ],
   "source": [
    "try:\n",
    "    1 / 0 # arroja ZeroDivisionError\n",
    "except ZeroDivisionError:\n",
    "    print(\"División por cero\")\n",
    "    pass"
   ]
  },
  {
   "cell_type": "markdown",
   "metadata": {
    "id": "HWcU5LQPGVOg",
    "slideshow": {
     "slide_type": "slide"
    }
   },
   "source": [
    "También puede evitarse incurrir en algunos errores con validaciones sencillas usando asserts.\n",
    "\n",
    "**Tip**: Cuando se trabaja con matrices/tensores de muchas dimensiones, puede ser útil chequear que el tamaño esperado luego de cada operación sea el esperado."
   ]
  },
  {
   "cell_type": "code",
   "execution_count": 58,
   "metadata": {
    "id": "CyMkS17CGVOg",
    "slideshow": {
     "slide_type": "slide"
    }
   },
   "outputs": [],
   "source": [
    "a = 1\n",
    "assert a > 0 and a < 2"
   ]
  },
  {
   "cell_type": "markdown",
   "metadata": {
    "id": "gLDv9JwlGVOg",
    "slideshow": {
     "slide_type": "slide"
    }
   },
   "source": [
    "Por último, se puede acceder al modo debug con *%pdb on/off* o *%debug*."
   ]
  },
  {
   "cell_type": "code",
   "execution_count": 59,
   "metadata": {
    "id": "hSzFLA7vGVOg",
    "slideshow": {
     "slide_type": "slide"
    }
   },
   "outputs": [
    {
     "name": "stdout",
     "output_type": "stream",
     "text": [
      "Automatic pdb calling has been turned ON\n"
     ]
    },
    {
     "ename": "ZeroDivisionError",
     "evalue": "division by zero",
     "output_type": "error",
     "traceback": [
      "\u001b[0;31m---------------------------------------------------------------------------\u001b[0m",
      "\u001b[0;31mZeroDivisionError\u001b[0m                         Traceback (most recent call last)",
      "\u001b[0;32m<ipython-input-59-b230de90e267>\u001b[0m in \u001b[0;36m<module>\u001b[0;34m\u001b[0m\n\u001b[1;32m      5\u001b[0m     \u001b[0;32mreturn\u001b[0m \u001b[0mc\u001b[0m\u001b[0;34m\u001b[0m\u001b[0;34m\u001b[0m\u001b[0m\n\u001b[1;32m      6\u001b[0m \u001b[0;34m\u001b[0m\u001b[0m\n\u001b[0;32m----> 7\u001b[0;31m \u001b[0mmy_broken_function\u001b[0m\u001b[0;34m(\u001b[0m\u001b[0;36m2\u001b[0m\u001b[0;34m,\u001b[0m\u001b[0;36m1\u001b[0m\u001b[0;34m)\u001b[0m\u001b[0;34m\u001b[0m\u001b[0;34m\u001b[0m\u001b[0m\n\u001b[0m",
      "\u001b[0;32m<ipython-input-59-b230de90e267>\u001b[0m in \u001b[0;36mmy_broken_function\u001b[0;34m(a, b)\u001b[0m\n\u001b[1;32m      2\u001b[0m \u001b[0;31m#exit para salir de pdb\u001b[0m\u001b[0;34m\u001b[0m\u001b[0;34m\u001b[0m\u001b[0;34m\u001b[0m\u001b[0m\n\u001b[1;32m      3\u001b[0m \u001b[0;32mdef\u001b[0m \u001b[0mmy_broken_function\u001b[0m\u001b[0;34m(\u001b[0m\u001b[0ma\u001b[0m\u001b[0;34m,\u001b[0m\u001b[0mb\u001b[0m\u001b[0;34m)\u001b[0m\u001b[0;34m:\u001b[0m\u001b[0;34m\u001b[0m\u001b[0;34m\u001b[0m\u001b[0m\n\u001b[0;32m----> 4\u001b[0;31m     \u001b[0mc\u001b[0m \u001b[0;34m=\u001b[0m \u001b[0ma\u001b[0m \u001b[0;34m+\u001b[0m \u001b[0mb\u001b[0m \u001b[0;34m/\u001b[0m \u001b[0;36m0\u001b[0m \u001b[0;31m# arroja ZeroDivisionError\u001b[0m\u001b[0;34m\u001b[0m\u001b[0;34m\u001b[0m\u001b[0m\n\u001b[0m\u001b[1;32m      5\u001b[0m     \u001b[0;32mreturn\u001b[0m \u001b[0mc\u001b[0m\u001b[0;34m\u001b[0m\u001b[0;34m\u001b[0m\u001b[0m\n\u001b[1;32m      6\u001b[0m \u001b[0;34m\u001b[0m\u001b[0m\n",
      "\u001b[0;31mZeroDivisionError\u001b[0m: division by zero"
     ]
    },
    {
     "name": "stdout",
     "output_type": "stream",
     "text": [
      "> \u001b[0;32m<ipython-input-59-b230de90e267>\u001b[0m(4)\u001b[0;36mmy_broken_function\u001b[0;34m()\u001b[0m\n",
      "\u001b[0;32m      2 \u001b[0;31m\u001b[0;31m#exit para salir de pdb\u001b[0m\u001b[0;34m\u001b[0m\u001b[0;34m\u001b[0m\u001b[0;34m\u001b[0m\u001b[0m\n",
      "\u001b[0m\u001b[0;32m      3 \u001b[0;31m\u001b[0;32mdef\u001b[0m \u001b[0mmy_broken_function\u001b[0m\u001b[0;34m(\u001b[0m\u001b[0ma\u001b[0m\u001b[0;34m,\u001b[0m\u001b[0mb\u001b[0m\u001b[0;34m)\u001b[0m\u001b[0;34m:\u001b[0m\u001b[0;34m\u001b[0m\u001b[0;34m\u001b[0m\u001b[0m\n",
      "\u001b[0m\u001b[0;32m----> 4 \u001b[0;31m    \u001b[0mc\u001b[0m \u001b[0;34m=\u001b[0m \u001b[0ma\u001b[0m \u001b[0;34m+\u001b[0m \u001b[0mb\u001b[0m \u001b[0;34m/\u001b[0m \u001b[0;36m0\u001b[0m \u001b[0;31m# arroja ZeroDivisionError\u001b[0m\u001b[0;34m\u001b[0m\u001b[0;34m\u001b[0m\u001b[0m\n",
      "\u001b[0m\u001b[0;32m      5 \u001b[0;31m    \u001b[0;32mreturn\u001b[0m \u001b[0mc\u001b[0m\u001b[0;34m\u001b[0m\u001b[0;34m\u001b[0m\u001b[0m\n",
      "\u001b[0m\u001b[0;32m      6 \u001b[0;31m\u001b[0;34m\u001b[0m\u001b[0m\n",
      "\u001b[0m\n",
      "ipdb> print(a)\n",
      "2\n",
      "ipdb> print(b)\n",
      "1\n",
      "ipdb> exit\n"
     ]
    }
   ],
   "source": [
    "%pdb on\n",
    "#exit para salir de pdb\n",
    "def my_broken_function(a,b):\n",
    "    c = a + b / 0 # arroja ZeroDivisionError\n",
    "    return c    \n",
    "\n",
    "my_broken_function(2,1)"
   ]
  },
  {
   "cell_type": "code",
   "execution_count": 60,
   "metadata": {
    "id": "if0Qh1DpGVOh",
    "slideshow": {
     "slide_type": "slide"
    }
   },
   "outputs": [
    {
     "name": "stdout",
     "output_type": "stream",
     "text": [
      "Automatic pdb calling has been turned OFF\n"
     ]
    }
   ],
   "source": [
    "%pdb off"
   ]
  },
  {
   "cell_type": "code",
   "execution_count": 61,
   "metadata": {
    "id": "1WShVM5PGVOh",
    "slideshow": {
     "slide_type": "slide"
    }
   },
   "outputs": [
    {
     "ename": "ZeroDivisionError",
     "evalue": "division by zero",
     "output_type": "error",
     "traceback": [
      "\u001b[0;31m---------------------------------------------------------------------------\u001b[0m",
      "\u001b[0;31mZeroDivisionError\u001b[0m                         Traceback (most recent call last)",
      "\u001b[0;32m<ipython-input-61-22aaa1ac9a55>\u001b[0m in \u001b[0;36m<module>\u001b[0;34m\u001b[0m\n\u001b[0;32m----> 1\u001b[0;31m \u001b[0mmy_broken_function\u001b[0m\u001b[0;34m(\u001b[0m\u001b[0;36m2\u001b[0m\u001b[0;34m,\u001b[0m\u001b[0;36m1\u001b[0m\u001b[0;34m)\u001b[0m\u001b[0;34m\u001b[0m\u001b[0;34m\u001b[0m\u001b[0m\n\u001b[0m",
      "\u001b[0;32m<ipython-input-59-b230de90e267>\u001b[0m in \u001b[0;36mmy_broken_function\u001b[0;34m(a, b)\u001b[0m\n\u001b[1;32m      2\u001b[0m \u001b[0;31m#exit para salir de pdb\u001b[0m\u001b[0;34m\u001b[0m\u001b[0;34m\u001b[0m\u001b[0;34m\u001b[0m\u001b[0m\n\u001b[1;32m      3\u001b[0m \u001b[0;32mdef\u001b[0m \u001b[0mmy_broken_function\u001b[0m\u001b[0;34m(\u001b[0m\u001b[0ma\u001b[0m\u001b[0;34m,\u001b[0m\u001b[0mb\u001b[0m\u001b[0;34m)\u001b[0m\u001b[0;34m:\u001b[0m\u001b[0;34m\u001b[0m\u001b[0;34m\u001b[0m\u001b[0m\n\u001b[0;32m----> 4\u001b[0;31m     \u001b[0mc\u001b[0m \u001b[0;34m=\u001b[0m \u001b[0ma\u001b[0m \u001b[0;34m+\u001b[0m \u001b[0mb\u001b[0m \u001b[0;34m/\u001b[0m \u001b[0;36m0\u001b[0m \u001b[0;31m# arroja ZeroDivisionError\u001b[0m\u001b[0;34m\u001b[0m\u001b[0;34m\u001b[0m\u001b[0m\n\u001b[0m\u001b[1;32m      5\u001b[0m     \u001b[0;32mreturn\u001b[0m \u001b[0mc\u001b[0m\u001b[0;34m\u001b[0m\u001b[0;34m\u001b[0m\u001b[0m\n\u001b[1;32m      6\u001b[0m \u001b[0;34m\u001b[0m\u001b[0m\n",
      "\u001b[0;31mZeroDivisionError\u001b[0m: division by zero"
     ]
    }
   ],
   "source": [
    "my_broken_function(2,1)"
   ]
  },
  {
   "cell_type": "code",
   "execution_count": null,
   "metadata": {
    "id": "o11mTdkzGVOh",
    "slideshow": {
     "slide_type": "slide"
    }
   },
   "outputs": [],
   "source": [
    "%debug"
   ]
  },
  {
   "cell_type": "markdown",
   "metadata": {
    "slideshow": {
     "slide_type": "slide"
    }
   },
   "source": [
    "# 8. Organización del código en módulos\n",
    "\n",
    "(ver en editor)"
   ]
  },
  {
   "cell_type": "code",
   "execution_count": null,
   "metadata": {},
   "outputs": [],
   "source": []
  },
  {
   "cell_type": "markdown",
   "metadata": {
    "id": "rVPwM3a5GVOh",
    "slideshow": {
     "slide_type": "slide"
    }
   },
   "source": [
    "## Bibliografía y referencias\n",
    "\n",
    "- Sci-Py Lectures https://scipy-lectures.org/. Accedido: 24/01/2021\n",
    "- \"PyOHIO 2013. Super Advanced Python\". https://pyvideo.org/pyohio-2013/super-advanced-python.html"
   ]
  }
 ],
 "metadata": {
  "celltoolbar": "Slideshow",
  "colab": {
   "collapsed_sections": [
    "LL2431z3GVOK",
    "J_w9jmweGVOL",
    "lBGpCxM5GVOP",
    "zwvv9qCGGVOU",
    "EA_ReXPZGVOX",
    "4xJhlTB8GVOZ",
    "MuISXPATGVOZ",
    "AviRdtLGGVOb",
    "zunc-5NJGVOc",
    "1L5KR-5oGVOd"
   ],
   "name": "01 - Repaso de Python.ipynb",
   "provenance": [],
   "toc_visible": true
  },
  "kernelspec": {
   "display_name": "Python 3",
   "language": "python",
   "name": "python3"
  },
  "language_info": {
   "codemirror_mode": {
    "name": "ipython",
    "version": 3
   },
   "file_extension": ".py",
   "mimetype": "text/x-python",
   "name": "python",
   "nbconvert_exporter": "python",
   "pygments_lexer": "ipython3",
   "version": "3.7.10"
  }
 },
 "nbformat": 4,
 "nbformat_minor": 4
}
