{
 "cells": [
  {
   "cell_type": "markdown",
   "metadata": {
    "slideshow": {
     "slide_type": "slide"
    }
   },
   "source": [
    "# Trabajo práctico 1. Introducción al Análisis de Datos"
   ]
  },
  {
   "cell_type": "markdown",
   "metadata": {
    "slideshow": {
     "slide_type": "slide"
    }
   },
   "source": [
    "## ¿Qué tan cálida era Europa en los últimos 500 años?\n",
    "\n",
    "**Problema.** Intentaremos responder las siguientes preguntas:\n",
    "\n",
    "1. ¿Cuál era la temperatura extrema en los últimos 500 años en Europa?\n",
    "\n",
    "2. ¿Cómo evolucionó la temperatura?\n",
    "\n",
    "3. ¿Cómo era en un determinado punto del tiempo (fecha o aproximación)?"
   ]
  },
  {
   "cell_type": "markdown",
   "metadata": {},
   "source": [
    "## 1. Obtención de datos\n",
    "\n",
    "Descargar los [datos](https://drive.google.com/file/d/1C3RlbhZHcvRW7Zp6BuxPEHF6BB5EGCOP/view?usp=sharing) y descomprimir."
   ]
  },
  {
   "cell_type": "code",
   "execution_count": 1,
   "metadata": {
    "scrolled": true
   },
   "outputs": [],
   "source": [
    "# Cambiar a lo que corresponda\n",
    "DATASET_PATH = \"./data\""
   ]
  },
  {
   "cell_type": "code",
   "execution_count": 3,
   "metadata": {},
   "outputs": [
    {
     "name": "stderr",
     "output_type": "stream",
     "text": [
      "Parameter format not correct - \"data\".\n"
     ]
    }
   ],
   "source": [
    "!ls {DATASET_PATH}"
   ]
  },
  {
   "cell_type": "code",
   "execution_count": null,
   "metadata": {},
   "outputs": [],
   "source": [
    "!cat {DATASET_PATH}/europe-seasonal.txt"
   ]
  },
  {
   "cell_type": "markdown",
   "metadata": {},
   "source": [
    "## 2. Análisis exploratorio inicial"
   ]
  },
  {
   "cell_type": "code",
   "execution_count": 4,
   "metadata": {
    "scrolled": true
   },
   "outputs": [],
   "source": [
    "import pandas as pd\n",
    "import numpy as np\n",
    "import matplotlib.pyplot as plt\n",
    "import seaborn as sns; sns.set()"
   ]
  },
  {
   "cell_type": "code",
   "execution_count": 6,
   "metadata": {
    "scrolled": true
   },
   "outputs": [
    {
     "data": {
      "text/html": [
       "<div>\n",
       "<style scoped>\n",
       "    .dataframe tbody tr th:only-of-type {\n",
       "        vertical-align: middle;\n",
       "    }\n",
       "\n",
       "    .dataframe tbody tr th {\n",
       "        vertical-align: top;\n",
       "    }\n",
       "\n",
       "    .dataframe thead th {\n",
       "        text-align: right;\n",
       "    }\n",
       "</style>\n",
       "<table border=\"1\" class=\"dataframe\">\n",
       "  <thead>\n",
       "    <tr style=\"text-align: right;\">\n",
       "      <th></th>\n",
       "      <th>year</th>\n",
       "      <th>winter</th>\n",
       "      <th>spring</th>\n",
       "      <th>summer</th>\n",
       "      <th>autumn</th>\n",
       "      <th>annual</th>\n",
       "    </tr>\n",
       "  </thead>\n",
       "  <tbody>\n",
       "    <tr>\n",
       "      <th>0</th>\n",
       "      <td>1500</td>\n",
       "      <td>-0.945</td>\n",
       "      <td>7.157</td>\n",
       "      <td>17.483</td>\n",
       "      <td>8.990</td>\n",
       "      <td>8.166</td>\n",
       "    </tr>\n",
       "    <tr>\n",
       "      <th>1</th>\n",
       "      <td>1501</td>\n",
       "      <td>-0.850</td>\n",
       "      <td>7.435</td>\n",
       "      <td>17.401</td>\n",
       "      <td>8.687</td>\n",
       "      <td>8.163</td>\n",
       "    </tr>\n",
       "    <tr>\n",
       "      <th>2</th>\n",
       "      <td>1502</td>\n",
       "      <td>-1.053</td>\n",
       "      <td>6.872</td>\n",
       "      <td>17.906</td>\n",
       "      <td>9.071</td>\n",
       "      <td>8.194</td>\n",
       "    </tr>\n",
       "    <tr>\n",
       "      <th>3</th>\n",
       "      <td>1503</td>\n",
       "      <td>-2.134</td>\n",
       "      <td>7.210</td>\n",
       "      <td>18.331</td>\n",
       "      <td>8.922</td>\n",
       "      <td>8.077</td>\n",
       "    </tr>\n",
       "    <tr>\n",
       "      <th>4</th>\n",
       "      <td>1504</td>\n",
       "      <td>-1.881</td>\n",
       "      <td>7.254</td>\n",
       "      <td>18.223</td>\n",
       "      <td>9.075</td>\n",
       "      <td>8.163</td>\n",
       "    </tr>\n",
       "  </tbody>\n",
       "</table>\n",
       "</div>"
      ],
      "text/plain": [
       "   year  winter  spring  summer  autumn  annual\n",
       "0  1500  -0.945   7.157  17.483   8.990   8.166\n",
       "1  1501  -0.850   7.435  17.401   8.687   8.163\n",
       "2  1502  -1.053   6.872  17.906   9.071   8.194\n",
       "3  1503  -2.134   7.210  18.331   8.922   8.077\n",
       "4  1504  -1.881   7.254  18.223   9.075   8.163"
      ]
     },
     "execution_count": 6,
     "metadata": {},
     "output_type": "execute_result"
    }
   ],
   "source": [
    "# Observaciones \n",
    "# 1: Year\n",
    "# 2: Winter (December-January-February) averaged absolute surface air temperature, �C \n",
    "# 3: Spring (March-April-May) averaged absolute surface air temperature, �C \n",
    "# 4: Summer (June-July-August) averaged absolute surface air temperature, �C \n",
    "# 5: Autumn (September-October-November) averaged absolute surface air temperature, �C \n",
    "# 6: Annual averaged absolute surface air temperature, �C \n",
    "df = pd.read_csv(DATASET_PATH+\"/europe-seasonal.dat\",\n",
    "                 names=[\"year\",\"winter\",\"spring\",\"summer\",\"autumn\",\"annual\"],\n",
    "                 delim_whitespace=True \n",
    ")\n",
    "df.head(5)"
   ]
  },
  {
   "cell_type": "markdown",
   "metadata": {},
   "source": [
    "Obtener alguna información básica sobre la temperatura en Europa en los últimos 500 años."
   ]
  },
  {
   "cell_type": "code",
   "execution_count": 7,
   "metadata": {
    "scrolled": true
   },
   "outputs": [
    {
     "name": "stdout",
     "output_type": "stream",
     "text": [
      "La temperatura promedio más baja en invierno es:  -4.152C\n",
      "Esto ocurrió en el año: 0\n"
     ]
    }
   ],
   "source": [
    "winter_min = df['winter'].min() # COMPLETAR\n",
    "year_winter_min = 0 # COMPLETAR\n",
    "print(\"La temperatura promedio más baja en invierno es: {:+7.3f}C\".format(winter_min))\n",
    "print(\"Esto ocurrió en el año: {}\".format(year_winter_min))"
   ]
  },
  {
   "cell_type": "code",
   "execution_count": null,
   "metadata": {
    "scrolled": true
   },
   "outputs": [],
   "source": [
    "winter_max = 0 # COMPLETAR\n",
    "year_winter_max = 0 # COMPLETAR\n",
    "print(\"La temperatura promedio más alta en invierno es: {:+7.3f}C\".format(winter_max))\n",
    "print(\"Esto ocurrió en el año: {}\".format(year_winter_max))"
   ]
  },
  {
   "cell_type": "code",
   "execution_count": null,
   "metadata": {
    "scrolled": true
   },
   "outputs": [],
   "source": [
    "summer_min = 0 # COMPLETAR\n",
    "year_summer_min = 0 # COMPLETAR\n",
    "print(\"La temperatura promedio más baja en verano es: {:+7.3f}C\".format(summer_min))\n",
    "print(\"Esto ocurrió en el año: {}\".format(year_summer_min))"
   ]
  },
  {
   "cell_type": "code",
   "execution_count": null,
   "metadata": {
    "scrolled": true
   },
   "outputs": [],
   "source": [
    "summer_max = 0 # COMPLETAR\n",
    "year_summer_max = 0 # COMPLETAR\n",
    "print(\"La temperatura promedio más alta en invierno es: {:+7.3f}C\".format(summer_max))\n",
    "print(\"Esto ocurrió en el año: {}\".format(year_summer_max))"
   ]
  },
  {
   "cell_type": "code",
   "execution_count": null,
   "metadata": {
    "scrolled": true
   },
   "outputs": [],
   "source": [
    "min_annual_temperature = 0 # COMPLETAR\n",
    "min_annual_temperature_year = 0  # COMPLETAR\n",
    "max_annual_temperature = 0  # COMPLETAR\n",
    "max_annual_temperature_year = 0 # COMPLETAR\n",
    "print(\"La temperatura anual promedio varió entre {:+.3f}C en el año {} a {:+.3f}C en el año {}.\".format( \n",
    "    min_annual_temperature, min_annual_temperature_year,\n",
    "    max_annual_temperature, max_annual_temperature_year\n",
    "))"
   ]
  },
  {
   "cell_type": "markdown",
   "metadata": {},
   "source": [
    "Nota. De ahora en más, para obtener estadísticas generales usaremos la función *describe()*."
   ]
  },
  {
   "cell_type": "code",
   "execution_count": 8,
   "metadata": {
    "scrolled": true
   },
   "outputs": [
    {
     "data": {
      "text/html": [
       "<div>\n",
       "<style scoped>\n",
       "    .dataframe tbody tr th:only-of-type {\n",
       "        vertical-align: middle;\n",
       "    }\n",
       "\n",
       "    .dataframe tbody tr th {\n",
       "        vertical-align: top;\n",
       "    }\n",
       "\n",
       "    .dataframe thead th {\n",
       "        text-align: right;\n",
       "    }\n",
       "</style>\n",
       "<table border=\"1\" class=\"dataframe\">\n",
       "  <thead>\n",
       "    <tr style=\"text-align: right;\">\n",
       "      <th></th>\n",
       "      <th>year</th>\n",
       "      <th>winter</th>\n",
       "      <th>spring</th>\n",
       "      <th>summer</th>\n",
       "      <th>autumn</th>\n",
       "      <th>annual</th>\n",
       "    </tr>\n",
       "  </thead>\n",
       "  <tbody>\n",
       "    <tr>\n",
       "      <th>count</th>\n",
       "      <td>505.000000</td>\n",
       "      <td>505.000000</td>\n",
       "      <td>505.000000</td>\n",
       "      <td>505.000000</td>\n",
       "      <td>505.000000</td>\n",
       "      <td>505.000000</td>\n",
       "    </tr>\n",
       "    <tr>\n",
       "      <th>mean</th>\n",
       "      <td>1752.000000</td>\n",
       "      <td>-1.039701</td>\n",
       "      <td>7.121756</td>\n",
       "      <td>17.640590</td>\n",
       "      <td>9.050127</td>\n",
       "      <td>8.211590</td>\n",
       "    </tr>\n",
       "    <tr>\n",
       "      <th>std</th>\n",
       "      <td>145.925209</td>\n",
       "      <td>1.115802</td>\n",
       "      <td>0.652947</td>\n",
       "      <td>0.460553</td>\n",
       "      <td>0.515988</td>\n",
       "      <td>0.434923</td>\n",
       "    </tr>\n",
       "    <tr>\n",
       "      <th>min</th>\n",
       "      <td>1500.000000</td>\n",
       "      <td>-4.152000</td>\n",
       "      <td>5.075000</td>\n",
       "      <td>16.477000</td>\n",
       "      <td>7.532000</td>\n",
       "      <td>7.006000</td>\n",
       "    </tr>\n",
       "    <tr>\n",
       "      <th>25%</th>\n",
       "      <td>1626.000000</td>\n",
       "      <td>-1.795000</td>\n",
       "      <td>6.734000</td>\n",
       "      <td>17.343000</td>\n",
       "      <td>8.745000</td>\n",
       "      <td>7.960000</td>\n",
       "    </tr>\n",
       "    <tr>\n",
       "      <th>50%</th>\n",
       "      <td>1752.000000</td>\n",
       "      <td>-0.914000</td>\n",
       "      <td>7.092000</td>\n",
       "      <td>17.607000</td>\n",
       "      <td>9.046000</td>\n",
       "      <td>8.215000</td>\n",
       "    </tr>\n",
       "    <tr>\n",
       "      <th>75%</th>\n",
       "      <td>1878.000000</td>\n",
       "      <td>-0.250000</td>\n",
       "      <td>7.503000</td>\n",
       "      <td>17.906000</td>\n",
       "      <td>9.383000</td>\n",
       "      <td>8.477000</td>\n",
       "    </tr>\n",
       "    <tr>\n",
       "      <th>max</th>\n",
       "      <td>2004.000000</td>\n",
       "      <td>1.734000</td>\n",
       "      <td>9.263000</td>\n",
       "      <td>19.615000</td>\n",
       "      <td>10.554000</td>\n",
       "      <td>9.664000</td>\n",
       "    </tr>\n",
       "  </tbody>\n",
       "</table>\n",
       "</div>"
      ],
      "text/plain": [
       "              year      winter      spring      summer      autumn      annual\n",
       "count   505.000000  505.000000  505.000000  505.000000  505.000000  505.000000\n",
       "mean   1752.000000   -1.039701    7.121756   17.640590    9.050127    8.211590\n",
       "std     145.925209    1.115802    0.652947    0.460553    0.515988    0.434923\n",
       "min    1500.000000   -4.152000    5.075000   16.477000    7.532000    7.006000\n",
       "25%    1626.000000   -1.795000    6.734000   17.343000    8.745000    7.960000\n",
       "50%    1752.000000   -0.914000    7.092000   17.607000    9.046000    8.215000\n",
       "75%    1878.000000   -0.250000    7.503000   17.906000    9.383000    8.477000\n",
       "max    2004.000000    1.734000    9.263000   19.615000   10.554000    9.664000"
      ]
     },
     "execution_count": 8,
     "metadata": {},
     "output_type": "execute_result"
    }
   ],
   "source": [
    "df.describe()"
   ]
  },
  {
   "cell_type": "markdown",
   "metadata": {},
   "source": [
    "## 3. Gráfico de tendencia de la temperatura\n",
    "\n",
    "El análisis anterior nos dió una primera impresión de los valores de la temperatura en la segunda mitad del pasado mileno.\n",
    "No obstante, para tener una visión más completa, es conveniente recurrir a un gráfico de tendencia como el que se muestra a continuación:\n",
    "\n",
    "<center>\n",
    "    <img src=\"assets/tendencia_temperatura_completo.png\"/>\n",
    "</center>\n",
    "\n",
    "Escribir una función *plot_temperature_trends* que permita graficar la tendencia de las series correspondientes a las cuatro estaciones para los años indicados. Si no se especifica ningún año de inicio y/o fin utilizar el mínimo y máximo de la serie respectivamente."
   ]
  },
  {
   "cell_type": "code",
   "execution_count": null,
   "metadata": {
    "scrolled": true
   },
   "outputs": [],
   "source": [
    "def plot_temperature_trends(df,filename,start_year=None,end_year=None):\n",
    "    \"\"\"Realiza un gráfico de tendencia y lo almacena en un archivo.\n",
    "\n",
    "    :param df: Dataframe con valores de temperaturas anuales. \n",
    "               Debe contener las columnas 'year' y 'autumn','winter','spring','summer', 'annual'.               \n",
    "    :type pd.Dataframe        \n",
    "    :param filename: Nombre del archivo de salida\n",
    "    :type string        \n",
    "    :param start_year: Año inicial. Si se omite, es el primero de la serie.\n",
    "    :type int, optional\n",
    "    :param end_year: Año final. Si se omite, es el último de la serie.\n",
    "    :type int, optional        \n",
    "    \"\"\"\n",
    "    # COMPLETAR\n",
    "    # ...\n",
    "    \n",
    "plot_temperature_trends(df,filename=\"tendencia_temperatura_completo.png\",start_year=None,end_year=None)"
   ]
  },
  {
   "cell_type": "markdown",
   "metadata": {},
   "source": [
    "Del gráfico anterior, podemos realizar las siguientes observaciones:\n",
    "\n",
    "1. Los inviernos siempre son más fríos que la primavera, que a su vez son más frías que los otoños, que a su vez son más frías que el otoño.\n",
    "2. La temperatura promedio varía más en invierno que en otras estaciones.\n",
    "3. Las primaveras varían más desde alrededor del comienzo del siglo 19.\n",
    "\n",
    "Lo que no podemos observar con claridad son tendencias. Podríamos responder, por ejemplo, ¿si está incrementándose la temperatura?\n",
    "Los números sugieren que la temperatura está incrementándose porque las temperaturas en invierno, verano y promedio ocurren en los años recientes. Sin embargo, estos valors son sólo extremos que pueden o no estar correlacionados con un comportamiento general de la temperatura.\n",
    "\n",
    "Para observar mejor este fenómeno, podemos utilizar [suavizado](http://en.wikipedia.org/wiki/Smoothing).\n",
    "\n",
    "Hay diferentes algoritmos de suavizado. Aquí usaremos el [promedio móvil](http://en.wikipedia.org/wiki/Moving_average) en su forma más simple. \n",
    "\n",
    "Si la temperatura para una cierta estación en el año $y$ está dada por la variable $L_y$, entonces crearemos nuevas variables:\n",
    "\n",
    "$$\n",
    "L'_y := \\frac{1}{2r+1} \\sum_{k=y-r}^{y+r} L_k,\n",
    "$$\n",
    "\n",
    "Por ejemplo, $L'_y$ es el valor promedio entre las temperaturas del año $y-r$ hasta (e incluyendo) $y+r$, donde $r$ (el radio) es un parámetro dado. Cuanto mayor $r$, más mayor el grado de suavizado.\n",
    "\n",
    "¿Cómo calcular el promedio móvil?\n",
    "\n",
    "Comencemos por plantearlo para un elemento, el $i$-ésimo. Esto significa computar la suma $\\sum_{k=i-r}^{i+r} L_k$ y dividirla por $2r+1$. Esto significa que debemos:\n",
    "\n",
    "* obtener una parte de la serie: `L[i-r:i+r+1]` (el `+1` está aquí porque el límite izquierdo no se incluye como parte de la nueva lista),\n",
    "\n",
    "* calcular la suma: $\\sum_{k=i-r}^{i+r} L_k =$`sum(L[i-r:i+r+1])`,\n",
    "\n",
    "* dividir por `2*r+1`: $\\frac{1}{2r+1} \\sum_{k=i-r}^{i+r} L_k =$ `sum(L[i-r:i+r+1]) / (2*r+1)`.\n",
    "\n",
    "Pista: en python, se puede repetir el procedimiento anterior para todos los índices posibles `i` utilizando list comprehension."
   ]
  },
  {
   "cell_type": "code",
   "execution_count": null,
   "metadata": {
    "scrolled": true
   },
   "outputs": [],
   "source": [
    "def smooth(L,r):\n",
    "    \"\"\" Dada una serie, devuelver una nueva serie con el suavizado por promedio móvil para radio r.    \n",
    "    :param L: Serie\n",
    "    :type: pd.Series\n",
    "    :param r: grado de suavizado.\n",
    "    :type: int\n",
    "    :return: Serie suavizada\n",
    "    :rtype: pd.Series\n",
    "    \"\"\"\n",
    "    # COMPLETAR\n",
    "    new_series_values = [] # ...\n",
    "    return pd.Series(new_series_values)\n",
    "\n",
    "series = df.autumn"
   ]
  },
  {
   "cell_type": "markdown",
   "metadata": {},
   "source": [
    "Visualización con distintos niveles de suavizado."
   ]
  },
  {
   "cell_type": "code",
   "execution_count": null,
   "metadata": {
    "scrolled": true
   },
   "outputs": [],
   "source": [
    "smoothing_params = [2,4,32,64]\n",
    "fig,axes=plt.subplots(len(smoothing_params)+1,1,figsize=(22,4*len(smoothing_params)))\n",
    "axes[0].plot(df.year,series)\n",
    "axes[0].set_title(\"Sin suavizado\")\n",
    "\n",
    "for i,r in enumerate(smoothing_params):\n",
    "    axes[1+i].plot(df.year.iloc[r:-r],smooth(series,r),lw=4)\n",
    "    axes[1+i].set_title(\"Con suavizado r={}\".format(r))"
   ]
  },
  {
   "cell_type": "code",
   "execution_count": null,
   "metadata": {
    "scrolled": true
   },
   "outputs": [],
   "source": [
    "def plot_temperature_trends_smooth(df,filename,r=1,start_year=None,end_year=None):\n",
    "    \"\"\"Realiza un gráfico de tendencia y lo almacena en un archivo.\n",
    "\n",
    "    :param df: Dataframe con valores de temperaturas anuales. \n",
    "               Debe contener las columnas 'year' y 'autumn','winter','spring','summer', 'annual'.               \n",
    "    :type pd.Dataframe        \n",
    "    :param filename: Nombre del archivo de salida\n",
    "    :type string        \n",
    "    :param start_year: Año inicial. Si se omite, es el primero de la serie.\n",
    "    :type int, optional\n",
    "    :param end_year: Año final. Si se omite, es el último de la serie.\n",
    "    :type int, optional        \n",
    "    \"\"\"\n",
    "    # COMPLETAR\n",
    "    # ...\n",
    "    \n",
    "plot_temperature_trends_smooth(df,filename=\"tendencia_temperatura_suavizado.png\",\n",
    "                               r=17,start_year=None,end_year=None)"
   ]
  },
  {
   "cell_type": "markdown",
   "metadata": {},
   "source": [
    "Opcional: es posible mejorar el gráfico anterior mostrando los valores con distinto suavizado con menor opacidad, como se muestra en la figura.\n",
    "\n",
    "<center>\n",
    "<img src=\"assets/tendencia_temperatura_suavizado2.png\"/>\n",
    "</center>\n",
    "\n",
    "Opcional: Implementar la función plot_temperature_trends_smooth2 que realiza un gráfico similar al anterior para una lista de valores de suavizado, por ejemplo [ 0, 1, 3, 11, 17 ].\n",
    "Pista: usar el atributo alpha para controlar la opacidad de los gráficos y label, cuidando de establecer en None todas las etiquetas excepto las de menor opacidad."
   ]
  },
  {
   "cell_type": "code",
   "execution_count": null,
   "metadata": {
    "scrolled": true
   },
   "outputs": [],
   "source": [
    "def plot_temperature_trends_smooth2(df,filename,start_year=None,end_year=None):\n",
    "    \"\"\"Realiza un gráfico de tendencia y lo almacena en un archivo.\n",
    "\n",
    "    :param df: Dataframe con valores de temperaturas anuales. \n",
    "               Debe contener las columnas 'year' y 'autumn','winter','spring','summer', 'annual'.               \n",
    "    :type pd.Dataframe        \n",
    "    :param filename: Nombre del archivo de salida\n",
    "    :type string        \n",
    "    :param start_year: Año inicial. Si se omite, es el primero de la serie.\n",
    "    :type int, optional\n",
    "    :param end_year: Año final. Si se omite, es el último de la serie.\n",
    "    :type int, optional        \n",
    "    \"\"\"\n",
    "    # COMPLETAR\n",
    "    # ...\n",
    "    \n",
    "plot_temperature_trends_smooth2(df,filename=\"tendencia_temperatura_suavizado2.png\", start_year=None,end_year=None)"
   ]
  },
  {
   "cell_type": "markdown",
   "metadata": {},
   "source": [
    "## 4. Mapa de temperaturas\n",
    "\n",
    "Hasta ahora hemos visto las temperaturas promedio, pero disponemos también de información de las temperaturas para cada punto del mapa.\n",
    "\n",
    "Para esto trabajaremos con el archivos TT_Europe_1500_2002_New.GDX, que se describe en Readme_TT_1500_2002.txt."
   ]
  },
  {
   "cell_type": "code",
   "execution_count": null,
   "metadata": {
    "scrolled": true
   },
   "outputs": [],
   "source": [
    "!ls {DATASET_PATH}"
   ]
  },
  {
   "cell_type": "code",
   "execution_count": null,
   "metadata": {
    "scrolled": true
   },
   "outputs": [],
   "source": [
    "!cat {DATASET_PATH}/Readme_TT_1500_2002.txt"
   ]
  },
  {
   "cell_type": "markdown",
   "metadata": {},
   "source": [
    "Dado que tenemos datos geográficos de Europa para los últimos 500 años, una cosa que podemos hacer es mostrar un mapa de temperaturas para cualquier año, como se muestra a continuación:\n",
    "\n",
    "<center>\n",
    "<img src=\"\"/>\n",
    "</center>\n"
   ]
  },
  {
   "cell_type": "code",
   "execution_count": null,
   "metadata": {
    "scrolled": true
   },
   "outputs": [],
   "source": [
    "!ls -lh {DATASET_PATH}/TT_Europe_1500_2002_New.GDX"
   ]
  },
  {
   "cell_type": "markdown",
   "metadata": {},
   "source": [
    "Algunas observaciones:\n",
    "\n",
    "- **Tamaño del archivo de entrada**: En este caso el archivo puede ser demasiado grande para procesar con Pandas, así que adoptaremos otra estrategia. Como sólo estamos interesados en los valores correspondientes a un año, escribiremos una función *get_temperatures()* que obtenga los valores para cada celda para una fecha dada.\n",
    "- El formato de los datos es de una grilla que se obtuvo de aplicar una proyección (llamada [equirectangular](http://en.wikipedia.org/wiki/Equirectangular_projection). Nota: el área cubierta es 25W-40E y 35N-70N, en lugar de 30N-70N, como dice el README."
   ]
  },
  {
   "cell_type": "code",
   "execution_count": 9,
   "metadata": {
    "scrolled": true
   },
   "outputs": [],
   "source": [
    "code2season = {\n",
    "    13: \"Invierno\",\n",
    "    14: \"Primavera\",\n",
    "    15: \"Verano\",\n",
    "    16: \"Otoño\"\n",
    "}\n",
    "\n",
    "# COMPLETAR, diccionario que debe devolver la inversa: \n",
    "# {'Invierno': 13, 'Primavera': 14, 'Verano': 15, 'Otoño': 16}\n",
    "season2code = {} # COMPLETAR"
   ]
  },
  {
   "cell_type": "code",
   "execution_count": 13,
   "metadata": {
    "scrolled": true
   },
   "outputs": [
    {
     "ename": "KeyError",
     "evalue": "'Otono'",
     "output_type": "error",
     "traceback": [
      "\u001b[1;31m---------------------------------------------------------------------------\u001b[0m",
      "\u001b[1;31mKeyError\u001b[0m                                  Traceback (most recent call last)",
      "\u001b[1;32m<ipython-input-13-bbf26e97a750>\u001b[0m in \u001b[0;36m<module>\u001b[1;34m\u001b[0m\n\u001b[0;32m     13\u001b[0m     \u001b[1;32mreturn\u001b[0m \u001b[0mdata\u001b[0m\u001b[1;33m\u001b[0m\u001b[1;33m\u001b[0m\u001b[0m\n\u001b[0;32m     14\u001b[0m \u001b[1;33m\u001b[0m\u001b[0m\n\u001b[1;32m---> 15\u001b[1;33m \u001b[0mdata\u001b[0m \u001b[1;33m=\u001b[0m \u001b[0mget_temperatures\u001b[0m\u001b[1;33m(\u001b[0m\u001b[0mDATASET_PATH\u001b[0m\u001b[1;33m+\u001b[0m\u001b[1;34m\"/TT_Europe_1500_2002_New.GDX\"\u001b[0m\u001b[1;33m,\u001b[0m\u001b[0myear\u001b[0m \u001b[1;33m=\u001b[0m \u001b[1;36m1700\u001b[0m\u001b[1;33m,\u001b[0m\u001b[0mseason\u001b[0m \u001b[1;33m=\u001b[0m \u001b[1;34m\"Otono\"\u001b[0m\u001b[1;33m)\u001b[0m\u001b[1;33m\u001b[0m\u001b[1;33m\u001b[0m\u001b[0m\n\u001b[0m\u001b[0;32m     16\u001b[0m \u001b[0mlen\u001b[0m\u001b[1;33m(\u001b[0m\u001b[0mdata\u001b[0m\u001b[1;33m)\u001b[0m\u001b[1;33m\u001b[0m\u001b[1;33m\u001b[0m\u001b[0m\n",
      "\u001b[1;32m<ipython-input-13-bbf26e97a750>\u001b[0m in \u001b[0;36mget_temperatures\u001b[1;34m(gdx_filename, year, season)\u001b[0m\n\u001b[0;32m      2\u001b[0m     \u001b[1;32mglobal\u001b[0m \u001b[0mcode2season\u001b[0m\u001b[1;33m,\u001b[0m \u001b[0mseason2code\u001b[0m\u001b[1;33m\u001b[0m\u001b[1;33m\u001b[0m\u001b[0m\n\u001b[0;32m      3\u001b[0m     \u001b[1;31m# String para filtrar, construida como indica el README.\u001b[0m\u001b[1;33m\u001b[0m\u001b[1;33m\u001b[0m\u001b[1;33m\u001b[0m\u001b[0m\n\u001b[1;32m----> 4\u001b[1;33m     \u001b[0myear_season_filter\u001b[0m \u001b[1;33m=\u001b[0m \u001b[1;34m\"{:04d}{:02d}\"\u001b[0m\u001b[1;33m.\u001b[0m\u001b[0mformat\u001b[0m\u001b[1;33m(\u001b[0m\u001b[0myear\u001b[0m\u001b[1;33m,\u001b[0m \u001b[0mseason2code\u001b[0m\u001b[1;33m[\u001b[0m\u001b[0mseason\u001b[0m\u001b[1;33m]\u001b[0m\u001b[1;33m)\u001b[0m\u001b[1;33m\u001b[0m\u001b[1;33m\u001b[0m\u001b[0m\n\u001b[0m\u001b[0;32m      5\u001b[0m \u001b[1;33m\u001b[0m\u001b[0m\n\u001b[0;32m      6\u001b[0m     \u001b[0mdata\u001b[0m \u001b[1;33m=\u001b[0m \u001b[1;32mNone\u001b[0m\u001b[1;33m\u001b[0m\u001b[1;33m\u001b[0m\u001b[0m\n",
      "\u001b[1;31mKeyError\u001b[0m: 'Otono'"
     ]
    }
   ],
   "source": [
    "def get_temperatures(gdx_filename, year, season ):        \n",
    "    global code2season, season2code\n",
    "    # String para filtrar, construida como indica el README.\n",
    "    year_season_filter = \"{:04d}{:02d}\".format(year, season2code[season])\n",
    "\n",
    "    data = None\n",
    "    with open(gdx_filename, mode=\"rt\", encoding=\"utf8\") as f:\n",
    "        for line in f:\n",
    "            # \"yyyyss\"\n",
    "            if line[:6] == year_season_filter:\n",
    "                data = [float(x) for x in line[6:].strip().split()]\n",
    "                break\n",
    "    return data\n",
    "\n",
    "data = get_temperatures(DATASET_PATH+\"/TT_Europe_1500_2002_New.GDX\",year = 1700,season = \"Otono\")\n",
    "len(data)"
   ]
  },
  {
   "cell_type": "markdown",
   "metadata": {},
   "source": [
    "Notar que hemos obtenido una lista de 9100 puntos, pero necesitamos una grilla. \n",
    "Convertiremos la lista a una array de 70x130 de Numpy."
   ]
  },
  {
   "cell_type": "code",
   "execution_count": null,
   "metadata": {
    "scrolled": true
   },
   "outputs": [],
   "source": [
    "data = np.array(data).reshape((70, 130))\n",
    "fig,axes = plt.subplots(1,1,figsize=(22,8))\n",
    "axes.imshow(data, interpolation=\"bicubic\", cmap='jet');\n",
    "axes.grid(False)"
   ]
  },
  {
   "cell_type": "markdown",
   "metadata": {},
   "source": [
    "El gráfico anterior tiene un problema. Los colores se asignan automáticamente, con el menor valor asignado a azul y los más altos a rojo (y el resto entre estos colores).\n",
    "\n",
    "El README provisto indica que las temperaturas continentales están disponibles. Para el mar, se asigna el valor -999.99. \n",
    "\n",
    "El problema es que las temperaturas de interés (aproximadamente entre -25C y 40C) están comprimidas en el tope de escala. Una forma de evitar esto es normalizando los valores de interés."
   ]
  },
  {
   "cell_type": "code",
   "execution_count": null,
   "metadata": {
    "scrolled": true
   },
   "outputs": [],
   "source": [
    "from matplotlib import colors\n",
    "norm = colors.Normalize(\n",
    "     vmin=data[data > -100.0].min(),\n",
    "     vmax=data[data <100.0].max()\n",
    ")"
   ]
  },
  {
   "cell_type": "code",
   "execution_count": null,
   "metadata": {
    "scrolled": true
   },
   "outputs": [],
   "source": [
    "fig,axes = plt.subplots(1,1,figsize=(22,8))\n",
    "axes.imshow(data, interpolation=\"bicubic\", norm=norm, cmap='jet');\n",
    "axes.grid(False)"
   ]
  },
  {
   "cell_type": "markdown",
   "metadata": {},
   "source": [
    "El próximo paso es combinar esta imagen con una imagen de Europa."
   ]
  },
  {
   "cell_type": "code",
   "execution_count": 14,
   "metadata": {},
   "outputs": [
    {
     "ename": "KeyError",
     "evalue": "'otoño'",
     "output_type": "error",
     "traceback": [
      "\u001b[1;31m---------------------------------------------------------------------------\u001b[0m",
      "\u001b[1;31mKeyError\u001b[0m                                  Traceback (most recent call last)",
      "\u001b[1;32m<ipython-input-14-726a6f181162>\u001b[0m in \u001b[0;36m<module>\u001b[1;34m\u001b[0m\n\u001b[0;32m     27\u001b[0m \u001b[1;33m\u001b[0m\u001b[0m\n\u001b[0;32m     28\u001b[0m \u001b[1;33m\u001b[0m\u001b[0m\n\u001b[1;32m---> 29\u001b[1;33m \u001b[0mplot_temperatures\u001b[0m\u001b[1;33m(\u001b[0m\u001b[1;36m1700\u001b[0m\u001b[1;33m,\u001b[0m \u001b[1;34m\"otoño\"\u001b[0m\u001b[1;33m)\u001b[0m\u001b[1;33m\u001b[0m\u001b[1;33m\u001b[0m\u001b[0m\n\u001b[0m",
      "\u001b[1;32m<ipython-input-14-726a6f181162>\u001b[0m in \u001b[0;36mplot_temperatures\u001b[1;34m(year, season)\u001b[0m\n\u001b[0;32m      3\u001b[0m \u001b[1;32mdef\u001b[0m \u001b[0mplot_temperatures\u001b[0m\u001b[1;33m(\u001b[0m\u001b[0myear\u001b[0m\u001b[1;33m,\u001b[0m \u001b[0mseason\u001b[0m\u001b[1;33m)\u001b[0m\u001b[1;33m:\u001b[0m\u001b[1;33m\u001b[0m\u001b[1;33m\u001b[0m\u001b[0m\n\u001b[0;32m      4\u001b[0m     \u001b[1;31m# Nota: no debería haber rutas hardcoded.\u001b[0m\u001b[1;33m\u001b[0m\u001b[1;33m\u001b[0m\u001b[1;33m\u001b[0m\u001b[0m\n\u001b[1;32m----> 5\u001b[1;33m     \u001b[0mdata\u001b[0m \u001b[1;33m=\u001b[0m \u001b[0mget_temperatures\u001b[0m\u001b[1;33m(\u001b[0m\u001b[0mDATASET_PATH\u001b[0m\u001b[1;33m+\u001b[0m\u001b[1;34m\"/TT_Europe_1500_2002_New.GDX\"\u001b[0m\u001b[1;33m,\u001b[0m\u001b[0myear\u001b[0m \u001b[1;33m=\u001b[0m \u001b[0myear\u001b[0m\u001b[1;33m,\u001b[0m\u001b[0mseason\u001b[0m \u001b[1;33m=\u001b[0m \u001b[0mseason\u001b[0m\u001b[1;33m)\u001b[0m\u001b[1;33m\u001b[0m\u001b[1;33m\u001b[0m\u001b[0m\n\u001b[0m\u001b[0;32m      6\u001b[0m     \u001b[0mdata\u001b[0m \u001b[1;33m=\u001b[0m \u001b[0mnp\u001b[0m\u001b[1;33m.\u001b[0m\u001b[0marray\u001b[0m\u001b[1;33m(\u001b[0m\u001b[0mdata\u001b[0m\u001b[1;33m)\u001b[0m\u001b[1;33m.\u001b[0m\u001b[0mreshape\u001b[0m\u001b[1;33m(\u001b[0m\u001b[1;33m(\u001b[0m\u001b[1;36m70\u001b[0m\u001b[1;33m,\u001b[0m \u001b[1;36m130\u001b[0m\u001b[1;33m)\u001b[0m\u001b[1;33m)\u001b[0m\u001b[1;33m\u001b[0m\u001b[1;33m\u001b[0m\u001b[0m\n\u001b[0;32m      7\u001b[0m \u001b[1;33m\u001b[0m\u001b[0m\n",
      "\u001b[1;32m<ipython-input-13-bbf26e97a750>\u001b[0m in \u001b[0;36mget_temperatures\u001b[1;34m(gdx_filename, year, season)\u001b[0m\n\u001b[0;32m      2\u001b[0m     \u001b[1;32mglobal\u001b[0m \u001b[0mcode2season\u001b[0m\u001b[1;33m,\u001b[0m \u001b[0mseason2code\u001b[0m\u001b[1;33m\u001b[0m\u001b[1;33m\u001b[0m\u001b[0m\n\u001b[0;32m      3\u001b[0m     \u001b[1;31m# String para filtrar, construida como indica el README.\u001b[0m\u001b[1;33m\u001b[0m\u001b[1;33m\u001b[0m\u001b[1;33m\u001b[0m\u001b[0m\n\u001b[1;32m----> 4\u001b[1;33m     \u001b[0myear_season_filter\u001b[0m \u001b[1;33m=\u001b[0m \u001b[1;34m\"{:04d}{:02d}\"\u001b[0m\u001b[1;33m.\u001b[0m\u001b[0mformat\u001b[0m\u001b[1;33m(\u001b[0m\u001b[0myear\u001b[0m\u001b[1;33m,\u001b[0m \u001b[0mseason2code\u001b[0m\u001b[1;33m[\u001b[0m\u001b[0mseason\u001b[0m\u001b[1;33m]\u001b[0m\u001b[1;33m)\u001b[0m\u001b[1;33m\u001b[0m\u001b[1;33m\u001b[0m\u001b[0m\n\u001b[0m\u001b[0;32m      5\u001b[0m \u001b[1;33m\u001b[0m\u001b[0m\n\u001b[0;32m      6\u001b[0m     \u001b[0mdata\u001b[0m \u001b[1;33m=\u001b[0m \u001b[1;32mNone\u001b[0m\u001b[1;33m\u001b[0m\u001b[1;33m\u001b[0m\u001b[0m\n",
      "\u001b[1;31mKeyError\u001b[0m: 'otoño'"
     ]
    }
   ],
   "source": [
    "from matplotlib import image\n",
    "\n",
    "def plot_temperatures(year, season):\n",
    "    # Nota: no debería haber rutas hardcoded.\n",
    "    data = get_temperatures(DATASET_PATH+\"/TT_Europe_1500_2002_New.GDX\",year = year,season = season)\n",
    "    data = np.array(data).reshape((70, 130))\n",
    "    \n",
    "    europe_img = image.imread(DATASET_PATH+\"/europe.png\")\n",
    "    \n",
    "    norm = colors.Normalize(\n",
    "         vmin=data[data > -100.0].min(),\n",
    "         vmax=data[data <100.0].max()\n",
    "    )\n",
    "    \n",
    "    fig,axes = plt.subplots(1,1,figsize=(20,8))\n",
    "    axes.imshow(europe_img)\n",
    "    im = axes.imshow(data,\n",
    "         interpolation=\"bicubic\",\n",
    "         norm=norm,\n",
    "         alpha=0.43,\n",
    "         extent=(0,europe_img.shape[1],europe_img.shape[0],0),\n",
    "         cmap='jet'\n",
    "    )\n",
    "    fig.suptitle(\"Temperaturas en Europa en {} de {}\".format(season,year) )\n",
    "    fig.colorbar(im)\n",
    "    axes.grid(False)\n",
    "    \n",
    "    \n",
    "plot_temperatures(1700, \"otoño\")"
   ]
  },
  {
   "cell_type": "markdown",
   "metadata": {},
   "source": [
    "Bonus: escribir una función que para un intervalo de años, grafique o anime las estaciones, por ejemplo:\n",
    "\n",
    "<center>\n",
    "<img src=\"assets/multiple_seasons.png\"/>\n",
    "</center>"
   ]
  },
  {
   "cell_type": "markdown",
   "metadata": {
    "slideshow": {
     "slide_type": "subslide"
    }
   },
   "source": [
    "## 5. Conclusiones\n",
    "\n",
    "En este cuaderno se dieron los primeros pasos en el uso de herramientas para poder manipular archivos, trabajar con arrays y realizar visualizaciones.\n",
    "\n",
    "En lo sucesivo se irán incorporando nuevas técnicas de análisis y procesamiento, con el objetivo de utilizarlas también en la preparación de datos para modelos de aprendizaje automático."
   ]
  },
  {
   "cell_type": "markdown",
   "metadata": {
    "slideshow": {
     "slide_type": "subslide"
    }
   },
   "source": [
    "## Referencias\n",
    "\n",
    "### Datos de temperaturas\n",
    "\n",
    "Luterbacher, J., et al.  2006.  \n",
    "European Seasonal Temperature Reconstructions.  \n",
    "IGBP PAGES/World Data Center for Paleoclimatology  \n",
    "Data Contribution Series # 2006-060.  \n",
    "NOAA/NCDC Paleoclimatology Program, Boulder CO, USA.\n",
    "\n",
    "### Grilla de temperatura absoluta del aire en superficie para Europa, años 1500-2002:\n",
    "\n",
    "Luterbacher, J., Dietrich, D., Xoplaki, E., Grosjean, M., and Wanner, H., 2004:  \n",
    "European seasonal and annual temperature variability, trends, and extremes since 1500,  \n",
    "Science 303, 1499-1503 ([DOI:10.1126/science.1093877](http://doi.org/10.1126/science.1093877)).\n",
    "\n",
    "Xoplaki, E., Luterbacher, J., Paeth, H., Dietrich, D., Steiner N., Grosjean, M., and Wanner, H., 2005:  \n",
    "European spring and autumn temperature variability and change of extremes over the last half millennium,  \n",
    "Geophys. Res. Lett., 32, L15713 ([DOI:10.1029/2005GL023424](http://doi.org/10.1029/2005GL023424)).\n",
    "\n",
    "Nota: Este cuaderno fue adaptado de https://personalpages.manchester.ac.uk/staff/stefan.guettel/py/10a-data_analysis-2020.pdf\n"
   ]
  }
 ],
 "metadata": {
  "kernelspec": {
   "display_name": "Python 3",
   "language": "python",
   "name": "python3"
  },
  "language_info": {
   "codemirror_mode": {
    "name": "ipython",
    "version": 3
   },
   "file_extension": ".py",
   "mimetype": "text/x-python",
   "name": "python",
   "nbconvert_exporter": "python",
   "pygments_lexer": "ipython3",
   "version": "3.7.3"
  }
 },
 "nbformat": 4,
 "nbformat_minor": 4
}
