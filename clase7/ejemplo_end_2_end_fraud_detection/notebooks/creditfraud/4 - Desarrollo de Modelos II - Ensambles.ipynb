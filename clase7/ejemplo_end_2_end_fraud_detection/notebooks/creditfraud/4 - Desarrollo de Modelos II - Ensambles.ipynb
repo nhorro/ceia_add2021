{
 "cells": [
  {
   "cell_type": "markdown",
   "metadata": {},
   "source": [
    "# 4. Desarrollo de modelos II. Ensambles.\n",
    "\n",
    "Este cuaderno intentará mejorar los resultados del cuaderno anterior utilizando distintas formas de combinarlos. A esto se denomina 'Ensambles'. \n",
    "El procedimiento está organizado en las siguientes secciones (las primeras son casi idénticas al cuaderno anterior, con diferencias menores de uso de API de SKLearn para cálculo de métricas):\n",
    "\n",
    "1. Carga de dataset con distintos preprocesamientos.\n",
    "2. Desarrollo y entrenamiento de modelos de ensamble utilizando los modelos desarrollados en el cuaderno anterior con SKLearn y [ML-Ensamble](https://mlens.readthedocs.io/en/0.1.x/)\n",
    "3. Comparación de resultados y conclusiones."
   ]
  },
  {
   "cell_type": "markdown",
   "metadata": {},
   "source": [
    "## 4.1 Carga de dataset con distintos preprocesamientos"
   ]
  },
  {
   "cell_type": "markdown",
   "metadata": {},
   "source": [
    "En el cuaderno anterior se generaron los siguientes archivos CSV:\n",
    "- **creditcard_train.csv**: partición de dataset original para entrenamiento con modificación de columnas (row_id y tiempo).\n",
    "- **creditcard_test.csv**: partición de dataset original para evaluación con modificación de columnas (row_id y tiempo).\n",
    "- **creditcard_downsampled.csv**: dataset balanceado por método de undersampling.\n",
    "- **creditcard_train_oversampled_adasyn.csv**: partición de entrenamiento balanceado por upsampling (ADASYN).\n",
    "- **creditcard_train_oversampled_smote.csv**: partición de entrenamiento balanceado por upsampling (SMOTE).\n",
    "- **creditcard_train_oversampled_blsmote.csv**: partición de entrenamiento balanceado por upsampling (Borderline SMOTE).\n",
    "\n",
    "En esta sección se los carga y particiona para poder utilizarlos en el entrenamiento de modelos."
   ]
  },
  {
   "cell_type": "code",
   "execution_count": 1,
   "metadata": {},
   "outputs": [],
   "source": [
    "TMP_PATH = \"./tmp/\" # Path temporal usado para imágenes generadas, archivos intermedios, etc.\n",
    "MODELS_PATH = \"/models/\""
   ]
  },
  {
   "cell_type": "code",
   "execution_count": 2,
   "metadata": {},
   "outputs": [],
   "source": [
    "import pandas as pd\n",
    "import numpy as np\n",
    "import joblib\n",
    "import json\n",
    "import matplotlib.pyplot as plt"
   ]
  },
  {
   "cell_type": "code",
   "execution_count": 3,
   "metadata": {},
   "outputs": [],
   "source": [
    "DATASET_PATH = '/data/credit_fraud/'"
   ]
  },
  {
   "cell_type": "markdown",
   "metadata": {},
   "source": [
    "Se utilizará un diccionario para facilitar la selección de un dataset durante la configuración de los entrenamientos ."
   ]
  },
  {
   "cell_type": "code",
   "execution_count": 4,
   "metadata": {},
   "outputs": [],
   "source": [
    "train_ds_dict = {\n",
    "    \"downsampled\": pd.read_csv(DATASET_PATH+\"creditcard_downsampled.csv\"),\n",
    "    \"os_adasyn\": pd.read_csv(DATASET_PATH+\"creditcard_train_oversampled_adasyn.csv\"),\n",
    "    \"os_blsmote\": pd.read_csv(DATASET_PATH+\"creditcard_train_oversampled_blsmote.csv\"),\n",
    "    \"os_smote\": pd.read_csv(DATASET_PATH+\"creditcard_train_oversampled_smote.csv\")\n",
    "}"
   ]
  },
  {
   "cell_type": "markdown",
   "metadata": {},
   "source": [
    "Dataset de evaluación."
   ]
  },
  {
   "cell_type": "code",
   "execution_count": 5,
   "metadata": {},
   "outputs": [],
   "source": [
    "test_df = pd.read_csv(DATASET_PATH+\"creditcard_test.csv\")"
   ]
  },
  {
   "cell_type": "markdown",
   "metadata": {},
   "source": [
    "Selección de columnas de features."
   ]
  },
  {
   "cell_type": "code",
   "execution_count": 6,
   "metadata": {
    "scrolled": true
   },
   "outputs": [
    {
     "data": {
      "text/plain": [
       "['v1',\n",
       " 'v2',\n",
       " 'v3',\n",
       " 'v4',\n",
       " 'v5',\n",
       " 'v6',\n",
       " 'v7',\n",
       " 'v8',\n",
       " 'v9',\n",
       " 'v10',\n",
       " 'v11',\n",
       " 'v12',\n",
       " 'v13',\n",
       " 'v14',\n",
       " 'v15',\n",
       " 'v16',\n",
       " 'v17',\n",
       " 'v18',\n",
       " 'v19',\n",
       " 'v20',\n",
       " 'v21',\n",
       " 'v22',\n",
       " 'v23',\n",
       " 'v24',\n",
       " 'v25',\n",
       " 'v26',\n",
       " 'v27',\n",
       " 'v28',\n",
       " 'amount']"
      ]
     },
     "execution_count": 6,
     "metadata": {},
     "output_type": "execute_result"
    }
   ],
   "source": [
    "non_feature_cols = ['Unnamed: 0','time','row_id','class']\n",
    "feature_cols = [x for x in test_df.columns if x not in non_feature_cols]\n",
    "feature_cols"
   ]
  },
  {
   "cell_type": "markdown",
   "metadata": {},
   "source": [
    "Para los datos a los cuáles se ha aplicado undersampling es necesario particionar en train y split. Como el undersampling se hizo eliminando muestras de la clase mayoritaria, en este caso los datos ya están balanceados y se puede aplicar cualquier métrica sobre el test set."
   ]
  },
  {
   "cell_type": "code",
   "execution_count": 7,
   "metadata": {},
   "outputs": [],
   "source": [
    "from sklearn.model_selection import train_test_split\n",
    "\n",
    "TEST_SIZE = 0.3\n",
    "\n",
    "X_train_downsampled,X_test_downsampled,y_train_downsampled,y_test_downsampled = train_test_split(\n",
    "    train_ds_dict['downsampled'][feature_cols],\n",
    "    train_ds_dict['downsampled']['class'],\n",
    "    test_size=TEST_SIZE, random_state=42)"
   ]
  },
  {
   "cell_type": "code",
   "execution_count": 8,
   "metadata": {},
   "outputs": [
    {
     "data": {
      "text/html": [
       "<div>\n",
       "<style scoped>\n",
       "    .dataframe tbody tr th:only-of-type {\n",
       "        vertical-align: middle;\n",
       "    }\n",
       "\n",
       "    .dataframe tbody tr th {\n",
       "        vertical-align: top;\n",
       "    }\n",
       "\n",
       "    .dataframe thead th {\n",
       "        text-align: right;\n",
       "    }\n",
       "</style>\n",
       "<table border=\"1\" class=\"dataframe\">\n",
       "  <thead>\n",
       "    <tr style=\"text-align: right;\">\n",
       "      <th></th>\n",
       "      <th>v1</th>\n",
       "      <th>v2</th>\n",
       "      <th>v3</th>\n",
       "      <th>v4</th>\n",
       "      <th>v5</th>\n",
       "      <th>v6</th>\n",
       "      <th>v7</th>\n",
       "      <th>v8</th>\n",
       "      <th>v9</th>\n",
       "      <th>v10</th>\n",
       "      <th>...</th>\n",
       "      <th>v20</th>\n",
       "      <th>v21</th>\n",
       "      <th>v22</th>\n",
       "      <th>v23</th>\n",
       "      <th>v24</th>\n",
       "      <th>v25</th>\n",
       "      <th>v26</th>\n",
       "      <th>v27</th>\n",
       "      <th>v28</th>\n",
       "      <th>amount</th>\n",
       "    </tr>\n",
       "  </thead>\n",
       "  <tbody>\n",
       "    <tr>\n",
       "      <th>398</th>\n",
       "      <td>-0.112195</td>\n",
       "      <td>0.401013</td>\n",
       "      <td>-1.368654</td>\n",
       "      <td>1.325461</td>\n",
       "      <td>1.812514</td>\n",
       "      <td>-1.655252</td>\n",
       "      <td>1.887604</td>\n",
       "      <td>-0.971989</td>\n",
       "      <td>1.356304</td>\n",
       "      <td>0.874950</td>\n",
       "      <td>...</td>\n",
       "      <td>-0.038966</td>\n",
       "      <td>0.164669</td>\n",
       "      <td>1.618395</td>\n",
       "      <td>0.465093</td>\n",
       "      <td>-0.081923</td>\n",
       "      <td>-1.065862</td>\n",
       "      <td>-0.418760</td>\n",
       "      <td>0.439829</td>\n",
       "      <td>-0.040883</td>\n",
       "      <td>45.00</td>\n",
       "    </tr>\n",
       "    <tr>\n",
       "      <th>523</th>\n",
       "      <td>-4.727713</td>\n",
       "      <td>3.044469</td>\n",
       "      <td>-5.598354</td>\n",
       "      <td>5.928191</td>\n",
       "      <td>-2.190770</td>\n",
       "      <td>-1.529323</td>\n",
       "      <td>-4.487422</td>\n",
       "      <td>0.916392</td>\n",
       "      <td>-1.307010</td>\n",
       "      <td>-4.138891</td>\n",
       "      <td>...</td>\n",
       "      <td>-0.207759</td>\n",
       "      <td>0.650988</td>\n",
       "      <td>0.254983</td>\n",
       "      <td>0.628843</td>\n",
       "      <td>-0.238128</td>\n",
       "      <td>-0.671332</td>\n",
       "      <td>-0.033590</td>\n",
       "      <td>-1.331777</td>\n",
       "      <td>0.705698</td>\n",
       "      <td>30.39</td>\n",
       "    </tr>\n",
       "    <tr>\n",
       "      <th>809</th>\n",
       "      <td>-26.457745</td>\n",
       "      <td>16.497472</td>\n",
       "      <td>-30.177317</td>\n",
       "      <td>8.904157</td>\n",
       "      <td>-17.892600</td>\n",
       "      <td>-1.227904</td>\n",
       "      <td>-31.197329</td>\n",
       "      <td>-11.438920</td>\n",
       "      <td>-9.462573</td>\n",
       "      <td>-22.187089</td>\n",
       "      <td>...</td>\n",
       "      <td>2.812241</td>\n",
       "      <td>-8.755698</td>\n",
       "      <td>3.460893</td>\n",
       "      <td>0.896538</td>\n",
       "      <td>0.254836</td>\n",
       "      <td>-0.738097</td>\n",
       "      <td>-0.966564</td>\n",
       "      <td>-7.263482</td>\n",
       "      <td>-1.324884</td>\n",
       "      <td>1.00</td>\n",
       "    </tr>\n",
       "  </tbody>\n",
       "</table>\n",
       "<p>3 rows × 29 columns</p>\n",
       "</div>"
      ],
      "text/plain": [
       "            v1         v2         v3        v4         v5        v6  \\\n",
       "398  -0.112195   0.401013  -1.368654  1.325461   1.812514 -1.655252   \n",
       "523  -4.727713   3.044469  -5.598354  5.928191  -2.190770 -1.529323   \n",
       "809 -26.457745  16.497472 -30.177317  8.904157 -17.892600 -1.227904   \n",
       "\n",
       "            v7         v8        v9        v10  ...       v20       v21  \\\n",
       "398   1.887604  -0.971989  1.356304   0.874950  ... -0.038966  0.164669   \n",
       "523  -4.487422   0.916392 -1.307010  -4.138891  ... -0.207759  0.650988   \n",
       "809 -31.197329 -11.438920 -9.462573 -22.187089  ...  2.812241 -8.755698   \n",
       "\n",
       "          v22       v23       v24       v25       v26       v27       v28  \\\n",
       "398  1.618395  0.465093 -0.081923 -1.065862 -0.418760  0.439829 -0.040883   \n",
       "523  0.254983  0.628843 -0.238128 -0.671332 -0.033590 -1.331777  0.705698   \n",
       "809  3.460893  0.896538  0.254836 -0.738097 -0.966564 -7.263482 -1.324884   \n",
       "\n",
       "     amount  \n",
       "398   45.00  \n",
       "523   30.39  \n",
       "809    1.00  \n",
       "\n",
       "[3 rows x 29 columns]"
      ]
     },
     "execution_count": 8,
     "metadata": {},
     "output_type": "execute_result"
    }
   ],
   "source": [
    "X_train_downsampled.head(3)"
   ]
  },
  {
   "cell_type": "code",
   "execution_count": 9,
   "metadata": {},
   "outputs": [
    {
     "data": {
      "text/html": [
       "<div>\n",
       "<style scoped>\n",
       "    .dataframe tbody tr th:only-of-type {\n",
       "        vertical-align: middle;\n",
       "    }\n",
       "\n",
       "    .dataframe tbody tr th {\n",
       "        vertical-align: top;\n",
       "    }\n",
       "\n",
       "    .dataframe thead th {\n",
       "        text-align: right;\n",
       "    }\n",
       "</style>\n",
       "<table border=\"1\" class=\"dataframe\">\n",
       "  <thead>\n",
       "    <tr style=\"text-align: right;\">\n",
       "      <th></th>\n",
       "      <th>v1</th>\n",
       "      <th>v2</th>\n",
       "      <th>v3</th>\n",
       "      <th>v4</th>\n",
       "      <th>v5</th>\n",
       "      <th>v6</th>\n",
       "      <th>v7</th>\n",
       "      <th>v8</th>\n",
       "      <th>v9</th>\n",
       "      <th>v10</th>\n",
       "      <th>...</th>\n",
       "      <th>v20</th>\n",
       "      <th>v21</th>\n",
       "      <th>v22</th>\n",
       "      <th>v23</th>\n",
       "      <th>v24</th>\n",
       "      <th>v25</th>\n",
       "      <th>v26</th>\n",
       "      <th>v27</th>\n",
       "      <th>v28</th>\n",
       "      <th>amount</th>\n",
       "    </tr>\n",
       "  </thead>\n",
       "  <tbody>\n",
       "    <tr>\n",
       "      <th>613</th>\n",
       "      <td>-10.645800</td>\n",
       "      <td>5.918307</td>\n",
       "      <td>-11.671043</td>\n",
       "      <td>8.807369</td>\n",
       "      <td>-7.975501</td>\n",
       "      <td>-3.586806</td>\n",
       "      <td>-13.616797</td>\n",
       "      <td>6.428169</td>\n",
       "      <td>-7.368451</td>\n",
       "      <td>-12.888158</td>\n",
       "      <td>...</td>\n",
       "      <td>-0.046170</td>\n",
       "      <td>2.571970</td>\n",
       "      <td>0.206809</td>\n",
       "      <td>-1.667801</td>\n",
       "      <td>0.558419</td>\n",
       "      <td>-0.027898</td>\n",
       "      <td>0.354254</td>\n",
       "      <td>0.273329</td>\n",
       "      <td>-0.152908</td>\n",
       "      <td>0.00</td>\n",
       "    </tr>\n",
       "    <tr>\n",
       "      <th>451</th>\n",
       "      <td>-2.218541</td>\n",
       "      <td>1.211222</td>\n",
       "      <td>-0.326345</td>\n",
       "      <td>0.763670</td>\n",
       "      <td>-0.741354</td>\n",
       "      <td>1.914052</td>\n",
       "      <td>0.943716</td>\n",
       "      <td>-5.294108</td>\n",
       "      <td>1.432909</td>\n",
       "      <td>2.441081</td>\n",
       "      <td>...</td>\n",
       "      <td>-1.347714</td>\n",
       "      <td>2.981848</td>\n",
       "      <td>-1.551763</td>\n",
       "      <td>0.922801</td>\n",
       "      <td>0.722661</td>\n",
       "      <td>-1.848255</td>\n",
       "      <td>-0.816578</td>\n",
       "      <td>-0.757258</td>\n",
       "      <td>-1.143818</td>\n",
       "      <td>282.98</td>\n",
       "    </tr>\n",
       "    <tr>\n",
       "      <th>731</th>\n",
       "      <td>-4.198735</td>\n",
       "      <td>0.194121</td>\n",
       "      <td>-3.917586</td>\n",
       "      <td>3.920748</td>\n",
       "      <td>-1.875486</td>\n",
       "      <td>-2.118933</td>\n",
       "      <td>-3.614445</td>\n",
       "      <td>1.687884</td>\n",
       "      <td>-2.189871</td>\n",
       "      <td>-4.684233</td>\n",
       "      <td>...</td>\n",
       "      <td>1.003350</td>\n",
       "      <td>0.801312</td>\n",
       "      <td>-0.183001</td>\n",
       "      <td>-0.440387</td>\n",
       "      <td>0.292539</td>\n",
       "      <td>-0.144967</td>\n",
       "      <td>-0.251744</td>\n",
       "      <td>1.249414</td>\n",
       "      <td>-0.131525</td>\n",
       "      <td>238.90</td>\n",
       "    </tr>\n",
       "  </tbody>\n",
       "</table>\n",
       "<p>3 rows × 29 columns</p>\n",
       "</div>"
      ],
      "text/plain": [
       "            v1        v2         v3        v4        v5        v6         v7  \\\n",
       "613 -10.645800  5.918307 -11.671043  8.807369 -7.975501 -3.586806 -13.616797   \n",
       "451  -2.218541  1.211222  -0.326345  0.763670 -0.741354  1.914052   0.943716   \n",
       "731  -4.198735  0.194121  -3.917586  3.920748 -1.875486 -2.118933  -3.614445   \n",
       "\n",
       "           v8        v9        v10  ...       v20       v21       v22  \\\n",
       "613  6.428169 -7.368451 -12.888158  ... -0.046170  2.571970  0.206809   \n",
       "451 -5.294108  1.432909   2.441081  ... -1.347714  2.981848 -1.551763   \n",
       "731  1.687884 -2.189871  -4.684233  ...  1.003350  0.801312 -0.183001   \n",
       "\n",
       "          v23       v24       v25       v26       v27       v28  amount  \n",
       "613 -1.667801  0.558419 -0.027898  0.354254  0.273329 -0.152908    0.00  \n",
       "451  0.922801  0.722661 -1.848255 -0.816578 -0.757258 -1.143818  282.98  \n",
       "731 -0.440387  0.292539 -0.144967 -0.251744  1.249414 -0.131525  238.90  \n",
       "\n",
       "[3 rows x 29 columns]"
      ]
     },
     "execution_count": 9,
     "metadata": {},
     "output_type": "execute_result"
    }
   ],
   "source": [
    "X_test_downsampled.head(3)"
   ]
  },
  {
   "cell_type": "code",
   "execution_count": 10,
   "metadata": {},
   "outputs": [
    {
     "data": {
      "text/plain": [
       "(1    346\n",
       " 0    342\n",
       " Name: class, dtype: int64,\n",
       " 0    150\n",
       " 1    146\n",
       " Name: class, dtype: int64)"
      ]
     },
     "execution_count": 10,
     "metadata": {},
     "output_type": "execute_result"
    }
   ],
   "source": [
    "y_train_downsampled.value_counts(),y_test_downsampled.value_counts()"
   ]
  },
  {
   "cell_type": "markdown",
   "metadata": {},
   "source": [
    "Para los datos con oversampling no es necesario realizar esta partición pues ya se ha hecho previamente (y sólo se han incorporado muestras a la partición de train). No obstante, los datos del test no han sido balanceados, por lo tanto deben balancearse o seleccionar una métrica apropiada."
   ]
  },
  {
   "cell_type": "code",
   "execution_count": 11,
   "metadata": {},
   "outputs": [],
   "source": [
    "def choose_dataset(resampling_strategy):\n",
    "    if resampling_strategy == 'undersampling':        \n",
    "        X_train = X_train_downsampled\n",
    "        y_train = y_train_downsampled\n",
    "        X_test = X_test_downsampled        \n",
    "        y_test = y_test_downsampled        \n",
    "    else:\n",
    "        X_train = train_ds_dict[resampling_strategy][feature_cols]\n",
    "        y_train = train_ds_dict[resampling_strategy]['class']\n",
    "        X_test = test_df[feature_cols]\n",
    "        y_test = test_df['class']\n",
    "    return X_train, y_train, X_test, y_test\n",
    "\n",
    "# Ejemplo:\n",
    "X_train, y_train, X_test, y_test= choose_dataset('undersampling') # args['resampling_strategy']"
   ]
  },
  {
   "cell_type": "markdown",
   "metadata": {},
   "source": [
    "## 4.2 Entrenamiento de modelos\n",
    "\n",
    "En esta sección se procederá a entrenar modelos de ensamble a partir de los modelos desarrollados en el cuaderno anterior.\n",
    "\n",
    "### 4.2.1 Carga de modelos desarrollados anteriormente"
   ]
  },
  {
   "cell_type": "markdown",
   "metadata": {},
   "source": [
    "Se cargarán los modelos desarrollados en el cuaderno anterior."
   ]
  },
  {
   "cell_type": "code",
   "execution_count": 12,
   "metadata": {},
   "outputs": [
    {
     "data": {
      "text/html": [
       "<div>\n",
       "<style scoped>\n",
       "    .dataframe tbody tr th:only-of-type {\n",
       "        vertical-align: middle;\n",
       "    }\n",
       "\n",
       "    .dataframe tbody tr th {\n",
       "        vertical-align: top;\n",
       "    }\n",
       "\n",
       "    .dataframe thead th {\n",
       "        text-align: right;\n",
       "    }\n",
       "</style>\n",
       "<table border=\"1\" class=\"dataframe\">\n",
       "  <thead>\n",
       "    <tr style=\"text-align: right;\">\n",
       "      <th></th>\n",
       "      <th>accuracy</th>\n",
       "      <th>precision</th>\n",
       "      <th>recall</th>\n",
       "      <th>auc</th>\n",
       "      <th>f1-score</th>\n",
       "      <th>description</th>\n",
       "    </tr>\n",
       "    <tr>\n",
       "      <th>name</th>\n",
       "      <th></th>\n",
       "      <th></th>\n",
       "      <th></th>\n",
       "      <th></th>\n",
       "      <th></th>\n",
       "      <th></th>\n",
       "    </tr>\n",
       "  </thead>\n",
       "  <tbody>\n",
       "    <tr>\n",
       "      <th>base</th>\n",
       "      <td>0.493243</td>\n",
       "      <td>0.493243</td>\n",
       "      <td>1.000000</td>\n",
       "      <td>0.500000</td>\n",
       "      <td>0.660633</td>\n",
       "      <td>Modelo base</td>\n",
       "    </tr>\n",
       "    <tr>\n",
       "      <th>DecisionTree</th>\n",
       "      <td>0.902027</td>\n",
       "      <td>0.887417</td>\n",
       "      <td>0.917808</td>\n",
       "      <td>0.965845</td>\n",
       "      <td>0.902357</td>\n",
       "      <td>DecisionTree</td>\n",
       "    </tr>\n",
       "    <tr>\n",
       "      <th>RandomForest</th>\n",
       "      <td>0.925676</td>\n",
       "      <td>0.969697</td>\n",
       "      <td>0.876712</td>\n",
       "      <td>0.976438</td>\n",
       "      <td>0.920863</td>\n",
       "      <td>RandomForest</td>\n",
       "    </tr>\n",
       "    <tr>\n",
       "      <th>LogisticRegression</th>\n",
       "      <td>0.908784</td>\n",
       "      <td>0.921986</td>\n",
       "      <td>0.890411</td>\n",
       "      <td>0.964087</td>\n",
       "      <td>0.905923</td>\n",
       "      <td>LogisticRegression</td>\n",
       "    </tr>\n",
       "    <tr>\n",
       "      <th>SVM</th>\n",
       "      <td>0.922297</td>\n",
       "      <td>0.976744</td>\n",
       "      <td>0.863014</td>\n",
       "      <td>0.973333</td>\n",
       "      <td>0.916364</td>\n",
       "      <td>SVM</td>\n",
       "    </tr>\n",
       "    <tr>\n",
       "      <th>MLP</th>\n",
       "      <td>0.905405</td>\n",
       "      <td>0.909722</td>\n",
       "      <td>0.897260</td>\n",
       "      <td>0.976210</td>\n",
       "      <td>0.903448</td>\n",
       "      <td>MLP</td>\n",
       "    </tr>\n",
       "    <tr>\n",
       "      <th>xgboost</th>\n",
       "      <td>0.925676</td>\n",
       "      <td>0.992063</td>\n",
       "      <td>0.856164</td>\n",
       "      <td>0.979452</td>\n",
       "      <td>0.919118</td>\n",
       "      <td>xgboost</td>\n",
       "    </tr>\n",
       "    <tr>\n",
       "      <th>NearestNeighbors</th>\n",
       "      <td>0.905405</td>\n",
       "      <td>0.953846</td>\n",
       "      <td>0.849315</td>\n",
       "      <td>0.961187</td>\n",
       "      <td>0.898551</td>\n",
       "      <td>NearestNeighbors</td>\n",
       "    </tr>\n",
       "  </tbody>\n",
       "</table>\n",
       "</div>"
      ],
      "text/plain": [
       "                    accuracy  precision    recall       auc  f1-score  \\\n",
       "name                                                                    \n",
       "base                0.493243   0.493243  1.000000  0.500000  0.660633   \n",
       "DecisionTree        0.902027   0.887417  0.917808  0.965845  0.902357   \n",
       "RandomForest        0.925676   0.969697  0.876712  0.976438  0.920863   \n",
       "LogisticRegression  0.908784   0.921986  0.890411  0.964087  0.905923   \n",
       "SVM                 0.922297   0.976744  0.863014  0.973333  0.916364   \n",
       "MLP                 0.905405   0.909722  0.897260  0.976210  0.903448   \n",
       "xgboost             0.925676   0.992063  0.856164  0.979452  0.919118   \n",
       "NearestNeighbors    0.905405   0.953846  0.849315  0.961187  0.898551   \n",
       "\n",
       "                           description  \n",
       "name                                    \n",
       "base                       Modelo base  \n",
       "DecisionTree              DecisionTree  \n",
       "RandomForest              RandomForest  \n",
       "LogisticRegression  LogisticRegression  \n",
       "SVM                                SVM  \n",
       "MLP                                MLP  \n",
       "xgboost                        xgboost  \n",
       "NearestNeighbors      NearestNeighbors  "
      ]
     },
     "execution_count": 12,
     "metadata": {},
     "output_type": "execute_result"
    }
   ],
   "source": [
    "df_models = pd.read_csv(MODELS_PATH+\"model_summary.csv\",skiprows=1, names=[\n",
    "    \"name\", \"accuracy\", \"precision\", \"recall\", \"auc\", \"f1-score\", \"description\"\n",
    "]).set_index('name')\n",
    "df_models"
   ]
  },
  {
   "cell_type": "markdown",
   "metadata": {},
   "source": [
    "Como el modelo baseline no es de interés para los ensambles, se descartará."
   ]
  },
  {
   "cell_type": "code",
   "execution_count": 13,
   "metadata": {},
   "outputs": [
    {
     "data": {
      "text/html": [
       "<div>\n",
       "<style scoped>\n",
       "    .dataframe tbody tr th:only-of-type {\n",
       "        vertical-align: middle;\n",
       "    }\n",
       "\n",
       "    .dataframe tbody tr th {\n",
       "        vertical-align: top;\n",
       "    }\n",
       "\n",
       "    .dataframe thead th {\n",
       "        text-align: right;\n",
       "    }\n",
       "</style>\n",
       "<table border=\"1\" class=\"dataframe\">\n",
       "  <thead>\n",
       "    <tr style=\"text-align: right;\">\n",
       "      <th></th>\n",
       "      <th>accuracy</th>\n",
       "      <th>precision</th>\n",
       "      <th>recall</th>\n",
       "      <th>auc</th>\n",
       "      <th>f1-score</th>\n",
       "      <th>description</th>\n",
       "    </tr>\n",
       "    <tr>\n",
       "      <th>name</th>\n",
       "      <th></th>\n",
       "      <th></th>\n",
       "      <th></th>\n",
       "      <th></th>\n",
       "      <th></th>\n",
       "      <th></th>\n",
       "    </tr>\n",
       "  </thead>\n",
       "  <tbody>\n",
       "    <tr>\n",
       "      <th>DecisionTree</th>\n",
       "      <td>0.902027</td>\n",
       "      <td>0.887417</td>\n",
       "      <td>0.917808</td>\n",
       "      <td>0.965845</td>\n",
       "      <td>0.902357</td>\n",
       "      <td>DecisionTree</td>\n",
       "    </tr>\n",
       "    <tr>\n",
       "      <th>RandomForest</th>\n",
       "      <td>0.925676</td>\n",
       "      <td>0.969697</td>\n",
       "      <td>0.876712</td>\n",
       "      <td>0.976438</td>\n",
       "      <td>0.920863</td>\n",
       "      <td>RandomForest</td>\n",
       "    </tr>\n",
       "    <tr>\n",
       "      <th>LogisticRegression</th>\n",
       "      <td>0.908784</td>\n",
       "      <td>0.921986</td>\n",
       "      <td>0.890411</td>\n",
       "      <td>0.964087</td>\n",
       "      <td>0.905923</td>\n",
       "      <td>LogisticRegression</td>\n",
       "    </tr>\n",
       "    <tr>\n",
       "      <th>SVM</th>\n",
       "      <td>0.922297</td>\n",
       "      <td>0.976744</td>\n",
       "      <td>0.863014</td>\n",
       "      <td>0.973333</td>\n",
       "      <td>0.916364</td>\n",
       "      <td>SVM</td>\n",
       "    </tr>\n",
       "    <tr>\n",
       "      <th>MLP</th>\n",
       "      <td>0.905405</td>\n",
       "      <td>0.909722</td>\n",
       "      <td>0.897260</td>\n",
       "      <td>0.976210</td>\n",
       "      <td>0.903448</td>\n",
       "      <td>MLP</td>\n",
       "    </tr>\n",
       "    <tr>\n",
       "      <th>xgboost</th>\n",
       "      <td>0.925676</td>\n",
       "      <td>0.992063</td>\n",
       "      <td>0.856164</td>\n",
       "      <td>0.979452</td>\n",
       "      <td>0.919118</td>\n",
       "      <td>xgboost</td>\n",
       "    </tr>\n",
       "    <tr>\n",
       "      <th>NearestNeighbors</th>\n",
       "      <td>0.905405</td>\n",
       "      <td>0.953846</td>\n",
       "      <td>0.849315</td>\n",
       "      <td>0.961187</td>\n",
       "      <td>0.898551</td>\n",
       "      <td>NearestNeighbors</td>\n",
       "    </tr>\n",
       "  </tbody>\n",
       "</table>\n",
       "</div>"
      ],
      "text/plain": [
       "                    accuracy  precision    recall       auc  f1-score  \\\n",
       "name                                                                    \n",
       "DecisionTree        0.902027   0.887417  0.917808  0.965845  0.902357   \n",
       "RandomForest        0.925676   0.969697  0.876712  0.976438  0.920863   \n",
       "LogisticRegression  0.908784   0.921986  0.890411  0.964087  0.905923   \n",
       "SVM                 0.922297   0.976744  0.863014  0.973333  0.916364   \n",
       "MLP                 0.905405   0.909722  0.897260  0.976210  0.903448   \n",
       "xgboost             0.925676   0.992063  0.856164  0.979452  0.919118   \n",
       "NearestNeighbors    0.905405   0.953846  0.849315  0.961187  0.898551   \n",
       "\n",
       "                           description  \n",
       "name                                    \n",
       "DecisionTree              DecisionTree  \n",
       "RandomForest              RandomForest  \n",
       "LogisticRegression  LogisticRegression  \n",
       "SVM                                SVM  \n",
       "MLP                                MLP  \n",
       "xgboost                        xgboost  \n",
       "NearestNeighbors      NearestNeighbors  "
      ]
     },
     "execution_count": 13,
     "metadata": {},
     "output_type": "execute_result"
    }
   ],
   "source": [
    "df_models.drop('base',inplace=True)\n",
    "df_models"
   ]
  },
  {
   "cell_type": "code",
   "execution_count": 14,
   "metadata": {},
   "outputs": [
    {
     "data": {
      "text/html": [
       "<div>\n",
       "<style scoped>\n",
       "    .dataframe tbody tr th:only-of-type {\n",
       "        vertical-align: middle;\n",
       "    }\n",
       "\n",
       "    .dataframe tbody tr th {\n",
       "        vertical-align: top;\n",
       "    }\n",
       "\n",
       "    .dataframe thead th {\n",
       "        text-align: right;\n",
       "    }\n",
       "</style>\n",
       "<table border=\"1\" class=\"dataframe\">\n",
       "  <thead>\n",
       "    <tr style=\"text-align: right;\">\n",
       "      <th></th>\n",
       "      <th>accuracy</th>\n",
       "      <th>precision</th>\n",
       "      <th>recall</th>\n",
       "      <th>auc</th>\n",
       "      <th>f1-score</th>\n",
       "      <th>description</th>\n",
       "      <th>model</th>\n",
       "      <th>model_params</th>\n",
       "    </tr>\n",
       "    <tr>\n",
       "      <th>name</th>\n",
       "      <th></th>\n",
       "      <th></th>\n",
       "      <th></th>\n",
       "      <th></th>\n",
       "      <th></th>\n",
       "      <th></th>\n",
       "      <th></th>\n",
       "      <th></th>\n",
       "    </tr>\n",
       "  </thead>\n",
       "  <tbody>\n",
       "    <tr>\n",
       "      <th>xgboost</th>\n",
       "      <td>0.925676</td>\n",
       "      <td>0.992063</td>\n",
       "      <td>0.856164</td>\n",
       "      <td>0.979452</td>\n",
       "      <td>0.919118</td>\n",
       "      <td>xgboost</td>\n",
       "      <td>XGBClassifier(base_score=0.5, booster='gbtree'...</td>\n",
       "      <td>{'boosting': 'gblinear', 'tree_method': 'appro...</td>\n",
       "    </tr>\n",
       "    <tr>\n",
       "      <th>RandomForest</th>\n",
       "      <td>0.925676</td>\n",
       "      <td>0.969697</td>\n",
       "      <td>0.876712</td>\n",
       "      <td>0.976438</td>\n",
       "      <td>0.920863</td>\n",
       "      <td>RandomForest</td>\n",
       "      <td>(DecisionTreeClassifier(max_features='auto', m...</td>\n",
       "      <td>{'min_samples_leaf': 13, 'min_samples_split': ...</td>\n",
       "    </tr>\n",
       "    <tr>\n",
       "      <th>MLP</th>\n",
       "      <td>0.905405</td>\n",
       "      <td>0.909722</td>\n",
       "      <td>0.897260</td>\n",
       "      <td>0.976210</td>\n",
       "      <td>0.903448</td>\n",
       "      <td>MLP</td>\n",
       "      <td>MLPClassifier(alpha=3.8925818075083096e-05,\\n ...</td>\n",
       "      <td>{'solver': 'lbfgs', 'n_layers': 5, 'learning_r...</td>\n",
       "    </tr>\n",
       "    <tr>\n",
       "      <th>SVM</th>\n",
       "      <td>0.922297</td>\n",
       "      <td>0.976744</td>\n",
       "      <td>0.863014</td>\n",
       "      <td>0.973333</td>\n",
       "      <td>0.916364</td>\n",
       "      <td>SVM</td>\n",
       "      <td>SVC(C=17.48365748417831, max_iter=1000, probab...</td>\n",
       "      <td>{'C': 17.48365748417831, 'kernel': 'rbf', 'gam...</td>\n",
       "    </tr>\n",
       "    <tr>\n",
       "      <th>DecisionTree</th>\n",
       "      <td>0.902027</td>\n",
       "      <td>0.887417</td>\n",
       "      <td>0.917808</td>\n",
       "      <td>0.965845</td>\n",
       "      <td>0.902357</td>\n",
       "      <td>DecisionTree</td>\n",
       "      <td>DecisionTreeClassifier(max_depth=22, min_sampl...</td>\n",
       "      <td>{'criterion': 'gini', 'max_depth': 22, 'min_sa...</td>\n",
       "    </tr>\n",
       "    <tr>\n",
       "      <th>LogisticRegression</th>\n",
       "      <td>0.908784</td>\n",
       "      <td>0.921986</td>\n",
       "      <td>0.890411</td>\n",
       "      <td>0.964087</td>\n",
       "      <td>0.905923</td>\n",
       "      <td>LogisticRegression</td>\n",
       "      <td>LogisticRegression(max_iter=1659, penalty='non...</td>\n",
       "      <td>{'solver': 'newton-cg', 'n_layers': 1659, 'pen...</td>\n",
       "    </tr>\n",
       "    <tr>\n",
       "      <th>NearestNeighbors</th>\n",
       "      <td>0.905405</td>\n",
       "      <td>0.953846</td>\n",
       "      <td>0.849315</td>\n",
       "      <td>0.961187</td>\n",
       "      <td>0.898551</td>\n",
       "      <td>NearestNeighbors</td>\n",
       "      <td>KNeighborsClassifier(algorithm='kd_tree', leaf...</td>\n",
       "      <td>{'n_neighbors': 10, 'weights': 'distance', 'al...</td>\n",
       "    </tr>\n",
       "  </tbody>\n",
       "</table>\n",
       "</div>"
      ],
      "text/plain": [
       "                    accuracy  precision    recall       auc  f1-score  \\\n",
       "name                                                                    \n",
       "xgboost             0.925676   0.992063  0.856164  0.979452  0.919118   \n",
       "RandomForest        0.925676   0.969697  0.876712  0.976438  0.920863   \n",
       "MLP                 0.905405   0.909722  0.897260  0.976210  0.903448   \n",
       "SVM                 0.922297   0.976744  0.863014  0.973333  0.916364   \n",
       "DecisionTree        0.902027   0.887417  0.917808  0.965845  0.902357   \n",
       "LogisticRegression  0.908784   0.921986  0.890411  0.964087  0.905923   \n",
       "NearestNeighbors    0.905405   0.953846  0.849315  0.961187  0.898551   \n",
       "\n",
       "                           description  \\\n",
       "name                                     \n",
       "xgboost                        xgboost   \n",
       "RandomForest              RandomForest   \n",
       "MLP                                MLP   \n",
       "SVM                                SVM   \n",
       "DecisionTree              DecisionTree   \n",
       "LogisticRegression  LogisticRegression   \n",
       "NearestNeighbors      NearestNeighbors   \n",
       "\n",
       "                                                                model  \\\n",
       "name                                                                    \n",
       "xgboost             XGBClassifier(base_score=0.5, booster='gbtree'...   \n",
       "RandomForest        (DecisionTreeClassifier(max_features='auto', m...   \n",
       "MLP                 MLPClassifier(alpha=3.8925818075083096e-05,\\n ...   \n",
       "SVM                 SVC(C=17.48365748417831, max_iter=1000, probab...   \n",
       "DecisionTree        DecisionTreeClassifier(max_depth=22, min_sampl...   \n",
       "LogisticRegression  LogisticRegression(max_iter=1659, penalty='non...   \n",
       "NearestNeighbors    KNeighborsClassifier(algorithm='kd_tree', leaf...   \n",
       "\n",
       "                                                         model_params  \n",
       "name                                                                   \n",
       "xgboost             {'boosting': 'gblinear', 'tree_method': 'appro...  \n",
       "RandomForest        {'min_samples_leaf': 13, 'min_samples_split': ...  \n",
       "MLP                 {'solver': 'lbfgs', 'n_layers': 5, 'learning_r...  \n",
       "SVM                 {'C': 17.48365748417831, 'kernel': 'rbf', 'gam...  \n",
       "DecisionTree        {'criterion': 'gini', 'max_depth': 22, 'min_sa...  \n",
       "LogisticRegression  {'solver': 'newton-cg', 'n_layers': 1659, 'pen...  \n",
       "NearestNeighbors    {'n_neighbors': 10, 'weights': 'distance', 'al...  "
      ]
     },
     "execution_count": 14,
     "metadata": {},
     "output_type": "execute_result"
    }
   ],
   "source": [
    "df_models.loc[:,'model'] = df_models.loc[:,:].apply(lambda row : joblib.load(MODELS_PATH+row.name+\".pkl\"), axis = 1) \n",
    "df_models.loc[:,'model_params'] = df_models.loc[:,:].apply(lambda row : json.load(open(MODELS_PATH+row.name+\".json\")), axis = 1) \n",
    "df_models.sort_values(by=\"auc\", ascending=False)"
   ]
  },
  {
   "cell_type": "markdown",
   "metadata": {},
   "source": [
    "### 4.2.2 Criterio de evaluación\n",
    "\n",
    "Se mantiene el mismo criterio de evaluación usado anteriormente. Para todos los modelos se obtendrán métricas relevantes para la clasificación binaria:\n",
    "\n",
    "- **Accuracy**: Ratio de observaciones correctas sobre total de observaciones. $\\frac{TP+TN}{TP+FP+FN+TN}$. Dado que se ha aplicado undersampling a los datos para balancearlos, esta métrica puede usarse. De mantenerse el dataset imbalanceado esta métrica puede dar una interpretación errónea del desempeño del algoritmo.\n",
    "- **Precision**: $\\frac{TP}{TP+FP}$. Se relaciona con una baja tasa de falsos positivos.\n",
    "- **Recall**: $\\frac{TP}{TP+FN}$. Mide la cantidad de predicciones correctas para cada clase. De todos los casos de fraude, ¿cuántos fueron correctamente identificados?.\n",
    "- **Curva ROC**: La curva ROC indica qué tan capaz es un modelo de distinguir clases relacionando la tasa de falsos positivos con la tasa de verdaderos positivos.\n",
    "- **AUC**: el Área bajo la Curva ROC es un indicador de qué tan bueno es un clasificador independientemente del umbral de clasificación elegido.\n",
    "- **f1-score**: Promedio entre Precision y Recall. $2\\frac{Recall x Precision}{Recall + Precision}$\n",
    "- **Matriz de Confusión:**: es una forma de visualizar para cada clase TP,TN,FP y FN.\n",
    "\n",
    "Siendo:\n",
    "- TP (True Positives): casos de Fraude identificados como Fraude.\n",
    "- TN (True Negatives): casos de No fraude identificados como No Fraude.\n",
    "- FP (False Positives): casos de No Fraude identificados como Fraude.\n",
    "- FN (False Negatives): casos de Fraude identificados como No Fraude."
   ]
  },
  {
   "cell_type": "markdown",
   "metadata": {},
   "source": [
    "Se provee una función que realiza un reporte con las anteriores métricas para un modelo y un dataset de evaluación. A diferencia del cuaderno anterior, se utiliza *confusion_matrix* y *ConfusionMatrixDisplay* porque los clasificadores de [ML-Ensamble](https://mlens.readthedocs.io/en/0.1.x/) no cumplen exactamente con la API de los de SKLearn."
   ]
  },
  {
   "cell_type": "code",
   "execution_count": 15,
   "metadata": {},
   "outputs": [],
   "source": [
    "from sklearn import metrics \n",
    "from sklearn.metrics import confusion_matrix,ConfusionMatrixDisplay\n",
    "\n",
    "def model_evaluation_report(model,y_test,y_pred,y_pred_prob,description):\n",
    "    accuracy = metrics.accuracy_score(y_test, y_pred.round(), normalize=True)\n",
    "    precision = metrics.precision_score(y_test, y_pred,zero_division=False)\n",
    "    recall = metrics.recall_score(y_test, y_pred)\n",
    "        \n",
    "    #fig, axes = plt.subplots(1, 2, figsize=(8, 4), gridspec_kw=dict(width_ratios=[4, 3]))\n",
    "    fpr, tpr, thresholds = metrics.roc_curve(y_test, y_pred_prob[:,1])\n",
    "    auc = metrics.auc(fpr, tpr)\n",
    "    f1_score = metrics.f1_score(y_test, y_pred)\n",
    "    \n",
    "    fig, axes = plt.subplots(1,2,figsize=(20,10))\n",
    "    cm = confusion_matrix(y_test, y_pred)\n",
    "    \n",
    "    disp = ConfusionMatrixDisplay(confusion_matrix=cm,display_labels=['No Fraude','Fraude'])\n",
    "    disp = disp.plot(ax=axes[0])\n",
    "    \n",
    "    axes[0].set_title(\"Confusion Matrix\")\n",
    "    axes[0].set_xlabel('Predicción')\n",
    "    axes[0].set_ylabel('Etiqueta real')\n",
    "    #plt.show()\n",
    "    \n",
    "    #plt.figure()\n",
    "    axes[1].plot(fpr, tpr)\n",
    "    axes[1].grid(which='Both')\n",
    "    axes[1].set_title(\"Curva ROC\")\n",
    "    axes[1].set_xlabel('Tasa de falsos positivos (1 - Especificidad)')\n",
    "    axes[1].set_ylabel('Tasa de positivos (Sensibilidad)')\n",
    "    plt.show()   \n",
    "            \n",
    "    print(\"AUC:\", auc )\n",
    "    print(\"Accuracy:\", accuracy )\n",
    "    print(\"Precision:\", precision )\n",
    "    print(\"Recall:\", recall)\n",
    "    print(\"f1-score: \", f1_score)\n",
    "    \n",
    "    model_summary={\n",
    "        \"accuracy\": accuracy,\n",
    "        \"precision\": precision,\n",
    "        \"recall\": recall,\n",
    "        \"auc\": auc,\n",
    "        \"f1-score\": f1_score,\n",
    "        \"description\": description\n",
    "    }\n",
    "    return model_summary\n"
   ]
  },
  {
   "cell_type": "markdown",
   "metadata": {},
   "source": [
    "Ejemplo para el clasificador de base (Dummy)."
   ]
  },
  {
   "cell_type": "code",
   "execution_count": 16,
   "metadata": {},
   "outputs": [],
   "source": [
    "X_train, y_train, X_test, y_test= choose_dataset('undersampling')"
   ]
  },
  {
   "cell_type": "code",
   "execution_count": 17,
   "metadata": {},
   "outputs": [
    {
     "data": {
      "image/png": "[encoded data removed]",
      "text/plain": [
       "<Figure size 1440x720 with 3 Axes>"
      ]
     },
     "metadata": {
      "needs_background": "light"
     },
     "output_type": "display_data"
    },
    {
     "name": "stdout",
     "output_type": "stream",
     "text": [
      "AUC: 0.5\n",
      "Accuracy: 0.49324324324324326\n",
      "Precision: 0.49324324324324326\n",
      "Recall: 1.0\n",
      "f1-score:  0.6606334841628959\n"
     ]
    }
   ],
   "source": [
    "from sklearn.dummy import DummyClassifier \n",
    "\n",
    "model = DummyClassifier(strategy='most_frequent')\n",
    "model = model.fit(X_train,y_train)\n",
    "y_pred = model.predict(X_test)\n",
    "y_pred_prob = model.predict_proba(X_test)\n",
    "\n",
    "model_name = \"base\"\n",
    "description = \"Modelo base\"\n",
    "model_metrics = model_evaluation_report(model,y_test,y_pred,y_pred_prob,description)"
   ]
  },
  {
   "cell_type": "markdown",
   "metadata": {},
   "source": [
    "### 4.2.3 Entrenamiento de modelos"
   ]
  },
  {
   "cell_type": "code",
   "execution_count": 18,
   "metadata": {},
   "outputs": [],
   "source": [
    "# Para futura tabla comparativa\n",
    "model_metrics_list = {}"
   ]
  },
  {
   "cell_type": "markdown",
   "metadata": {},
   "source": [
    "Lista con todos los estimadores anteriores."
   ]
  },
  {
   "cell_type": "code",
   "execution_count": 19,
   "metadata": {},
   "outputs": [
    {
     "data": {
      "text/plain": [
       "[('DecisionTree', DecisionTreeClassifier(max_depth=22, min_samples_leaf=40)),\n",
       " ('RandomForest',\n",
       "  RandomForestClassifier(min_samples_leaf=13, min_samples_split=6,\n",
       "                         n_estimators=158)),\n",
       " ('LogisticRegression',\n",
       "  LogisticRegression(max_iter=1659, penalty='none', solver='newton-cg')),\n",
       " ('SVM', SVC(C=17.48365748417831, max_iter=1000, probability=True)),\n",
       " ('MLP',\n",
       "  MLPClassifier(alpha=3.8925818075083096e-05,\n",
       "                hidden_layer_sizes=[15, 8, 31, 12, 43], max_iter=2000,\n",
       "                solver='lbfgs')),\n",
       " ('xgboost',\n",
       "  XGBClassifier(base_score=0.5, booster='gbtree', boosting='gblinear',\n",
       "                colsample_bylevel=0.67, colsample_bynode=0.35,\n",
       "                colsample_bytree=0.51, eval_metric='rmse', gamma=0, gpu_id=-1,\n",
       "                importance_type='gain', interaction_constraints='',\n",
       "                learning_rate=0.020262168850806294, max_delta_step=0,\n",
       "                max_depth=14, min_child_weight=2, missing=nan,\n",
       "                monotone_constraints='()', n_estimators=100, n_jobs=8, nthread=-1,\n",
       "                num_parallel_tree=1, objective='reg:tweedie', random_state=0,\n",
       "                reg_alpha=1, reg_lambda=3, scale_pos_weight=None, subsample=1.0,\n",
       "                tree_method='approx', validate_parameters=1, verbosity=None)),\n",
       " ('NearestNeighbors',\n",
       "  KNeighborsClassifier(algorithm='kd_tree', leaf_size=70, n_neighbors=10, p=1,\n",
       "                       weights='distance'))]"
      ]
     },
     "execution_count": 19,
     "metadata": {},
     "output_type": "execute_result"
    }
   ],
   "source": [
    "estimators = []\n",
    "for idx, row in df_models.iterrows():\n",
    "    estimators.append((row.name,row['model']))\n",
    "estimators    "
   ]
  },
  {
   "cell_type": "markdown",
   "metadata": {},
   "source": [
    "#### 4.2.3.1 Votador blando (SKLearn)\n",
    "\n",
    "El primer ensamble será un votador blando en el que todos los modelos devuelven la probabilidad de fraude y la respuesta final será el promedio de todos los votadores."
   ]
  },
  {
   "cell_type": "code",
   "execution_count": null,
   "metadata": {},
   "outputs": [],
   "source": [
    "from sklearn.ensemble import VotingClassifier\n",
    "\n",
    "ensemble_name = \"VotingSoft\"\n",
    "\n",
    "ensemble_model = VotingClassifier(estimators, voting='soft')\n",
    "ensemble_model.fit(X_train, y_train)\n",
    "\n",
    "y_pred = ensemble_model.predict(X_test)\n",
    "y_pred_prob = ensemble_model.predict_proba(X_test)"
   ]
  },
  {
   "cell_type": "code",
   "execution_count": 21,
   "metadata": {},
   "outputs": [
    {
     "data": {
      "image/png": "[encoded data removed]",
      "text/plain": [
       "<Figure size 1440x720 with 3 Axes>"
      ]
     },
     "metadata": {
      "needs_background": "light"
     },
     "output_type": "display_data"
    },
    {
     "name": "stdout",
     "output_type": "stream",
     "text": [
      "AUC: 0.9821004566210045\n",
      "Accuracy: 0.9290540540540541\n",
      "Precision: 0.9770992366412213\n",
      "Recall: 0.8767123287671232\n",
      "f1-score:  0.924187725631769\n"
     ]
    }
   ],
   "source": [
    "model_metrics_list[ensemble_name]=model_evaluation_report(ensemble_model,y_test,y_pred,y_pred_prob,ensemble_name)"
   ]
  },
  {
   "cell_type": "markdown",
   "metadata": {},
   "source": [
    "#### 4.2.3.2 Stacking (SKLearn)\n",
    "\n",
    "Este tipo de ensamble utiliza dos niveles de modelos:\n",
    "- Los de aprendizaje básico, que generan sus predicciones.\n",
    "- Un modelo final (meta) que utiliza las predicciones de los modelos anteriores.\n",
    "La diferencia respecto a la votación, es que en este caso el modelo \"meta\" asigna un peso al resultado de cada modelo de la etapa anterior."
   ]
  },
  {
   "cell_type": "code",
   "execution_count": null,
   "metadata": {},
   "outputs": [],
   "source": [
    "from sklearn.ensemble import StackingClassifier\n",
    "from sklearn.linear_model import LogisticRegression\n",
    "\n",
    "ensemble_name = \"Stacking\"\n",
    "\n",
    "ensemble_model = StackingClassifier(estimators=estimators, final_estimator=LogisticRegression())\n",
    "ensemble_model.fit(X_train, y_train)\n",
    "\n",
    "y_pred = ensemble_model.predict(X_test)\n",
    "y_pred_prob = ensemble_model.predict_proba(X_test)"
   ]
  },
  {
   "cell_type": "code",
   "execution_count": 23,
   "metadata": {},
   "outputs": [
    {
     "data": {
      "image/png": "[encoded data removed]",
      "text/plain": [
       "<Figure size 1440x720 with 3 Axes>"
      ]
     },
     "metadata": {
      "needs_background": "light"
     },
     "output_type": "display_data"
    },
    {
     "name": "stdout",
     "output_type": "stream",
     "text": [
      "AUC: 0.980958904109589\n",
      "Accuracy: 0.9256756756756757\n",
      "Precision: 0.9428571428571428\n",
      "Recall: 0.9041095890410958\n",
      "f1-score:  0.923076923076923\n"
     ]
    }
   ],
   "source": [
    "model_metrics_list[ensemble_name]=model_evaluation_report(ensemble_model,y_test,y_pred,y_pred_prob,ensemble_name)"
   ]
  },
  {
   "cell_type": "markdown",
   "metadata": {},
   "source": [
    "#### 4.2.3.3 Stacking (BlendEnsembler de ML-Ensemble)\n",
    "\n",
    "Se creará otro modelo de Stacking con la librería [ML-Ensemble](http://ml-ensemble.com/)."
   ]
  },
  {
   "cell_type": "code",
   "execution_count": 30,
   "metadata": {},
   "outputs": [],
   "source": [
    "from mlens.ensemble import BlendEnsemble\n",
    "from sklearn.linear_model import LogisticRegression\n",
    "from sklearn.svm import SVC\n",
    "from mlens.metrics import make_scorer\n",
    "from sklearn.metrics import roc_auc_score"
   ]
  },
  {
   "cell_type": "code",
   "execution_count": null,
   "metadata": {
    "scrolled": true
   },
   "outputs": [],
   "source": [
    "ensemble_name = \"BlendEnsembler\"\n",
    "auc_scorer = make_scorer(roc_auc_score, average='micro', greater_is_better=True)\n",
    "ensemble_model = BlendEnsemble(scorer=auc_scorer)\n",
    "ensemble_model.add([ x[1] for x in estimators ],proba=True,meta=True)\n",
    "ensemble_model.add_meta(LogisticRegression(),proba=True)\n",
    "ensemble_model.fit(X_train, y_train)"
   ]
  },
  {
   "cell_type": "code",
   "execution_count": 32,
   "metadata": {},
   "outputs": [
    {
     "data": {
      "image/png": "[encoded data removed]",
      "text/plain": [
       "<Figure size 1440x720 with 3 Axes>"
      ]
     },
     "metadata": {
      "needs_background": "light"
     },
     "output_type": "display_data"
    },
    {
     "name": "stdout",
     "output_type": "stream",
     "text": [
      "AUC: 0.9798630136986302\n",
      "Accuracy: 0.9256756756756757\n",
      "Precision: 0.9558823529411765\n",
      "Recall: 0.8904109589041096\n",
      "f1-score:  0.9219858156028369\n"
     ]
    }
   ],
   "source": [
    "y_pred_prob = ensemble_model.predict_proba(X_test)\n",
    "y_pred = np.argmax(y_pred_prob,axis=1)\n",
    "model_metrics_list[ensemble_name]=model_evaluation_report(ensemble_model,y_test,y_pred,y_pred_prob,ensemble_name)"
   ]
  },
  {
   "cell_type": "markdown",
   "metadata": {},
   "source": [
    "## 4.3 Comparación de resultados y conclusiones"
   ]
  },
  {
   "cell_type": "markdown",
   "metadata": {},
   "source": [
    "A continuación se presentan las métricas para el Test Set de los modelos entrenados."
   ]
  },
  {
   "cell_type": "code",
   "execution_count": 33,
   "metadata": {},
   "outputs": [
    {
     "data": {
      "text/html": [
       "<div>\n",
       "<style scoped>\n",
       "    .dataframe tbody tr th:only-of-type {\n",
       "        vertical-align: middle;\n",
       "    }\n",
       "\n",
       "    .dataframe tbody tr th {\n",
       "        vertical-align: top;\n",
       "    }\n",
       "\n",
       "    .dataframe thead th {\n",
       "        text-align: right;\n",
       "    }\n",
       "</style>\n",
       "<table border=\"1\" class=\"dataframe\">\n",
       "  <thead>\n",
       "    <tr style=\"text-align: right;\">\n",
       "      <th></th>\n",
       "      <th>accuracy</th>\n",
       "      <th>precision</th>\n",
       "      <th>recall</th>\n",
       "      <th>auc</th>\n",
       "      <th>f1-score</th>\n",
       "      <th>description</th>\n",
       "    </tr>\n",
       "  </thead>\n",
       "  <tbody>\n",
       "    <tr>\n",
       "      <th>VotingSoft</th>\n",
       "      <td>0.929054</td>\n",
       "      <td>0.977099</td>\n",
       "      <td>0.876712</td>\n",
       "      <td>0.982100</td>\n",
       "      <td>0.924188</td>\n",
       "      <td>VotingSoft</td>\n",
       "    </tr>\n",
       "    <tr>\n",
       "      <th>Stacking</th>\n",
       "      <td>0.925676</td>\n",
       "      <td>0.942857</td>\n",
       "      <td>0.904110</td>\n",
       "      <td>0.980959</td>\n",
       "      <td>0.923077</td>\n",
       "      <td>Stacking</td>\n",
       "    </tr>\n",
       "    <tr>\n",
       "      <th>BlendEnsembler</th>\n",
       "      <td>0.925676</td>\n",
       "      <td>0.955882</td>\n",
       "      <td>0.890411</td>\n",
       "      <td>0.979863</td>\n",
       "      <td>0.921986</td>\n",
       "      <td>BlendEnsembler</td>\n",
       "    </tr>\n",
       "  </tbody>\n",
       "</table>\n",
       "</div>"
      ],
      "text/plain": [
       "                accuracy  precision    recall       auc  f1-score  \\\n",
       "VotingSoft      0.929054   0.977099  0.876712  0.982100  0.924188   \n",
       "Stacking        0.925676   0.942857  0.904110  0.980959  0.923077   \n",
       "BlendEnsembler  0.925676   0.955882  0.890411  0.979863  0.921986   \n",
       "\n",
       "                   description  \n",
       "VotingSoft          VotingSoft  \n",
       "Stacking              Stacking  \n",
       "BlendEnsembler  BlendEnsembler  "
      ]
     },
     "execution_count": 33,
     "metadata": {},
     "output_type": "execute_result"
    }
   ],
   "source": [
    "df = pd.DataFrame.from_dict(model_metrics_list,orient='index')\n",
    "df.sort_values(by=\"auc\", ascending=False)"
   ]
  },
  {
   "cell_type": "markdown",
   "metadata": {},
   "source": [
    "Los resultados obtenidos anteriormente son:"
   ]
  },
  {
   "cell_type": "code",
   "execution_count": 34,
   "metadata": {},
   "outputs": [
    {
     "data": {
      "text/html": [
       "<div>\n",
       "<style scoped>\n",
       "    .dataframe tbody tr th:only-of-type {\n",
       "        vertical-align: middle;\n",
       "    }\n",
       "\n",
       "    .dataframe tbody tr th {\n",
       "        vertical-align: top;\n",
       "    }\n",
       "\n",
       "    .dataframe thead th {\n",
       "        text-align: right;\n",
       "    }\n",
       "</style>\n",
       "<table border=\"1\" class=\"dataframe\">\n",
       "  <thead>\n",
       "    <tr style=\"text-align: right;\">\n",
       "      <th></th>\n",
       "      <th>accuracy</th>\n",
       "      <th>precision</th>\n",
       "      <th>recall</th>\n",
       "      <th>auc</th>\n",
       "      <th>f1-score</th>\n",
       "    </tr>\n",
       "    <tr>\n",
       "      <th>name</th>\n",
       "      <th></th>\n",
       "      <th></th>\n",
       "      <th></th>\n",
       "      <th></th>\n",
       "      <th></th>\n",
       "    </tr>\n",
       "  </thead>\n",
       "  <tbody>\n",
       "    <tr>\n",
       "      <th>xgboost</th>\n",
       "      <td>0.925676</td>\n",
       "      <td>0.992063</td>\n",
       "      <td>0.856164</td>\n",
       "      <td>0.979452</td>\n",
       "      <td>0.919118</td>\n",
       "    </tr>\n",
       "    <tr>\n",
       "      <th>RandomForest</th>\n",
       "      <td>0.925676</td>\n",
       "      <td>0.969697</td>\n",
       "      <td>0.876712</td>\n",
       "      <td>0.976438</td>\n",
       "      <td>0.920863</td>\n",
       "    </tr>\n",
       "    <tr>\n",
       "      <th>MLP</th>\n",
       "      <td>0.905405</td>\n",
       "      <td>0.909722</td>\n",
       "      <td>0.897260</td>\n",
       "      <td>0.976210</td>\n",
       "      <td>0.903448</td>\n",
       "    </tr>\n",
       "    <tr>\n",
       "      <th>SVM</th>\n",
       "      <td>0.922297</td>\n",
       "      <td>0.976744</td>\n",
       "      <td>0.863014</td>\n",
       "      <td>0.973333</td>\n",
       "      <td>0.916364</td>\n",
       "    </tr>\n",
       "    <tr>\n",
       "      <th>DecisionTree</th>\n",
       "      <td>0.902027</td>\n",
       "      <td>0.887417</td>\n",
       "      <td>0.917808</td>\n",
       "      <td>0.965845</td>\n",
       "      <td>0.902357</td>\n",
       "    </tr>\n",
       "    <tr>\n",
       "      <th>LogisticRegression</th>\n",
       "      <td>0.908784</td>\n",
       "      <td>0.921986</td>\n",
       "      <td>0.890411</td>\n",
       "      <td>0.964087</td>\n",
       "      <td>0.905923</td>\n",
       "    </tr>\n",
       "    <tr>\n",
       "      <th>NearestNeighbors</th>\n",
       "      <td>0.905405</td>\n",
       "      <td>0.953846</td>\n",
       "      <td>0.849315</td>\n",
       "      <td>0.961187</td>\n",
       "      <td>0.898551</td>\n",
       "    </tr>\n",
       "  </tbody>\n",
       "</table>\n",
       "</div>"
      ],
      "text/plain": [
       "                    accuracy  precision    recall       auc  f1-score\n",
       "name                                                                 \n",
       "xgboost             0.925676   0.992063  0.856164  0.979452  0.919118\n",
       "RandomForest        0.925676   0.969697  0.876712  0.976438  0.920863\n",
       "MLP                 0.905405   0.909722  0.897260  0.976210  0.903448\n",
       "SVM                 0.922297   0.976744  0.863014  0.973333  0.916364\n",
       "DecisionTree        0.902027   0.887417  0.917808  0.965845  0.902357\n",
       "LogisticRegression  0.908784   0.921986  0.890411  0.964087  0.905923\n",
       "NearestNeighbors    0.905405   0.953846  0.849315  0.961187  0.898551"
      ]
     },
     "execution_count": 34,
     "metadata": {},
     "output_type": "execute_result"
    }
   ],
   "source": [
    "df_models[['accuracy','precision','recall','auc','f1-score']].sort_values(by=\"auc\", ascending=False)"
   ]
  },
  {
   "cell_type": "markdown",
   "metadata": {},
   "source": [
    "Comparativa para selección de modelo final."
   ]
  },
  {
   "cell_type": "code",
   "execution_count": 35,
   "metadata": {},
   "outputs": [
    {
     "data": {
      "text/html": [
       "<div>\n",
       "<style scoped>\n",
       "    .dataframe tbody tr th:only-of-type {\n",
       "        vertical-align: middle;\n",
       "    }\n",
       "\n",
       "    .dataframe tbody tr th {\n",
       "        vertical-align: top;\n",
       "    }\n",
       "\n",
       "    .dataframe thead th {\n",
       "        text-align: right;\n",
       "    }\n",
       "</style>\n",
       "<table border=\"1\" class=\"dataframe\">\n",
       "  <thead>\n",
       "    <tr style=\"text-align: right;\">\n",
       "      <th></th>\n",
       "      <th>accuracy</th>\n",
       "      <th>precision</th>\n",
       "      <th>recall</th>\n",
       "      <th>auc</th>\n",
       "      <th>f1-score</th>\n",
       "    </tr>\n",
       "  </thead>\n",
       "  <tbody>\n",
       "    <tr>\n",
       "      <th>VotingSoft</th>\n",
       "      <td>0.929054</td>\n",
       "      <td>0.977099</td>\n",
       "      <td>0.876712</td>\n",
       "      <td>0.982100</td>\n",
       "      <td>0.924188</td>\n",
       "    </tr>\n",
       "    <tr>\n",
       "      <th>Stacking</th>\n",
       "      <td>0.925676</td>\n",
       "      <td>0.942857</td>\n",
       "      <td>0.904110</td>\n",
       "      <td>0.980959</td>\n",
       "      <td>0.923077</td>\n",
       "    </tr>\n",
       "    <tr>\n",
       "      <th>BlendEnsembler</th>\n",
       "      <td>0.925676</td>\n",
       "      <td>0.955882</td>\n",
       "      <td>0.890411</td>\n",
       "      <td>0.979863</td>\n",
       "      <td>0.921986</td>\n",
       "    </tr>\n",
       "    <tr>\n",
       "      <th>xgboost</th>\n",
       "      <td>0.925676</td>\n",
       "      <td>0.992063</td>\n",
       "      <td>0.856164</td>\n",
       "      <td>0.979452</td>\n",
       "      <td>0.919118</td>\n",
       "    </tr>\n",
       "    <tr>\n",
       "      <th>RandomForest</th>\n",
       "      <td>0.925676</td>\n",
       "      <td>0.969697</td>\n",
       "      <td>0.876712</td>\n",
       "      <td>0.976438</td>\n",
       "      <td>0.920863</td>\n",
       "    </tr>\n",
       "    <tr>\n",
       "      <th>MLP</th>\n",
       "      <td>0.905405</td>\n",
       "      <td>0.909722</td>\n",
       "      <td>0.897260</td>\n",
       "      <td>0.976210</td>\n",
       "      <td>0.903448</td>\n",
       "    </tr>\n",
       "    <tr>\n",
       "      <th>SVM</th>\n",
       "      <td>0.922297</td>\n",
       "      <td>0.976744</td>\n",
       "      <td>0.863014</td>\n",
       "      <td>0.973333</td>\n",
       "      <td>0.916364</td>\n",
       "    </tr>\n",
       "    <tr>\n",
       "      <th>DecisionTree</th>\n",
       "      <td>0.902027</td>\n",
       "      <td>0.887417</td>\n",
       "      <td>0.917808</td>\n",
       "      <td>0.965845</td>\n",
       "      <td>0.902357</td>\n",
       "    </tr>\n",
       "    <tr>\n",
       "      <th>LogisticRegression</th>\n",
       "      <td>0.908784</td>\n",
       "      <td>0.921986</td>\n",
       "      <td>0.890411</td>\n",
       "      <td>0.964087</td>\n",
       "      <td>0.905923</td>\n",
       "    </tr>\n",
       "    <tr>\n",
       "      <th>NearestNeighbors</th>\n",
       "      <td>0.905405</td>\n",
       "      <td>0.953846</td>\n",
       "      <td>0.849315</td>\n",
       "      <td>0.961187</td>\n",
       "      <td>0.898551</td>\n",
       "    </tr>\n",
       "  </tbody>\n",
       "</table>\n",
       "</div>"
      ],
      "text/plain": [
       "                    accuracy  precision    recall       auc  f1-score\n",
       "VotingSoft          0.929054   0.977099  0.876712  0.982100  0.924188\n",
       "Stacking            0.925676   0.942857  0.904110  0.980959  0.923077\n",
       "BlendEnsembler      0.925676   0.955882  0.890411  0.979863  0.921986\n",
       "xgboost             0.925676   0.992063  0.856164  0.979452  0.919118\n",
       "RandomForest        0.925676   0.969697  0.876712  0.976438  0.920863\n",
       "MLP                 0.905405   0.909722  0.897260  0.976210  0.903448\n",
       "SVM                 0.922297   0.976744  0.863014  0.973333  0.916364\n",
       "DecisionTree        0.902027   0.887417  0.917808  0.965845  0.902357\n",
       "LogisticRegression  0.908784   0.921986  0.890411  0.964087  0.905923\n",
       "NearestNeighbors    0.905405   0.953846  0.849315  0.961187  0.898551"
      ]
     },
     "execution_count": 35,
     "metadata": {},
     "output_type": "execute_result"
    }
   ],
   "source": [
    "df_all = pd.concat([df,df_models],axis=0)\n",
    "df_all[['accuracy','precision','recall','auc','f1-score']].sort_values(by=\"auc\", ascending=False)"
   ]
  },
  {
   "cell_type": "markdown",
   "metadata": {},
   "source": [
    "Se observa que los ensambles (tanto aquellos con Voting y Stacking utilizando modelos anteriores) como los ensambles del cuaderno anterior (XGBoost y Random Forest) presentan resultados significativamente mejores que los modelos individuales.\n",
    "\n",
    "Se usó la API básica de la librería ML-Ensemble, sin llegar a ensayar otras funciones como selección de modelos y optimización de etapa de preprocesamiento (qué tampoco se hizo para el cuaderno anterior) y tampoco se usaron sus funciones de análisis.\n",
    "\n",
    "Aún con trabajo pendiente, ya se tiene un modelo que puede ser puesto en producción. "
   ]
  }
 ],
 "metadata": {
  "kernelspec": {
   "display_name": "Python 3",
   "language": "python",
   "name": "python3"
  },
  "language_info": {
   "codemirror_mode": {
    "name": "ipython",
    "version": 3
   },
   "file_extension": ".py",
   "mimetype": "text/x-python",
   "name": "python",
   "nbconvert_exporter": "python",
   "pygments_lexer": "ipython3",
   "version": "3.7.10"
  }
 },
 "nbformat": 4,
 "nbformat_minor": 4
}
