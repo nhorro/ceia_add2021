{
 "cells": [
  {
   "cell_type": "markdown",
   "metadata": {
    "id": "mt8Ob7e16X3C"
   },
   "source": [
    "# Análisis de datos - Trabajo final integrador\n",
    "\n",
    "<img src=\"https://encrypted-tbn0.gstatic.com/images?q=tbn:ANd9GcQATNC-EBwF-LIbDVv_L0gkP2V6oKQzah5GRg&usqp=CAU\"/>\n",
    "\n",
    "Se propone realizar el ciclo completo del desarrollo de un modelo de aprendizaje automático supervisado.\n",
    "\n",
    "Trabajaremos con un [dataset de Kaggle con datos de por distintas estaciones metereológicas de Australia](https://www.kaggle.com/jsphyg/weather-dataset-rattle-package?select=weatherAUS.csv).\n",
    "\n",
    "Se proponen dos objetivos: \n",
    "1. Predecir si lloverá o no al día siguiente (variable *RainTomorrow*), en función datos metereológicos del día actual.\n",
    "2. Predecir el volúmen de precipitaciones (columna *Rainfall* ), en función de los datos meteorológicos restantes.\n"
   ]
  },
  {
   "cell_type": "markdown",
   "metadata": {
    "id": "FL1aYkP79FwE"
   },
   "source": [
    "## Enunciado\n",
    "\n",
    "- Descargar el [dataset de kaggle](https://www.kaggle.com/jsphyg/weather-dataset-rattle-package?select=weatherAUS.csv)\n",
    "\n",
    "### 1. Análisis exploratorio inicial\n",
    "\n",
    "- Visualizar las primeras filas.\n",
    "- Realizar un resumen de 5 números.\n",
    "- Identificar los tipos de datos: categórico, ordinal, etc. Responder para cada variable su tipo y si es informativa para un problema de clasificación (por ejemplo si se trata de un código, como una matrícula, o un nombre propio).\n",
    "- Identificar las variables de entrada y de salida del problema.\n",
    "- Variables de entrada:\n",
    "  - Realizar los siguientes análisis por tipo de variable.\n",
    "    - Numéricas: \n",
    "      - Obtener conclusiones acerca de la distribución de los datos.\n",
    "    - Categóricas\n",
    "        - Obtener conclusiones acerca de cardinalidad, representación de cada categoría, etc.\n",
    "    - Compuestas/otros. ¿Cómo pueden tratarse para utilizarlas en el problema elegido?\n",
    "- Variables de salida:\n",
    "  - ¿Están balanceadas las clases?\n",
    "  - ¿Qué técnicas consideraría para codificar la variable de salida? Justificar.\n",
    "\n",
    "### 2. Esquema de validación de resultados\n",
    "\n",
    "- Los pasos siguientes comprenden las etapas de preparación de datos y evaluación de resultados. Todos los puntos analizarlos para los dos problemas planteados.\n",
    "- Para ello, se debe particionar el dataset en entrenamiento y validación.\n",
    "\n",
    "### 3. Limpieza y preparación de datos / ingeniería de features\n",
    "\n",
    "- Datos faltantes. Indicar cantidad de observaciones y valores faltantes para cada variable.\n",
    "- ¿Qué supuestos puede realizar acerca de los datos faltantes? ¿Qué técnicas de imputación recomendaría?. Ensayar distintas técnicas y analizar los resultados. \n",
    "- En función del estudio inicial de las variables que se hizo en la sección anterior, elegir una técnica de codificación para cada variable. Cuando lo considere apropiado, ensayar distintas técnicas y comparar los resultados, teniendo en cuenta el tipo de clasificador a utilizar. Nota: para tipos de datos compuestos o estructurados, considerar la obtención de variables de tipo númerico/categórico.\n",
    "- ¿Qué puede decir acerca de las relaciones entre las variables de entrada?\n",
    "\n",
    "- Antes de entrenar un modelo de aprendizaje automático, ¿Podría identificar las variables de entrada de mayor importancia?. Considerar por lo menos dos técnicas para cada variable. Explique brevemente los métodos utilizados.\n",
    "\n",
    "### 4. Entrenamiento de modelos\n",
    "\n",
    "- Para cada uno de los problemas propuestos, defina una lista de modelos candidatos a entrenar. Justifique sus elecciones. \n",
    "\n",
    "- Ensaye distintas cadenas de procesamiento con las técnicas consideradas en la sección 3 (por ejemplo, distintas técnicas de imputación, selección de variables de entrada, codificación de variables categóricas, transformación, etc.).\n",
    "\n",
    "### 5. Evaluación de resultados y conclusiones\n",
    "\n",
    "- ¿Qué puede concluir acerca de los modelos y preparaciones de datos ensayadas? Tener en cuenta como cada preparación afecta a los distintos modelos.\n",
    "\n",
    "### 6. Presentación de resultados\n",
    "\n",
    "- Elabore un informe de dos o tres páginas describiendo el procedimiento realizado y las conclusiones importantes indicando la ruta del código fuente en git.\n"
   ]
  }
 ],
 "metadata": {
  "colab": {
   "collapsed_sections": [],
   "name": "TP Integrador Análisis de datos.ipynb",
   "provenance": [],
   "toc_visible": true
  },
  "kernelspec": {
   "display_name": "Python 3",
   "language": "python",
   "name": "python3"
  },
  "language_info": {
   "codemirror_mode": {
    "name": "ipython",
    "version": 3
   },
   "file_extension": ".py",
   "mimetype": "text/x-python",
   "name": "python",
   "nbconvert_exporter": "python",
   "pygments_lexer": "ipython3",
   "version": "3.7.3"
  }
 },
 "nbformat": 4,
 "nbformat_minor": 4
}
