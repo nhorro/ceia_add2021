{
 "cells": [
  {
   "cell_type": "markdown",
   "metadata": {
    "id": "y24X8z6x7Vui",
    "slideshow": {
     "slide_type": "slide"
    }
   },
   "source": [
    "# Introducción/repaso de NumPy\n",
    "\n",
    "- Objetivo:\n",
    "    - Conceptos y uso básico de Numpy.\n",
    "    - Preparación para Pandas"
   ]
  },
  {
   "cell_type": "markdown",
   "metadata": {
    "slideshow": {
     "slide_type": "slide"
    }
   },
   "source": [
    "# Introducción/repaso de NumPy\n",
    "\n",
    "- Plan:\n",
    "    1. Arrays de NumPy.\n",
    "    2. Vistas vs copias\n",
    "    3. Inicialización\n",
    "    4. Manipulación de arrays\n",
    "    5. Indexado y máscaras de selección\n",
    "    6. Broadcasting"
   ]
  },
  {
   "cell_type": "markdown",
   "metadata": {
    "id": "JTt48_dk7Vuq",
    "slideshow": {
     "slide_type": "slide"
    }
   },
   "source": [
    "# 1. Arrays de NumPy"
   ]
  },
  {
   "cell_type": "code",
   "execution_count": null,
   "metadata": {
    "id": "RsX6Bc7k7Vuq",
    "slideshow": {
     "slide_type": "slide"
    }
   },
   "outputs": [],
   "source": [
    "# Idiom típico para importar Numpy\n",
    "import numpy as np "
   ]
  },
  {
   "cell_type": "markdown",
   "metadata": {
    "id": "GHQzul747Vur",
    "slideshow": {
     "slide_type": "slide"
    }
   },
   "source": [
    "- La estructura básica de NumPy es el array n-dimensional. \n",
    "- Los arrays tienen:\n",
    "    - una forma (cantidad de dimensiones y tamaño de cada una y \n",
    "    - un tipo de (int32, float32, int64, etc.)."
   ]
  },
  {
   "cell_type": "code",
   "execution_count": null,
   "metadata": {
    "id": "vVmY90dE7Vus",
    "outputId": "d18947ab-a06d-4dd1-86d8-6e7adfe2bf26",
    "slideshow": {
     "slide_type": "slide"
    }
   },
   "outputs": [],
   "source": [
    "# Creación de un array de 10 floats (32bit).\n",
    "a = np.ndarray( shape=(10), dtype=np.float32 )\n",
    "a"
   ]
  },
  {
   "cell_type": "markdown",
   "metadata": {
    "id": "zOmj0HmJ7Vut",
    "slideshow": {
     "slide_type": "slide"
    }
   },
   "source": [
    "Podemos ver la forma de un array con el atributo shape."
   ]
  },
  {
   "cell_type": "code",
   "execution_count": null,
   "metadata": {
    "id": "pehPdC5H7Vut",
    "outputId": "57411de0-eb2f-4760-db7b-7d816a925b66",
    "slideshow": {
     "slide_type": "slide"
    }
   },
   "outputs": [],
   "source": [
    "a.shape"
   ]
  },
  {
   "cell_type": "markdown",
   "metadata": {
    "id": "F1UlcTMq7Vuu",
    "slideshow": {
     "slide_type": "slide"
    }
   },
   "source": [
    "Podemos crear arrays n-dimensionales y con distintos tipos. Por ejemplo, un array (4,3) de números complejos."
   ]
  },
  {
   "cell_type": "code",
   "execution_count": null,
   "metadata": {
    "id": "d_Ztg9w_7Vuu",
    "outputId": "95556102-bad9-43a9-b49c-8313669efeaa",
    "slideshow": {
     "slide_type": "slide"
    }
   },
   "outputs": [],
   "source": [
    "z = np.ndarray( shape=(4,3), dtype=np.complex )\n",
    "z"
   ]
  },
  {
   "cell_type": "code",
   "execution_count": null,
   "metadata": {
    "id": "CTZWVc_c7Vuu",
    "outputId": "b82590f3-820d-4e21-89e4-5565b4afb6ff",
    "slideshow": {
     "slide_type": "slide"
    }
   },
   "outputs": [],
   "source": [
    "z.shape"
   ]
  },
  {
   "cell_type": "code",
   "execution_count": null,
   "metadata": {
    "id": "js3kAIlM7Vuv",
    "slideshow": {
     "slide_type": "slide"
    }
   },
   "outputs": [],
   "source": [
    "z[0] = 2 + 3j\n",
    "z"
   ]
  },
  {
   "cell_type": "markdown",
   "metadata": {
    "id": "yNNspyvH7Vuv",
    "slideshow": {
     "slide_type": "slide"
    }
   },
   "source": [
    "- Es común que querramos crear arrays con valores iniciales.\n",
    "- Por ejemplo, con una secuencia de números. \n",
    "    - La función arange puede verse como el equivalente en NumPy de range() de Python."
   ]
  },
  {
   "cell_type": "code",
   "execution_count": null,
   "metadata": {
    "id": "cQXNU0I57Vuw",
    "outputId": "b1b5fe84-b831-465b-c135-013fcd1b9b91",
    "slideshow": {
     "slide_type": "slide"
    }
   },
   "outputs": [],
   "source": [
    "a = np.arange(10)\n",
    "a"
   ]
  },
  {
   "cell_type": "markdown",
   "metadata": {
    "id": "g6Ir8KBl7Vuw",
    "slideshow": {
     "slide_type": "slide"
    }
   },
   "source": [
    "Indexación y slicing."
   ]
  },
  {
   "cell_type": "code",
   "execution_count": null,
   "metadata": {
    "id": "XrK4NHxh7Vuw",
    "outputId": "49881470-61b8-42bf-cba7-c180fc3887ad",
    "slideshow": {
     "slide_type": "slide"
    }
   },
   "outputs": [],
   "source": [
    "a[0],a[1],a[-1]"
   ]
  },
  {
   "cell_type": "code",
   "execution_count": null,
   "metadata": {
    "id": "J-kiR2WZ7Vux",
    "outputId": "0ee8f49b-3d66-45e4-e3a5-83a2478ec987",
    "slideshow": {
     "slide_type": "slide"
    }
   },
   "outputs": [],
   "source": [
    "a[0:5]"
   ]
  },
  {
   "cell_type": "markdown",
   "metadata": {
    "id": "XqSKYFTG7Vux",
    "slideshow": {
     "slide_type": "slide"
    }
   },
   "source": [
    "# 2.  Vistas vs. copias"
   ]
  },
  {
   "cell_type": "markdown",
   "metadata": {
    "slideshow": {
     "slide_type": "slide"
    }
   },
   "source": [
    "- En la sección anterior se mostró como en Python cada variable asignada recibe un nuevo objeto. \n",
    "- En NumPy el comportamiento por defecto es no crear un nuevo objeto, sino devolver una referencia a un objeto existente. "
   ]
  },
  {
   "cell_type": "code",
   "execution_count": null,
   "metadata": {
    "id": "npmgU5I97Vux",
    "outputId": "253fadf1-973d-4102-92fd-3a4f3f96ab20",
    "slideshow": {
     "slide_type": "slide"
    }
   },
   "outputs": [],
   "source": [
    "a = np.arange(10)\n",
    "a"
   ]
  },
  {
   "cell_type": "code",
   "execution_count": null,
   "metadata": {
    "id": "1-J7-2xh7Vuy",
    "outputId": "db925af1-67b3-4d97-b154-93662a3ed9ae",
    "slideshow": {
     "slide_type": "slide"
    }
   },
   "outputs": [],
   "source": [
    "b = a # Importante! b apunta a a\n",
    "print(id(a),id(b))\n",
    "assert(id(a)==id(b))"
   ]
  },
  {
   "cell_type": "code",
   "execution_count": null,
   "metadata": {
    "id": "rjXqqBPR7Vuy",
    "outputId": "7321ca46-cc0e-4234-d4f2-cd584926c8c6",
    "slideshow": {
     "slide_type": "slide"
    }
   },
   "outputs": [],
   "source": [
    "a[0],b[0]"
   ]
  },
  {
   "cell_type": "code",
   "execution_count": null,
   "metadata": {
    "id": "FXeYAGE37Vuy",
    "slideshow": {
     "slide_type": "slide"
    }
   },
   "outputs": [],
   "source": [
    "a[0] = 99"
   ]
  },
  {
   "cell_type": "markdown",
   "metadata": {
    "id": "bF8zfYB-7Vuy",
    "slideshow": {
     "slide_type": "slide"
    }
   },
   "source": [
    "- Es importante tener cuidado con esto! \n",
    "- Un error común cuando se trabaja con variables para cálculos intermedios es modificar el dato original."
   ]
  },
  {
   "cell_type": "code",
   "execution_count": null,
   "metadata": {
    "id": "JtU8ve6a7Vuz",
    "outputId": "5e254dbc-45f0-48c4-c64e-b15ea7e7235d",
    "slideshow": {
     "slide_type": "slide"
    }
   },
   "outputs": [],
   "source": [
    "b[0]"
   ]
  },
  {
   "cell_type": "code",
   "execution_count": null,
   "metadata": {
    "id": "mqhgYF8J7Vuz",
    "outputId": "de0552c6-97fc-40a8-a05b-8f04f407080a",
    "slideshow": {
     "slide_type": "slide"
    }
   },
   "outputs": [],
   "source": [
    "a = np.arange(10)\n",
    "a"
   ]
  },
  {
   "cell_type": "code",
   "execution_count": null,
   "metadata": {
    "id": "NuCjof5i7Vuz",
    "outputId": "bd18e269-d4e9-446e-97c6-a9b53fe53570",
    "slideshow": {
     "slide_type": "slide"
    }
   },
   "outputs": [],
   "source": [
    "b = a.copy()\n",
    "b"
   ]
  },
  {
   "cell_type": "code",
   "execution_count": null,
   "metadata": {
    "id": "txL6nKHA7Vu0",
    "slideshow": {
     "slide_type": "slide"
    }
   },
   "outputs": [],
   "source": [
    "a[0] = 99"
   ]
  },
  {
   "cell_type": "code",
   "execution_count": null,
   "metadata": {
    "id": "-_iFXk9T7Vu0",
    "outputId": "b66999f6-22eb-4125-9b88-ffec270d61f2",
    "slideshow": {
     "slide_type": "slide"
    }
   },
   "outputs": [],
   "source": [
    "a[0],b[0]"
   ]
  },
  {
   "cell_type": "markdown",
   "metadata": {
    "id": "RHwQ2Rm07Vu0",
    "slideshow": {
     "slide_type": "slide"
    }
   },
   "source": [
    "# 3. Inicialización de arrays"
   ]
  },
  {
   "cell_type": "markdown",
   "metadata": {
    "id": "e_IlTJLQ7Vu0",
    "slideshow": {
     "slide_type": "slide"
    }
   },
   "source": [
    "Muestreo con interpolación lineal."
   ]
  },
  {
   "cell_type": "code",
   "execution_count": null,
   "metadata": {
    "id": "2XAI65i97Vu1",
    "outputId": "ea1255cb-7b3a-483a-8d91-43ec4122eaa4",
    "slideshow": {
     "slide_type": "slide"
    }
   },
   "outputs": [],
   "source": [
    "a = np.linspace(0,1,10)\n",
    "a"
   ]
  },
  {
   "cell_type": "markdown",
   "metadata": {
    "id": "HmRJPByS7Vu1",
    "slideshow": {
     "slide_type": "slide"
    }
   },
   "source": [
    "Inicilizar una matriz de ceros."
   ]
  },
  {
   "cell_type": "code",
   "execution_count": null,
   "metadata": {
    "id": "NqWK6lNH7Vu1",
    "outputId": "a45d104d-5bac-407c-f63f-430e5ed89e88",
    "slideshow": {
     "slide_type": "slide"
    }
   },
   "outputs": [],
   "source": [
    "a = np.zeros(shape=(2,2))\n",
    "a"
   ]
  },
  {
   "cell_type": "markdown",
   "metadata": {
    "id": "xFnaPmIc7Vu1",
    "slideshow": {
     "slide_type": "slide"
    }
   },
   "source": [
    "Inicilizar una matriz de unos."
   ]
  },
  {
   "cell_type": "code",
   "execution_count": null,
   "metadata": {
    "id": "hKwAoJc-7Vu1",
    "outputId": "d994cf38-55bb-454b-d8a9-f17a73bd952c",
    "slideshow": {
     "slide_type": "slide"
    }
   },
   "outputs": [],
   "source": [
    "a = np.ones(shape=(2,3))\n",
    "a"
   ]
  },
  {
   "cell_type": "markdown",
   "metadata": {
    "id": "775Ith8y7Vu2",
    "slideshow": {
     "slide_type": "slide"
    }
   },
   "source": [
    "Crear una matriz identidad."
   ]
  },
  {
   "cell_type": "code",
   "execution_count": null,
   "metadata": {
    "id": "CNIZFKa57Vu2",
    "outputId": "fa429138-dbff-4419-da94-9ea737909446",
    "slideshow": {
     "slide_type": "slide"
    }
   },
   "outputs": [],
   "source": [
    "a = np.eye(4)\n",
    "a"
   ]
  },
  {
   "cell_type": "markdown",
   "metadata": {
    "id": "wW4hS_os7Vu2",
    "slideshow": {
     "slide_type": "slide"
    }
   },
   "source": [
    "# 4. Manipulación de arrays"
   ]
  },
  {
   "cell_type": "markdown",
   "metadata": {
    "id": "kJqx7AjA7Vu2",
    "slideshow": {
     "slide_type": "slide"
    }
   },
   "source": [
    "Operación transpuesta."
   ]
  },
  {
   "cell_type": "code",
   "execution_count": null,
   "metadata": {
    "id": "m-oY5J807Vu3",
    "outputId": "2838f57c-4830-47d6-ade8-b80b75faa86a",
    "slideshow": {
     "slide_type": "slide"
    }
   },
   "outputs": [],
   "source": [
    "a.T"
   ]
  },
  {
   "cell_type": "code",
   "execution_count": null,
   "metadata": {
    "id": "0b8J5Rvo7Vu3",
    "slideshow": {
     "slide_type": "slide"
    }
   },
   "outputs": [],
   "source": [
    "a = np.arange(10,20)\n",
    "b = np.arange(20,30)"
   ]
  },
  {
   "cell_type": "markdown",
   "metadata": {
    "id": "5n0t1JdW7Vu3",
    "slideshow": {
     "slide_type": "slide"
    }
   },
   "source": [
    "Vertical Stacking."
   ]
  },
  {
   "cell_type": "code",
   "execution_count": null,
   "metadata": {
    "id": "FgI2L1r77Vu3",
    "outputId": "d12a7ae7-a606-4539-819f-51ad06e286d0",
    "slideshow": {
     "slide_type": "slide"
    }
   },
   "outputs": [],
   "source": [
    "c = np.vstack([a,b])\n",
    "c.shape"
   ]
  },
  {
   "cell_type": "code",
   "execution_count": null,
   "metadata": {
    "id": "rHghdMCD7Vu4",
    "outputId": "1373100e-7826-4ee4-bab0-b2fdfffa2312",
    "slideshow": {
     "slide_type": "slide"
    }
   },
   "outputs": [],
   "source": [
    "c"
   ]
  },
  {
   "cell_type": "markdown",
   "metadata": {
    "id": "w_dd7bG47Vu4",
    "slideshow": {
     "slide_type": "slide"
    }
   },
   "source": [
    "Horizontal Stacking"
   ]
  },
  {
   "cell_type": "code",
   "execution_count": null,
   "metadata": {
    "id": "NRVsGqGZ7Vu4",
    "outputId": "99799f38-337a-4b40-ce9b-792c53c8fe31",
    "slideshow": {
     "slide_type": "slide"
    }
   },
   "outputs": [],
   "source": [
    "c = np.hstack([a,b])\n",
    "c.shape"
   ]
  },
  {
   "cell_type": "code",
   "execution_count": null,
   "metadata": {
    "id": "TuXvxW5H7Vu4",
    "outputId": "348f230f-ad51-433d-a038-34f4657cec6e",
    "slideshow": {
     "slide_type": "slide"
    }
   },
   "outputs": [],
   "source": [
    "c"
   ]
  },
  {
   "cell_type": "markdown",
   "metadata": {
    "id": "8qRZNo2t7Vu5",
    "slideshow": {
     "slide_type": "slide"
    }
   },
   "source": [
    "Flatten y Reshaping"
   ]
  },
  {
   "cell_type": "code",
   "execution_count": null,
   "metadata": {
    "id": "RMXg__T17Vu5",
    "outputId": "b5de1ef5-83b7-4c17-ccc2-953db22be7d6",
    "slideshow": {
     "slide_type": "slide"
    }
   },
   "outputs": [],
   "source": [
    "a = np.random.randint(4, size=(6, 3))\n",
    "a.shape"
   ]
  },
  {
   "cell_type": "code",
   "execution_count": null,
   "metadata": {
    "id": "NAjn1LyE7Vu5",
    "outputId": "e97df11c-6a5e-4561-b248-32690426e6ce",
    "slideshow": {
     "slide_type": "slide"
    }
   },
   "outputs": [],
   "source": [
    "a_flattened = a.ravel()\n",
    "a_flattened"
   ]
  },
  {
   "cell_type": "code",
   "execution_count": null,
   "metadata": {
    "id": "YVGoNLgz7Vu5",
    "outputId": "08df54c6-ccb1-4163-9b03-b64b2274ad7f",
    "slideshow": {
     "slide_type": "slide"
    }
   },
   "outputs": [],
   "source": [
    "a_flattened.shape"
   ]
  },
  {
   "cell_type": "code",
   "execution_count": null,
   "metadata": {
    "id": "TrmWnGzW7Vu6",
    "outputId": "3296660d-4d7f-4f2a-ac4e-33706eb89783",
    "slideshow": {
     "slide_type": "slide"
    }
   },
   "outputs": [],
   "source": [
    "a.reshape(2,9)"
   ]
  },
  {
   "cell_type": "markdown",
   "metadata": {
    "id": "iBlgifIJ7Vu6",
    "slideshow": {
     "slide_type": "slide"
    }
   },
   "source": [
    "# 5. Indexado y máscaras de selección"
   ]
  },
  {
   "cell_type": "markdown",
   "metadata": {
    "slideshow": {
     "slide_type": "slide"
    }
   },
   "source": [
    "A menudo es útil seleccionar los elementos de un array que verifiquen alguna condición para realizar acciones sólo con esos elementos."
   ]
  },
  {
   "cell_type": "code",
   "execution_count": null,
   "metadata": {
    "id": "cwmVl3Gk7Vu6",
    "outputId": "547e47cc-7263-48bd-e9df-1eecb633ee1e",
    "slideshow": {
     "slide_type": "slide"
    }
   },
   "outputs": [],
   "source": [
    "a = np.random.randint(4, size=(6, 3))\n",
    "print(a.shape)\n",
    "a"
   ]
  },
  {
   "cell_type": "code",
   "execution_count": null,
   "metadata": {
    "id": "C5BxXmMh7Vu6",
    "outputId": "fe3a2a5c-a6cd-4fda-f3ff-c6ef5120b0ba",
    "slideshow": {
     "slide_type": "slide"
    }
   },
   "outputs": [],
   "source": [
    "# Fila 0\n",
    "a[0,:]"
   ]
  },
  {
   "cell_type": "code",
   "execution_count": null,
   "metadata": {
    "id": "1OK-IJMk7Vu7",
    "outputId": "7cc4570c-7fce-4a54-8c03-fb069316f9e1",
    "slideshow": {
     "slide_type": "slide"
    }
   },
   "outputs": [],
   "source": [
    "# Si no se indica una selección de elementos en una dimensión\n",
    "# por defecto es ::1 (todos los elementos recorridos de a 1)\n",
    "a[0] # a[0,::1]"
   ]
  },
  {
   "cell_type": "code",
   "execution_count": null,
   "metadata": {
    "id": "W0lavQUG7Vu7",
    "outputId": "02e5eb72-1579-4e37-8481-092f0c4d09d3",
    "slideshow": {
     "slide_type": "slide"
    }
   },
   "outputs": [],
   "source": [
    "a[0,0]"
   ]
  },
  {
   "cell_type": "code",
   "execution_count": null,
   "metadata": {
    "id": "lvkKnnDw7Vu7",
    "outputId": "d362806e-e646-4c9b-a9ae-2969868830b8",
    "slideshow": {
     "slide_type": "slide"
    }
   },
   "outputs": [],
   "source": [
    "a[0,2]"
   ]
  },
  {
   "cell_type": "code",
   "execution_count": null,
   "metadata": {
    "id": "mEkoDOUg7Vu7",
    "outputId": "c0f4f344-c92e-4110-f82f-2c55f8f014db",
    "slideshow": {
     "slide_type": "slide"
    }
   },
   "outputs": [],
   "source": [
    "a[1]"
   ]
  },
  {
   "cell_type": "code",
   "execution_count": null,
   "metadata": {
    "id": "mJ_j3wHb7Vu8",
    "outputId": "a4923dd4-68f9-4e6a-fafd-6c4bb9d61acd",
    "slideshow": {
     "slide_type": "slide"
    }
   },
   "outputs": [],
   "source": [
    "a[-1]"
   ]
  },
  {
   "cell_type": "code",
   "execution_count": null,
   "metadata": {
    "id": "oJzr-4M57Vu8",
    "outputId": "ce52aa0c-8ee9-4fea-8511-820b51886895",
    "slideshow": {
     "slide_type": "slide"
    }
   },
   "outputs": [],
   "source": [
    "# Todas las filas, sólo la última columna\n",
    "a[:,-1]"
   ]
  },
  {
   "cell_type": "code",
   "execution_count": null,
   "metadata": {
    "id": "D1VVX2ZR7Vu8",
    "outputId": "00ba0baa-363d-4fe7-a1e6-0c5211661835",
    "slideshow": {
     "slide_type": "slide"
    }
   },
   "outputs": [],
   "source": [
    "# Acceso aleatorio filas 0,3 y 4\n",
    "random_access_indexes = [ 0, 3, 4 ]\n",
    "\n",
    "a[random_access_indexes,:]"
   ]
  },
  {
   "cell_type": "code",
   "execution_count": null,
   "metadata": {
    "id": "1236h2D67Vu9",
    "outputId": "7e304cf7-85bf-407d-f298-ddc68ee5e66f",
    "slideshow": {
     "slide_type": "slide"
    }
   },
   "outputs": [],
   "source": [
    "# Aplicar una expresión con arrays \n",
    "# devuelve un array del mismo tamaño \n",
    "# con el resultado de la evaluación element-wise\n",
    "condition_is_greater_than_2 = a > 2\n",
    "condition_is_greater_than_2"
   ]
  },
  {
   "cell_type": "code",
   "execution_count": null,
   "metadata": {
    "id": "TEVKfdpt7Vu9",
    "outputId": "5154199e-885e-4b11-af81-735c3d467aff",
    "slideshow": {
     "slide_type": "slide"
    }
   },
   "outputs": [],
   "source": [
    "condition_is_less_than_3 = a < 3\n",
    "condition_is_less_than_3"
   ]
  },
  {
   "cell_type": "code",
   "execution_count": null,
   "metadata": {
    "id": "vExPTurr7Vu9",
    "outputId": "6cab7079-8a52-4222-9af4-de43787369ee",
    "slideshow": {
     "slide_type": "slide"
    }
   },
   "outputs": [],
   "source": [
    "condition_is_even = a & 1 == 0\n",
    "condition_is_even"
   ]
  },
  {
   "cell_type": "code",
   "execution_count": null,
   "metadata": {
    "id": "JkWHGcH37Vu9",
    "outputId": "64999e19-f825-4feb-a449-48c6fe401fdf",
    "slideshow": {
     "slide_type": "slide"
    }
   },
   "outputs": [],
   "source": [
    "condition_is_odd = a & 1 == 1\n",
    "condition_is_odd"
   ]
  },
  {
   "cell_type": "code",
   "execution_count": null,
   "metadata": {
    "id": "tREY_aPu7Vu-",
    "outputId": "f0437839-5a9e-4e39-dec8-b141ff40767d",
    "slideshow": {
     "slide_type": "slide"
    }
   },
   "outputs": [],
   "source": [
    "# Composición de condiciones\n",
    "(condition_is_greater_than_2 & condition_is_less_than_3) & (condition_is_even)"
   ]
  },
  {
   "cell_type": "code",
   "execution_count": null,
   "metadata": {
    "id": "zMX_joQH7Vu-",
    "outputId": "1d50f4cc-7f6d-4464-c6ab-3a362c86caba",
    "slideshow": {
     "slide_type": "slide"
    }
   },
   "outputs": [],
   "source": [
    "# Para alguna operación puedo necesitar conocer los índices (i,j,..) de un elemento\n",
    "rows = np.arange(3)\n",
    "cols = np.arange(3)\n",
    "\n",
    "a = (rows,cols)\n",
    "a"
   ]
  },
  {
   "cell_type": "code",
   "execution_count": null,
   "metadata": {
    "id": "q40ohgdG7Vu-",
    "outputId": "f1d1ec5f-06cd-4f53-d711-b294fb387fb7",
    "slideshow": {
     "slide_type": "slide"
    }
   },
   "outputs": [],
   "source": [
    "# Lo anterior es equivalente a esto: \n",
    "grid = np.indices((3,3))\n",
    "\n",
    "i = 0\n",
    "k = 0\n",
    "grid[:,i,k]"
   ]
  },
  {
   "cell_type": "code",
   "execution_count": null,
   "metadata": {
    "id": "uAC9g2Wy7Vu-",
    "outputId": "270222a9-a0e3-4587-fc72-bc2f6c02b314",
    "slideshow": {
     "slide_type": "slide"
    }
   },
   "outputs": [],
   "source": [
    "# Y para qué sirve? Ejemplo. i == j\n",
    "diag_mask = grid[0,:,:] == grid[1,:,:]\n",
    "diag_mask"
   ]
  },
  {
   "cell_type": "code",
   "execution_count": null,
   "metadata": {
    "id": "MB48oewh7Vu_",
    "outputId": "e561b828-a5f3-44e2-cd28-a0016a355119",
    "slideshow": {
     "slide_type": "slide"
    }
   },
   "outputs": [],
   "source": [
    "# i >= j\n",
    "lower_diag_mask = grid[0,:,:] >= grid[1,:,:]\n",
    "lower_diag_mask"
   ]
  },
  {
   "cell_type": "code",
   "execution_count": null,
   "metadata": {
    "id": "BUPoXy3r7Vu_",
    "outputId": "90736b89-0554-41d0-b4c8-03728322212f"
   },
   "outputs": [],
   "source": [
    "# i <= j\n",
    "upper_diag_mask = grid[0,:,:] <= grid[1,:,:]\n",
    "upper_diag_mask"
   ]
  },
  {
   "cell_type": "code",
   "execution_count": null,
   "metadata": {
    "id": "WIqWI3ZI7Vu_",
    "outputId": "0d882be3-5035-4545-8fe1-1ed706093485",
    "slideshow": {
     "slide_type": "slide"
    }
   },
   "outputs": [],
   "source": [
    "a = np.random.rand(3,3)\n",
    "a"
   ]
  },
  {
   "cell_type": "code",
   "execution_count": null,
   "metadata": {
    "id": "Umx_FHMj7VvA",
    "outputId": "eba2cffe-98fa-4418-d5c9-9fc1a724a8c8",
    "slideshow": {
     "slide_type": "slide"
    }
   },
   "outputs": [],
   "source": [
    "a[diag_mask]"
   ]
  },
  {
   "cell_type": "code",
   "execution_count": null,
   "metadata": {
    "id": "u8QZbESn7VvA",
    "outputId": "dd132a21-3064-44e9-ab99-9ad1447d9423",
    "scrolled": true,
    "slideshow": {
     "slide_type": "slide"
    }
   },
   "outputs": [],
   "source": [
    "a[upper_diag_mask]"
   ]
  },
  {
   "cell_type": "code",
   "execution_count": null,
   "metadata": {
    "id": "8KjjndoA7VvA",
    "outputId": "73feb5b2-393e-4f70-ebcc-d45fea70f149",
    "slideshow": {
     "slide_type": "slide"
    }
   },
   "outputs": [],
   "source": [
    "a[lower_diag_mask]"
   ]
  },
  {
   "cell_type": "code",
   "execution_count": null,
   "metadata": {
    "id": "AnThHK7t7VvA",
    "outputId": "8368442d-fe99-42b0-99da-95d07ba3a584",
    "slideshow": {
     "slide_type": "slide"
    }
   },
   "outputs": [],
   "source": [
    "np.sum(a[diag_mask])"
   ]
  },
  {
   "cell_type": "code",
   "execution_count": null,
   "metadata": {
    "id": "FWdAEJpB7VvB",
    "outputId": "b3917350-2ef3-429b-9123-34f601ddedec",
    "slideshow": {
     "slide_type": "slide"
    }
   },
   "outputs": [],
   "source": [
    "a_diag = a\n",
    "a_diag"
   ]
  },
  {
   "cell_type": "code",
   "execution_count": null,
   "metadata": {
    "id": "PRUJYS2s7VvB",
    "slideshow": {
     "slide_type": "slide"
    }
   },
   "outputs": [],
   "source": [
    "a_diag[0][0] = 1"
   ]
  },
  {
   "cell_type": "code",
   "execution_count": null,
   "metadata": {
    "id": "YBtFx-vx7VvB",
    "outputId": "0f606990-4b74-48a8-8048-6063d26382ba",
    "scrolled": true,
    "slideshow": {
     "slide_type": "slide"
    }
   },
   "outputs": [],
   "source": [
    "a[0]"
   ]
  },
  {
   "cell_type": "markdown",
   "metadata": {
    "id": "6xMWQPmu7VvB",
    "slideshow": {
     "slide_type": "slide"
    }
   },
   "source": [
    "# 6. Broadcasting"
   ]
  },
  {
   "cell_type": "markdown",
   "metadata": {
    "id": "xMQqAabc7VvC",
    "slideshow": {
     "slide_type": "slide"
    }
   },
   "source": [
    "> The term broadcasting describes how numpy treats arrays with different shapes during arithmetic operations. \n",
    "> Subject to certain constraints, the smaller array is “broadcast” across the larger array so that they have \n",
    "> compatible shapes.\n",
    "\n",
    "Fuente: Broadcasting, SciPy.org.\n",
    "\n",
    "> In the context of deep learning, we also use some less conventional notation. \n",
    "> We allow the addition of matrix and a vector, yielding another matrix:\n",
    "> C = A + b, where Ci,j = Ai,j + bj. \n",
    "> In other words, the vector b is added to each row of the matrix. \n",
    "> This shorthand eliminates the need to define a matrix with b copied into each \n",
    "> row before doing the addition. This implicit copying of b to many locations \n",
    "> is called broadcasting.\n",
    "\n",
    "Fuente: Deep Learning (Adaptive Computation and Machine Learning series)"
   ]
  },
  {
   "cell_type": "markdown",
   "metadata": {
    "slideshow": {
     "slide_type": "slide"
    }
   },
   "source": [
    "## Regla de broadcasting\n",
    "\n",
    "> In order to broadcast, the size of the trailing axes for both arrays in an operation \n",
    "> must either be the same size or one of them must be one."
   ]
  },
  {
   "cell_type": "code",
   "execution_count": null,
   "metadata": {},
   "outputs": [],
   "source": [
    "a = np. array([[ 0.0, 0.0, 0.0],\n",
    "            [10.0,10.0,10.0],\n",
    "            [20.0,20.0,20.0],\n",
    "            [30.0,30.0,30.0]])"
   ]
  },
  {
   "cell_type": "code",
   "execution_count": null,
   "metadata": {},
   "outputs": [],
   "source": [
    "b = np.array([1.0,2.0,3.0])\n",
    "a + b"
   ]
  },
  {
   "cell_type": "markdown",
   "metadata": {
    "id": "nF7siRsi7VvC",
    "slideshow": {
     "slide_type": "slide"
    }
   },
   "source": [
    "## Bibliografía y Referencias\n",
    "\n",
    "- Sci-Py Lectures https://scipy-lectures.org/. Accedido: 25/01/2021\n",
    "- A Visual Intro to NumPy and Data Representation. http://jalammar.github.io/visual-numpy/. Accedido: 25/01/2021\n",
    "- [Array Broadcasting in numpy](https://scipy.github.io/old-wiki/pages/EricsBroadcastingDoc)"
   ]
  }
 ],
 "metadata": {
  "celltoolbar": "Slideshow",
  "colab": {
   "collapsed_sections": [
    "XqSKYFTG7Vux",
    "RHwQ2Rm07Vu0",
    "wW4hS_os7Vu2",
    "iBlgifIJ7Vu6",
    "nF7siRsi7VvC"
   ],
   "name": "02 - Introduccion a Numpy.ipynb",
   "provenance": []
  },
  "kernelspec": {
   "display_name": "Python 3",
   "language": "python",
   "name": "python3"
  },
  "language_info": {
   "codemirror_mode": {
    "name": "ipython",
    "version": 3
   },
   "file_extension": ".py",
   "mimetype": "text/x-python",
   "name": "python",
   "nbconvert_exporter": "python",
   "pygments_lexer": "ipython3",
   "version": "3.7.10"
  }
 },
 "nbformat": 4,
 "nbformat_minor": 4
}
